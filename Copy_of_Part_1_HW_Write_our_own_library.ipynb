{
  "nbformat": 4,
  "nbformat_minor": 0,
  "metadata": {
    "colab": {
      "name": "Copy of Part_1_HW_Write_our_own_library.ipynb",
      "provenance": [],
      "collapsed_sections": [],
      "toc_visible": true,
      "include_colab_link": true
    },
    "kernelspec": {
      "name": "python3",
      "display_name": "Python 3"
    }
  },
  "cells": [
    {
      "cell_type": "markdown",
      "metadata": {
        "id": "view-in-github",
        "colab_type": "text"
      },
      "source": [
        "<a href=\"https://colab.research.google.com/github/fedjkeee/Homework/blob/main/Copy_of_Part_1_HW_Write_our_own_library.ipynb\" target=\"_parent\"><img src=\"https://colab.research.google.com/assets/colab-badge.svg\" alt=\"Open In Colab\"/></a>"
      ]
    },
    {
      "cell_type": "markdown",
      "metadata": {
        "id": "-PkQ9hSoulSP"
      },
      "source": [
        "## Домашнее задание. Часть 1.\n",
        "\n",
        "- напишем свою собственную библиотеку\n",
        "\n",
        "Вего за эту часть ДЗ можно набрать максимум **11.5 баллов**. Разбиение баллов по каждой из задач представлено непосредственно перед текстом каждой задачи.\n",
        "\n",
        "**Дедлайн - пятница, 11.12.2020 в 23:59.**\n",
        "\n",
        "Дедлайн жесткий, сдача после дедлайна - 0 баллов за ДЗ."
      ]
    },
    {
      "cell_type": "markdown",
      "metadata": {
        "id": "raMUrDs_OUUp"
      },
      "source": [
        "Ссылка на ноутбук в колабе: https://colab.research.google.com/drive/1LgWtESFmiNW1WlVFCHKyNl_BxAWxoL3Z?usp=sharing"
      ]
    },
    {
      "cell_type": "markdown",
      "metadata": {
        "id": "DlJPKMxvBZDq"
      },
      "source": [
        "Допустим мы хотим написать фнкцию, которая складывает 2 числа и сохранить ее в отдельный .py файл. Пример:"
      ]
    },
    {
      "cell_type": "code",
      "metadata": {
        "colab": {
          "base_uri": "https://localhost:8080/"
        },
        "id": "YWxx_tJFBWXc",
        "outputId": "7b979b10-95f7-489e-e848-ba96ccaba635"
      },
      "source": [
        "%%writefile lib.py\n",
        "def summ(a1, b1):\n",
        "    return a1+b1"
      ],
      "execution_count": 22,
      "outputs": [
        {
          "output_type": "stream",
          "text": [
            "Overwriting lib.py\n"
          ],
          "name": "stdout"
        }
      ]
    },
    {
      "cell_type": "code",
      "metadata": {
        "id": "GpwqwV2XBWe0"
      },
      "source": [
        "from lib import summ"
      ],
      "execution_count": 23,
      "outputs": []
    },
    {
      "cell_type": "code",
      "metadata": {
        "colab": {
          "base_uri": "https://localhost:8080/"
        },
        "id": "PdSwrEkYud_1",
        "outputId": "898ef8de-ebd4-4fbe-ec31-e68a14d23891"
      },
      "source": [
        "summ(2,6)"
      ],
      "execution_count": 24,
      "outputs": [
        {
          "output_type": "execute_result",
          "data": {
            "text/plain": [
              "8"
            ]
          },
          "metadata": {
            "tags": []
          },
          "execution_count": 24
        }
      ]
    },
    {
      "cell_type": "markdown",
      "metadata": {
        "id": "lzVEq6dcB_B6"
      },
      "source": [
        "Попробуем запустить через \"терминал\""
      ]
    },
    {
      "cell_type": "code",
      "metadata": {
        "id": "GnvjY52dB9F0"
      },
      "source": [
        "!python3 lib.py"
      ],
      "execution_count": 25,
      "outputs": []
    },
    {
      "cell_type": "markdown",
      "metadata": {
        "id": "12k4C-iDCGD5"
      },
      "source": [
        "Ничего не происходит. А теперь добавим `if __name__ == \"__main__\"` в наш код и пересохраним файл lib.py"
      ]
    },
    {
      "cell_type": "code",
      "metadata": {
        "colab": {
          "base_uri": "https://localhost:8080/"
        },
        "id": "EXxDy4EoujyT",
        "outputId": "495dd25a-e787-4084-82b7-8dd8497b5234"
      },
      "source": [
        "%%writefile lib.py\n",
        "import sys\n",
        "\n",
        "a1 = float( sys.argv[1] ) # Считываем аргументы прямо из терминала\n",
        "b1 = float( sys.argv[2] ) # Считываем аргументы прямо из терминала\n",
        "\n",
        "def summ(a1, b1):\n",
        "    return a1+b1\n",
        "\n",
        "if __name__ == \"__main__\":\n",
        "    print(summ(a1, b1))\n"
      ],
      "execution_count": 26,
      "outputs": [
        {
          "output_type": "stream",
          "text": [
            "Overwriting lib.py\n"
          ],
          "name": "stdout"
        }
      ]
    },
    {
      "cell_type": "code",
      "metadata": {
        "colab": {
          "base_uri": "https://localhost:8080/"
        },
        "id": "9kg9IKcWuj1F",
        "outputId": "f8c9b665-dec2-4b72-ca68-7ada8278b0d4"
      },
      "source": [
        "!python3 lib.py 2 4"
      ],
      "execution_count": 27,
      "outputs": [
        {
          "output_type": "stream",
          "text": [
            "6.0\n"
          ],
          "name": "stdout"
        }
      ]
    },
    {
      "cell_type": "markdown",
      "metadata": {
        "id": "MEQd0OJnD4ut"
      },
      "source": [
        "# **Задание 1**\n",
        "\n",
        "Реализуйте следующие функции и сохраните их в библиотеку **my_math_lib.py** (пока без использования конструкции `if __name__ == \"__main__\"`)"
      ]
    },
    {
      "cell_type": "markdown",
      "metadata": {
        "id": "-irvYNmrD9FA"
      },
      "source": [
        "**1 point** \n",
        "1. **def deg_to_rad()**. Напишите программу на Python для преобразования градусов в радианы.  *(Note: Радиан - это стандартная единица измерения угла, используемая во многих областях математики. Измерение угла в радианах численно равно длине соответствующей дуги единичного круга; один радиан чуть меньше 57,3 градуса)* **1 point**\n",
        "\n",
        "**1 point** \n",
        "2. **def rad_to_def()**. Напишите программу Python для преобразования радианов в градусы.\n",
        "\n",
        "**1.5 point** \n",
        "3. **def discriminant()**. Напишите программу на Python для вычисления значения дискриминанта (вспоминаем квадратные уравнения). Входные данные три числа: x, y, z (учтите что корни могут быть комлЕксными!)\n",
        "\n",
        "**1.5 point** \n",
        "4. **def power_base_sum()**. Напишите программу на Python, чтобы вычислить сумму всех цифр основания в указанной степени.\n",
        "\n",
        "Пример: power_base_sum(2, 100)\n",
        "\n",
        "Выход: 115\n",
        "\n",
        "\n",
        "\n",
        "**2 point** \n",
        "5. **def magic_square()**. Напишите программу на Python для вычисления [магического квадрата](https://ru.wikipedia.org/wiki/Магический_квадрат)\n",
        "\n",
        "Note:\n",
        "\n",
        "Магический, или волшебный квадрат — это квадратная таблица , заполненная числами таким образом, что сумма чисел в каждой строке, каждом столбце и на обеих диагоналях одинакова. Сумма чисел в каждой строке, столбце и на диагоналях, называется магической константой, M.\n",
        "\n",
        "**1 point** \n",
        "6. **def mult_list()**. Напишите функцию Python для умножения всех чисел в массиве list(), (размер листа на входе произвольный)\n",
        "\n",
        "**1 point** \n",
        "7. **def create_list()**. Напишите функцию Python для создания и вывода списка (при помощи print()), в котором значения представляют собой квадрат чисел от 1 до 30 (оба включительно)."
      ]
    },
    {
      "cell_type": "markdown",
      "metadata": {
        "id": "97UP9nyWAd1-"
      },
      "source": [
        "### 1.   \r\n",
        "def deg_to_rad(). Напишите программу на Python для преобразования градусов в радианы. (Note: Радиан - это стандартная единица измерения угла, используемая во многих областях математики. Измерение угла в радианах численно равно длине соответствующей дуги единичного круга; один радиан чуть меньше 57,3 градуса) 1 point"
      ]
    },
    {
      "cell_type": "code",
      "metadata": {
        "id": "YcvXEEFsD8Pn",
        "colab": {
          "base_uri": "https://localhost:8080/"
        },
        "outputId": "17275d89-f427-45ee-fa6d-6b2effaeecf3"
      },
      "source": [
        "%%writefile  my_math_lib.py\r\n",
        "\r\n",
        "from math import pi\r\n",
        "def deg_to_rad(deg): #преобразование градусов в радианы\r\n",
        "  return (deg * pi)/180"
      ],
      "execution_count": 28,
      "outputs": [
        {
          "output_type": "stream",
          "text": [
            "Overwriting my_math_lib.py\n"
          ],
          "name": "stdout"
        }
      ]
    },
    {
      "cell_type": "markdown",
      "metadata": {
        "id": "lRp8o221Am4U"
      },
      "source": [
        "### 2\r\n",
        "def rad_to_def(). Напишите программу Python для преобразования радианов в градусы."
      ]
    },
    {
      "cell_type": "code",
      "metadata": {
        "id": "jcKtOU09AuHt",
        "colab": {
          "base_uri": "https://localhost:8080/"
        },
        "outputId": "25b74a78-54f3-412f-e590-eafda37267d9"
      },
      "source": [
        "%%writefile  -a my_math_lib.py\r\n",
        "\r\n",
        "def rad_to_deg(rad): #преобразования радианов в градусы.\r\n",
        "  return (180 * rad)/pi"
      ],
      "execution_count": 29,
      "outputs": [
        {
          "output_type": "stream",
          "text": [
            "Appending to my_math_lib.py\n"
          ],
          "name": "stdout"
        }
      ]
    },
    {
      "cell_type": "markdown",
      "metadata": {
        "id": "4o5asAB0BUXA"
      },
      "source": [
        "### 3\r\n",
        "def discriminant(). Напишите программу на Python для вычисления значения дискриминанта (вспоминаем квадратные уравнения). Входные данные три числа: x, y, z (учтите что корни могут быть комлЕксными!)"
      ]
    },
    {
      "cell_type": "code",
      "metadata": {
        "id": "KIqQyBsQBXi9",
        "colab": {
          "base_uri": "https://localhost:8080/"
        },
        "outputId": "1ed529fe-ebcc-4f16-9d4c-83dbc5be2871"
      },
      "source": [
        "%%writefile  -a my_math_lib.py\r\n",
        "\r\n",
        "def discriminant(x,y,z):\r\n",
        "  return y ** 2 - 4 * x * z"
      ],
      "execution_count": 30,
      "outputs": [
        {
          "output_type": "stream",
          "text": [
            "Appending to my_math_lib.py\n"
          ],
          "name": "stdout"
        }
      ]
    },
    {
      "cell_type": "markdown",
      "metadata": {
        "id": "eC3bkuGfGB2s"
      },
      "source": [
        "### 4\r\n",
        "def power_base_sum(). Напишите программу на Python, чтобы вычислить сумму всех цифр основания в указанной степени.\r\n",
        "Пример: power_base_sum(2, 100)\r\n",
        "\r\n",
        "Выход: 115"
      ]
    },
    {
      "cell_type": "code",
      "metadata": {
        "id": "o0gYT4lRGEwN",
        "colab": {
          "base_uri": "https://localhost:8080/"
        },
        "outputId": "d401ba51-5046-4f5f-bd07-1c9bac4fae8f"
      },
      "source": [
        "%%writefile  -a my_math_lib.py\r\n",
        "\r\n",
        "def power_base_sum(x,y):\r\n",
        "  return sum(int(digit) for digit in str(x ** y)) "
      ],
      "execution_count": 31,
      "outputs": [
        {
          "output_type": "stream",
          "text": [
            "Appending to my_math_lib.py\n"
          ],
          "name": "stdout"
        }
      ]
    },
    {
      "cell_type": "code",
      "metadata": {
        "id": "1LEbGEkeqvtv"
      },
      "source": [
        ""
      ],
      "execution_count": 31,
      "outputs": []
    },
    {
      "cell_type": "markdown",
      "metadata": {
        "id": "wgqMJ9XNBjCt"
      },
      "source": [
        "### 5\r\n",
        "def magic_square(). Напишите программу на Python для вычисления магического квадрата"
      ]
    },
    {
      "cell_type": "code",
      "metadata": {
        "colab": {
          "base_uri": "https://localhost:8080/"
        },
        "id": "3gVsBY_nqwry",
        "outputId": "7c183f55-8e3a-4306-c69b-3ba0bc151638"
      },
      "source": [
        "%%writefile  -a my_math_lib.py\r\n",
        "\r\n",
        "import numpy as np\r\n",
        "# Используется сиамский алгоритм для построения магического квадрата размером N (N- нечетное)\r\n",
        "# https://en.wikipedia.org/wiki/Siamese_method\r\n",
        "#\r\n",
        "# начиная с центрального квадрата первого ряда с цифрой 1 (или первым номером любой арифметической прогрессии), основное движение для заполнения квадратов идет по диагонали вверх и вправо ( ↗ ),\r\n",
        "# шаг за шагом. Когда ход покидает квадрат, он переносится в последнюю строку или первый столбец соответственно. \r\n",
        "# Если встречается заполненный прямоугольник, вместо этого нужно перемещаться на один прямоугольник вертикально вниз ( ↓ ), а затем продолжать, как раньше.\r\n",
        "\r\n",
        "def magic_square(n):\r\n",
        "\r\n",
        "    assert (n % 2 == 1),\"PLease use odd N\"\r\n",
        "    arr = np.zeros((n,n))\r\n",
        "    x = 0\r\n",
        "    y = int((n + 1) / 2 - 1)\r\n",
        "    arr[x][y] = 1\r\n",
        "\r\n",
        "    for i in range(2, n * n + 1):\r\n",
        "        x_old = x\r\n",
        "        y_old = y\r\n",
        "\r\n",
        "        if x == 0:\r\n",
        "            x = n - 1\r\n",
        "        else:\r\n",
        "            x -= 1\r\n",
        "\r\n",
        "        if y == n - 1:\r\n",
        "            y = 0\r\n",
        "        else:\r\n",
        "            y += 1\r\n",
        "\r\n",
        "        while arr[x][y] != 0:\r\n",
        "            if x == n - 1:\r\n",
        "                x = 0\r\n",
        "            else:\r\n",
        "                x = x_old + 1\r\n",
        "            y = y_old\r\n",
        "\r\n",
        "        arr[x][y] = i\r\n",
        "\r\n",
        "    for j in arr:\r\n",
        "        print(j)\r\n"
      ],
      "execution_count": 32,
      "outputs": [
        {
          "output_type": "stream",
          "text": [
            "Appending to my_math_lib.py\n"
          ],
          "name": "stdout"
        }
      ]
    },
    {
      "cell_type": "markdown",
      "metadata": {
        "id": "80jo9h4oEwXW"
      },
      "source": [
        "### 6\r\n",
        "def mult_list(). Напишите функцию Python для умножения всех чисел в массиве list(), (размер листа на входе произвольный)"
      ]
    },
    {
      "cell_type": "code",
      "metadata": {
        "colab": {
          "base_uri": "https://localhost:8080/"
        },
        "id": "AL3UIIuBE27U",
        "outputId": "f57bcb85-d758-474d-92d7-6be6bf62ae88"
      },
      "source": [
        "%%writefile  -a my_math_lib.py\r\n",
        "\r\n",
        "def mult_list(l):\r\n",
        "  res = 1\r\n",
        "  for i in l:\r\n",
        "    res*=i\r\n",
        "  return res"
      ],
      "execution_count": 33,
      "outputs": [
        {
          "output_type": "stream",
          "text": [
            "Appending to my_math_lib.py\n"
          ],
          "name": "stdout"
        }
      ]
    },
    {
      "cell_type": "markdown",
      "metadata": {
        "id": "mEg5UqHWFd75"
      },
      "source": [
        "### 7\r\n",
        "**def create_list()**. Напишите функцию Python для создания и вывода списка (при помощи print()), в котором значения представляют собой квадрат чисел от 1 до 30 (оба включительно)."
      ]
    },
    {
      "cell_type": "code",
      "metadata": {
        "colab": {
          "base_uri": "https://localhost:8080/"
        },
        "id": "FP_VeAJzFnkt",
        "outputId": "f792ae46-51e7-4374-9a71-610900749c2b"
      },
      "source": [
        "%%writefile  -a my_math_lib.py\r\n",
        "\r\n",
        "def create_list():\r\n",
        "  lst = [i*i for i in range(1,31)]\r\n",
        "  for i in lst:\r\n",
        "    print(i)\r\n"
      ],
      "execution_count": 34,
      "outputs": [
        {
          "output_type": "stream",
          "text": [
            "Appending to my_math_lib.py\n"
          ],
          "name": "stdout"
        }
      ]
    },
    {
      "cell_type": "markdown",
      "metadata": {
        "id": "cSdLK3ZSID3B"
      },
      "source": [
        "# **Задание 2**\n",
        "Импортируйте все методы из модуля my_math_lib.\n",
        "\n",
        " **0.25 point** \n",
        " - при помощи функции **def discriminant()** посчитайте дискриминант следующего уравнения: \n",
        " $x^{2}+3 x+4=0$\n",
        "\n",
        "**0.25 point** \n",
        " - постройте магический квадрат размера 5х5"
      ]
    },
    {
      "cell_type": "markdown",
      "metadata": {
        "id": "tZPYPzMfGAZT"
      },
      "source": [
        ""
      ]
    },
    {
      "cell_type": "code",
      "metadata": {
        "id": "k1Jhjs6FD8Sy"
      },
      "source": [
        "from my_math_lib import *"
      ],
      "execution_count": 35,
      "outputs": []
    },
    {
      "cell_type": "code",
      "metadata": {
        "id": "zjQVS7m8uj4J",
        "colab": {
          "base_uri": "https://localhost:8080/"
        },
        "outputId": "3987cbe4-ec16-4f84-8c7f-00c799f13245"
      },
      "source": [
        "discriminant(1,3,4)"
      ],
      "execution_count": 36,
      "outputs": [
        {
          "output_type": "execute_result",
          "data": {
            "text/plain": [
              "-7"
            ]
          },
          "metadata": {
            "tags": []
          },
          "execution_count": 36
        }
      ]
    },
    {
      "cell_type": "code",
      "metadata": {
        "colab": {
          "base_uri": "https://localhost:8080/"
        },
        "id": "J2qkyBdhJOVH",
        "outputId": "65e513cf-3e2e-493a-aaa5-4c2e5d745a9b"
      },
      "source": [
        "magic_square(5)"
      ],
      "execution_count": 37,
      "outputs": [
        {
          "output_type": "stream",
          "text": [
            "[17. 24.  1.  8. 15.]\n",
            "[23.  5.  7. 14. 16.]\n",
            "[ 4.  6. 13. 20. 22.]\n",
            "[10. 12. 19. 21.  3.]\n",
            "[11. 18. 25.  2.  9.]\n"
          ],
          "name": "stdout"
        }
      ]
    },
    {
      "cell_type": "markdown",
      "metadata": {
        "id": "1xqoQlZkId3s"
      },
      "source": [
        "# **Задание 3**\n",
        "\n",
        "**2 point**\n",
        "* Добавьте в вашу библиотеку конструкцию `if __name__ == \"__main__\"`, которая должна принимать одну из вышеперечисленных функций. \n",
        "* Важно! аргументы, подаваемые в функцию, должны подаваться напряму через терминал (как в примере)! Используйте для этого библиотеку `sys`"
      ]
    },
    {
      "cell_type": "code",
      "metadata": {
        "id": "CPMx4V4DJIVx",
        "colab": {
          "base_uri": "https://localhost:8080/"
        },
        "outputId": "1755297d-b1d8-4c61-c3bf-8bcc469c2394"
      },
      "source": [
        "%%writefile  -a my_math_lib.py\r\n",
        "\r\n",
        "import sys\r\n",
        "a = int( sys.argv[1] ) # Считываем аргументы прямо из терминала\r\n",
        "b = int( sys.argv[2] ) # Считываем аргументы прямо из терминала\r\n",
        "c = int( sys.argv[3] ) # Считываем аргументы прямо из терминала\r\n",
        "if __name__ == \"__main__\":\r\n",
        "    print(discriminant(a, b, c))"
      ],
      "execution_count": 38,
      "outputs": [
        {
          "output_type": "stream",
          "text": [
            "Appending to my_math_lib.py\n"
          ],
          "name": "stdout"
        }
      ]
    },
    {
      "cell_type": "code",
      "metadata": {
        "id": "RAeJ3p1BJX05",
        "colab": {
          "base_uri": "https://localhost:8080/"
        },
        "outputId": "bac17fb6-d663-4df5-8320-19d422997caa"
      },
      "source": [
        "# Пример вызова функции - Вы можете вызвать любую другую\n",
        "!python3 my_math_lib.py 3 4 5 # Например если в __main__ вы указали def discriminant()"
      ],
      "execution_count": 39,
      "outputs": [
        {
          "output_type": "stream",
          "text": [
            "-44\n"
          ],
          "name": "stdout"
        }
      ]
    },
    {
      "cell_type": "code",
      "metadata": {
        "id": "UDQ_wTJbJAS7"
      },
      "source": [
        ""
      ],
      "execution_count": 39,
      "outputs": []
    }
  ]
}