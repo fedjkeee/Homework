{
  "nbformat": 4,
  "nbformat_minor": 0,
  "metadata": {
    "colab": {
      "name": "Copy of HW_lessons_9-10.ipynb",
      "provenance": [],
      "collapsed_sections": [],
      "include_colab_link": true
    },
    "kernelspec": {
      "name": "python3",
      "display_name": "Python 3"
    }
  },
  "cells": [
    {
      "cell_type": "markdown",
      "metadata": {
        "id": "view-in-github",
        "colab_type": "text"
      },
      "source": [
        "<a href=\"https://colab.research.google.com/github/fedjkeee/Homework/blob/main/HW_Lession_9_10/HW_lessons_9_10.ipynb\" target=\"_parent\"><img src=\"https://colab.research.google.com/assets/colab-badge.svg\" alt=\"Open In Colab\"/></a>"
      ]
    },
    {
      "cell_type": "markdown",
      "metadata": {
        "id": "SgxdX4L0dSw7"
      },
      "source": [
        "# Домашнее задание"
      ]
    },
    {
      "cell_type": "markdown",
      "metadata": {
        "id": "piodEhR7orUF"
      },
      "source": [
        "Ноутбук в колаб: https://colab.research.google.com/drive/1UciedtsdZ5rhNuPhdQP1d3yBb-JOxN5T?usp=sharing"
      ]
    },
    {
      "cell_type": "markdown",
      "metadata": {
        "id": "r3_T-pcpnme8"
      },
      "source": [
        "**Дедлайн: 01.01.2021, 23:59**\n"
      ]
    },
    {
      "cell_type": "markdown",
      "metadata": {
        "id": "B2RmFtRDn5vy"
      },
      "source": [
        "Формат отчетности - jupyter notebook. Однако вычислять производные не обязательно в Markdown. Если вычисляете вручную, то дополнительно с ноутбуком, отправляйте pdf-файл с расписанным решением."
      ]
    },
    {
      "cell_type": "markdown",
      "metadata": {
        "id": "aCDx6dKzeEhp"
      },
      "source": [
        "### Пример реализации градиентного спуска: https://github.com/ddvika/Data-Science-School-2020/blob/main/lecture_9/gradient_methods.ipynb"
      ]
    },
    {
      "cell_type": "markdown",
      "metadata": {
        "id": "t-G1btbwoStu"
      },
      "source": [
        "# Задания"
      ]
    },
    {
      "cell_type": "markdown",
      "metadata": {
        "id": "B1XambpmoeIj"
      },
      "source": [
        "Перед выполнением ДЗ посмотрите на ноутбук, прикрепленный по ссылке выше. Там вы найдете реализацию градиентного спуска с постоянным и дробным шагом."
      ]
    },
    {
      "cell_type": "markdown",
      "metadata": {
        "id": "VnSTXgrueAp0"
      },
      "source": [
        "### Задание 1. [1 point]"
      ]
    },
    {
      "cell_type": "markdown",
      "metadata": {
        "id": "-XmQ1AO9f1Qz"
      },
      "source": [
        "Релизуйте градиентный спуск с постоянным шагом и с дробным шагом для функции\n",
        "$$\n",
        "y = x_{1}^{2}+5 x_{2}^{2}\n",
        "$$\n",
        "\n",
        "в произвольно выбранной Вами точке."
      ]
    },
    {
      "cell_type": "markdown",
      "metadata": {
        "id": "XAXdL_PDgYpS"
      },
      "source": [
        "Поэксперементируйте с разными значениями шага (скорости обучения), попробуйте хотя бы по 2-3 разных значения."
      ]
    },
    {
      "cell_type": "markdown",
      "metadata": {
        "id": "ucbvMBsdgOwV"
      },
      "source": [
        "### Задание 2. [3 points]\n",
        "\n",
        "Для функции из предыдущего задания реализуйте градиентный спуск, в котором значение шага (скорости обучения) будет изменяться по формуле циклического косинусного ожига. ( в англ. литературе - cosine annealing learning rate или cosine decay lr). \n",
        "\n",
        "Доп. литература:\n",
        "- Циклический косинусный отжиг https://habr.com/ru/post/332534/\n",
        "\n",
        "- Пример colise decay в библиотеке Pytorch:\n",
        "https://www.programmersought.com/article/12164650026/"
      ]
    },
    {
      "cell_type": "markdown",
      "metadata": {
        "id": "d2Non6JiiVoJ"
      },
      "source": [
        "### Задание 3. [0.75 point]\n",
        "Проверьте работу Вашего градиентного спуска с косинусным отжигом на произвольной функции ( полином должен быть не меньше 3-ьего порядка и задан в пространстве не меньше $R^3$)."
      ]
    },
    {
      "cell_type": "markdown",
      "metadata": {
        "id": "UpONErtji81D"
      },
      "source": [
        "### Задание 4.\n",
        "Случайная величина X задана следующей функцией распределения:\n",
        "$$\n",
        "f(x)=\\left\\{\\begin{array}{r}\n",
        "0 \\text { npu } x \\leq \\pi \\\\\n",
        "-\\cos x \\text { npu } \\pi<x \\leq \\frac{3}{2} \\pi \\\\\n",
        "\\text { 0 npu } x>\\frac{3}{2} \\pi\n",
        "\\end{array}\\right.\n",
        "$$\n",
        "\n",
        "1. Постройте данную функцию распределения при помощи библиотеки seaborn **[0.25 point]**\n",
        "2. Найдите плотность вероятности. **[1 point]**\n",
        "3. Постройте график полученной плотности вероятности **[0.25 point]**\n",
        "\n",
        "4. Определить вероятность попадания случайной величины X в интервал $\\left[\\pi, \\frac{5}{4} \\pi\\right]$ **[0.75 point]**\n",
        "\n",
        "5. Найти математическое ожидание и дисперсию случайной величины X . **[0.75 point]**\n",
        "\n",
        "Так как мы не проходили интегрирование, то в 4 и 5 пунктах можете использовать\n",
        "wolfram alpha (https://www.wolframalpha.com) для интегрирования. Однако 2ой пункт задания (на нахождение производной) должен быть расписан!"
      ]
    },
    {
      "cell_type": "markdown",
      "metadata": {
        "id": "-LrqILMHkgTd"
      },
      "source": [
        "### Задание 5 [1.5 point]\n",
        "\n",
        " Случайная величина Х задана функцией распределения F(x).\n",
        "\n",
        " $$F(x)=\\left\\{\\begin{array}{c}0, x \\leq 1 \\\\ x-1,1<x \\leq 2 \\\\ 1, x>2\\end{array}\\right.$$\n",
        "\n",
        " 1. Является ли случайная величина Х непрерывной?\n",
        "\n",
        " 2. имеет ли случайная величина Х плотность вероятности f(X)? Если имеет, найти ее. \n",
        " 3. постройте графики f(X) и F(X), если такое возможно.\n"
      ]
    },
    {
      "cell_type": "markdown",
      "metadata": {
        "id": "xzQy9iYWmGD5"
      },
      "source": [
        "### Задание 6\n",
        "\n",
        "Рассмотрим несбалансированный набор данных с соотношением меньшего класса к большему 1: 100, где 100 экземпляров принадлежит меньшему классу, а 10 000 большему.\n",
        "\n",
        "Модель ML делает прогнозы и предсказывает 120 примеров как принадлежащих к классу меньшинства, 90 из которых верны, а 30 - неверны.\n",
        "\n",
        "Найти:\n",
        "\n",
        "- Precision **[0.5 point]**\n",
        "- Recall **[0.5 point]**\n",
        "- $F_1$ метрику **[0.5 point]**"
      ]
    },
    {
      "cell_type": "code",
      "metadata": {
        "id": "dnkSjI5tdWJe"
      },
      "source": [
        ""
      ],
      "execution_count": 2,
      "outputs": []
    },
    {
      "cell_type": "code",
      "metadata": {
        "id": "Mye_Q-jgdP0g"
      },
      "source": [
        "import numpy as np\r\n",
        "import seaborn as sns\r\n",
        "import matplotlib.pyplot as plt\r\n",
        "%matplotlib inline"
      ],
      "execution_count": 3,
      "outputs": []
    },
    {
      "cell_type": "markdown",
      "metadata": {
        "id": "gnQWVzK37PXJ"
      },
      "source": [
        "### 1\r\n",
        "Релизуйте градиентный спуск с постоянным шагом и с дробным шагом для функции\r\n",
        "$$\r\n",
        "y = x_{1}^{2}+5 x_{2}^{2}\r\n",
        "$$\r\n",
        "\r\n",
        "в произвольно выбранной Вами точке."
      ]
    },
    {
      "cell_type": "code",
      "metadata": {
        "id": "7ijNr5NF7PzG"
      },
      "source": [
        "def f(x):\r\n",
        "    return x[0]**2+5*x[1]**2\r\n",
        "    \r\n",
        "def grad_f(x):\r\n",
        "    return np.array([2*x[0], 10*x[1]])"
      ],
      "execution_count": 4,
      "outputs": []
    },
    {
      "cell_type": "code",
      "metadata": {
        "id": "F8iDI0tw9RJd"
      },
      "source": [
        "x = np.linspace(-6, 6, 30)\r\n",
        "y = np.linspace(-6, 6, 30)\r\n",
        "\r\n",
        "X, Y = np.meshgrid(x, y)\r\n",
        "Z = f([X, Y])"
      ],
      "execution_count": 5,
      "outputs": []
    },
    {
      "cell_type": "code",
      "metadata": {
        "colab": {
          "base_uri": "https://localhost:8080/",
          "height": 248
        },
        "id": "UxnI1dsT9QaV",
        "outputId": "2177b203-36d1-4917-a151-3c1281cd552f"
      },
      "source": [
        "fig = plt.figure()\r\n",
        "ax = plt.axes(projection='3d')\r\n",
        "ax.contour3D(X, Y, Z, 50)\r\n",
        "ax.set_xlabel('x')\r\n",
        "ax.set_ylabel('y')\r\n",
        "ax.set_zlabel('z');"
      ],
      "execution_count": 6,
      "outputs": [
        {
          "output_type": "display_data",
          "data": {
            "image/png": "[encoded data removed]",
            "text/plain": [
              "<Figure size 432x288 with 1 Axes>"
            ]
          },
          "metadata": {
            "tags": [],
            "needs_background": "light"
          }
        }
      ]
    },
    {
      "cell_type": "markdown",
      "metadata": {
        "id": "JzcKBJU_7pJZ"
      },
      "source": [
        "Градиентный спуск с постоянным шагом"
      ]
    },
    {
      "cell_type": "code",
      "metadata": {
        "id": "YzcEgqc67kUX"
      },
      "source": [
        "def grad_descent_const_step(x = np.array([0, 0]), alpha = 0.001, epsilon = 0.05):\r\n",
        "    grad = grad_f(x)\r\n",
        "    n = 0\r\n",
        "    check = 0\r\n",
        "    while (np.linalg.norm(grad) > epsilon) or (check < 3):\r\n",
        "        x = x - alpha*grad\r\n",
        "        grad = grad_f(x)\r\n",
        "        n+=1\r\n",
        "        if (np.linalg.norm(grad) <= epsilon): check +=1\r\n",
        "    print(\"Градиентный спуск с постоянным шагом выполнил {} шагов\".format(n))\r\n",
        "    print(\"Точка с координатами х1 = {}, x2 = {}\".format(x[0], x[1]))\r\n",
        "    return x"
      ],
      "execution_count": 7,
      "outputs": []
    },
    {
      "cell_type": "code",
      "metadata": {
        "colab": {
          "base_uri": "https://localhost:8080/"
        },
        "id": "QnPS1PdO7skG",
        "outputId": "fa6c6a8c-e97b-4377-e105-14974933c5b3"
      },
      "source": [
        "#alpha 0.1\r\n",
        "grad_descent_const_step(x=[1,1],alpha=0.1)"
      ],
      "execution_count": 8,
      "outputs": [
        {
          "output_type": "stream",
          "text": [
            "Градиентный спуск с постоянным шагом выполнил 19 шагов\n",
            "Точка с координатами х1 = 0.014411518807585589, x2 = 0.0\n"
          ],
          "name": "stdout"
        },
        {
          "output_type": "execute_result",
          "data": {
            "text/plain": [
              "array([0.01441152, 0.        ])"
            ]
          },
          "metadata": {
            "tags": []
          },
          "execution_count": 8
        }
      ]
    },
    {
      "cell_type": "code",
      "metadata": {
        "colab": {
          "base_uri": "https://localhost:8080/"
        },
        "id": "DCdaZe0F-AwW",
        "outputId": "84cb3c41-7362-46d9-9af5-509793822ad0"
      },
      "source": [
        "#alpha 0.01\r\n",
        "grad_descent_const_step(x=[1,1],alpha=0.01)"
      ],
      "execution_count": 9,
      "outputs": [
        {
          "output_type": "stream",
          "text": [
            "Градиентный спуск с постоянным шагом выполнил 185 шагов\n",
            "Точка с координатами х1 = 0.02381354235199539, x2 = 3.426606593921724e-09\n"
          ],
          "name": "stdout"
        },
        {
          "output_type": "execute_result",
          "data": {
            "text/plain": [
              "array([2.38135424e-02, 3.42660659e-09])"
            ]
          },
          "metadata": {
            "tags": []
          },
          "execution_count": 9
        }
      ]
    },
    {
      "cell_type": "code",
      "metadata": {
        "colab": {
          "base_uri": "https://localhost:8080/"
        },
        "id": "qAAUiJXT-lRA",
        "outputId": "d987b656-c7d0-46d4-8517-fb55bec52359"
      },
      "source": [
        "#alpha 0.001\r\n",
        "grad_descent_const_step(x=[1,1],alpha=0.001)"
      ],
      "execution_count": 10,
      "outputs": [
        {
          "output_type": "stream",
          "text": [
            "Градиентный спуск с постоянным шагом выполнил 1845 шагов\n",
            "Точка с координатами х1 = 0.024879902563127755, x2 = 8.849811746717511e-09\n"
          ],
          "name": "stdout"
        },
        {
          "output_type": "execute_result",
          "data": {
            "text/plain": [
              "array([2.48799026e-02, 8.84981175e-09])"
            ]
          },
          "metadata": {
            "tags": []
          },
          "execution_count": 10
        }
      ]
    },
    {
      "cell_type": "markdown",
      "metadata": {
        "id": "KOKI5Sef9tt1"
      },
      "source": [
        "Градиентный спуск с дроблением шага"
      ]
    },
    {
      "cell_type": "code",
      "metadata": {
        "id": "YeDp_Uhw8egn"
      },
      "source": [
        "def grad_descent_step_splitting(x = np.array([0, 0]), alpha = 1, epsilon = 0.05, ksi = 0.5, lambda_d = 0.35):\r\n",
        "    grad = grad_f(x)\r\n",
        "    n = 0\r\n",
        "    n_alpha = 0\r\n",
        "    alpha_k = alpha\r\n",
        "    x_k0 = x\r\n",
        "    check = 0\r\n",
        "    while np.linalg.norm(grad) > epsilon or check < 3:\r\n",
        "        grad = grad_f(x_k0)\r\n",
        "        x_k1 = x_k0 - alpha_k*grad\r\n",
        "        while f(x_k1) - f(x_k0) > - alpha_k * ksi * (np.linalg.norm(grad)**2):\r\n",
        "            alpha_k *= lambda_d\r\n",
        "            x_k1 = x_k0 - alpha_k*grad\r\n",
        "            n_alpha+=1\r\n",
        "        x_k0 = x_k0 - alpha_k*grad\r\n",
        "        alpha_k = alpha\r\n",
        "        n+=1\r\n",
        "        if (np.linalg.norm(grad) <= epsilon): check +=1\r\n",
        "    x = x_k0\r\n",
        "    print(\"Градиентный спуск с дроблением шага выполнил {} шагов\".format(n))\r\n",
        "    print(\"Выполнено {} итераций дробления шага\".format(n_alpha))\r\n",
        "    print(\"Точка с координатами х1 = {}, x2 = {}\".format(x[0], x[1]))\r\n",
        "    return x"
      ],
      "execution_count": 11,
      "outputs": []
    },
    {
      "cell_type": "code",
      "metadata": {
        "colab": {
          "base_uri": "https://localhost:8080/"
        },
        "id": "bGHB-eJX9v3W",
        "outputId": "65cb563f-77f1-435f-8fae-54d8dca27146"
      },
      "source": [
        "#alpha=0.1\r\n",
        "grad_descent_step_splitting([1,1], alpha=0.1)"
      ],
      "execution_count": 12,
      "outputs": [
        {
          "output_type": "stream",
          "text": [
            "Градиентный спуск с дроблением шага выполнил 20 шагов\n",
            "Выполнено 0 итераций дробления шага\n",
            "Точка с координатами х1 = 0.01152921504606847, x2 = 0.0\n"
          ],
          "name": "stdout"
        },
        {
          "output_type": "execute_result",
          "data": {
            "text/plain": [
              "array([0.01152922, 0.        ])"
            ]
          },
          "metadata": {
            "tags": []
          },
          "execution_count": 12
        }
      ]
    },
    {
      "cell_type": "code",
      "metadata": {
        "colab": {
          "base_uri": "https://localhost:8080/"
        },
        "id": "0M9ebLvi90-W",
        "outputId": "5d403831-d2e1-4eec-f336-902e42e2c888"
      },
      "source": [
        "#alpha=0.01\r\n",
        "grad_descent_step_splitting([1,1], alpha=0.01)"
      ],
      "execution_count": 13,
      "outputs": [
        {
          "output_type": "stream",
          "text": [
            "Градиентный спуск с дроблением шага выполнил 186 шагов\n",
            "Выполнено 0 итераций дробления шага\n",
            "Точка с координатами х1 = 0.023337271504955483, x2 = 3.0839459345295514e-09\n"
          ],
          "name": "stdout"
        },
        {
          "output_type": "execute_result",
          "data": {
            "text/plain": [
              "array([2.33372715e-02, 3.08394593e-09])"
            ]
          },
          "metadata": {
            "tags": []
          },
          "execution_count": 13
        }
      ]
    },
    {
      "cell_type": "code",
      "metadata": {
        "colab": {
          "base_uri": "https://localhost:8080/"
        },
        "id": "USOzhMgK-xt3",
        "outputId": "61fa9597-b7a2-4901-beea-d8f8443282bd"
      },
      "source": [
        "#alpha=0.001\r\n",
        "grad_descent_step_splitting([1,1], alpha=0.001)"
      ],
      "execution_count": 14,
      "outputs": [
        {
          "output_type": "stream",
          "text": [
            "Градиентный спуск с дроблением шага выполнил 1846 шагов\n",
            "Выполнено 0 итераций дробления шага\n",
            "Точка с координатами х1 = 0.0248301427580015, x2 = 8.761313629250336e-09\n"
          ],
          "name": "stdout"
        },
        {
          "output_type": "execute_result",
          "data": {
            "text/plain": [
              "array([2.48301428e-02, 8.76131363e-09])"
            ]
          },
          "metadata": {
            "tags": []
          },
          "execution_count": 14
        }
      ]
    },
    {
      "cell_type": "markdown",
      "metadata": {
        "id": "QO2zT9GQEItj"
      },
      "source": [
        "### 2\r\n",
        " Для функции из предыдущего задания реализуйте градиентный спуск, в котором значение шага (скорости обучения) будет изменяться по формуле циклического косинусного ожига. ( в англ. литературе - cosine annealing learning rate или cosine decay lr)."
      ]
    },
    {
      "cell_type": "markdown",
      "metadata": {
        "id": "l0cdMxYxN0oh"
      },
      "source": [
        "Из статьи (https://arxiv.org/pdf/1704.00109.pdf)\r\n",
        "$$ \\alpha(t) = \\frac{\\alpha_0}{2}(cos(\\frac{\\pi mod(t-1,[T/M])}{[T/M]})+1) $$,\r\n",
        "где t- текущая итерация, T- общее кол-во итераций, M- кол-во циклов\r\n",
        "\r\n"
      ]
    },
    {
      "cell_type": "code",
      "metadata": {
        "id": "VLtmrJRqEBHn"
      },
      "source": [
        "def cos_decay_lr(learning_rate_base,t,t_total=500,M=10):\r\n",
        "  learning_rate = 0.5 * learning_rate_base * (1 + np.cos(\r\n",
        "      ((np.pi * np.mod((t),int(t_total/M)))/int(t_total/M))\r\n",
        "      ))\r\n",
        "  return learning_rate\r\n",
        "\r\n",
        "\r\n",
        "def grad_cosine_decay_lr(x = np.array([0, 0]), alpha = 0.1, t_total =500, M=10):\r\n",
        "    grad = grad_f(x)\r\n",
        "    lr=alpha\r\n",
        "    lr_all=[] # сохраним значения learning rate\r\n",
        "    X = [] # будем сохранять значение X в конце каждого цикла\r\n",
        "    for t in range (0,t_total):\r\n",
        "      if np.mod(t,int(t_total/M)) == t_total/M -1 or (t == t_total-1):\r\n",
        "        x = x - lr*grad\r\n",
        "        grad = grad_f(x)\r\n",
        "        X.append(x)\r\n",
        "        lr=alpha # сбрасываем learning rate в конце каждого цикла M\r\n",
        "        lr_all.append(lr)\r\n",
        "      else:\r\n",
        "        x = x - lr*grad\r\n",
        "        grad = grad_f(x)\r\n",
        "        lr = cos_decay_lr(lr,t)\r\n",
        "        lr_all.append(lr)\r\n",
        "    return X,lr_all\r\n",
        "    \r\n"
      ],
      "execution_count": 15,
      "outputs": []
    },
    {
      "cell_type": "code",
      "metadata": {
        "id": "skczUG7mEHP5"
      },
      "source": [
        "#Выполним градиентный спуск\r\n",
        "X,lr_all = grad_cosine_decay_lr([1,1],alpha=0.09)"
      ],
      "execution_count": 16,
      "outputs": []
    },
    {
      "cell_type": "code",
      "metadata": {
        "colab": {
          "base_uri": "https://localhost:8080/"
        },
        "id": "_9aJWSnlYv2m",
        "outputId": "b7076cbd-a4ca-4c60-b999-f7e0c69dc96c"
      },
      "source": [
        "# координаты точек в конце каждого цикла\r\n",
        "for x in X:\r\n",
        "  print(\"Точка с координатами х1 = {}, x2 = {}\".format(x[0], x[1]))"
      ],
      "execution_count": 17,
      "outputs": [
        {
          "output_type": "stream",
          "text": [
            "Точка с координатами х1 = 0.06751042626781348, x2 = 1.0574283055761104e-11\n",
            "Точка с координатами х1 = 0.004557657654861879, x2 = 1.1181546214335663e-22\n",
            "Точка с координатами х1 = 0.0003076894110624885, x2 = 1.182368346714597e-33\n",
            "Точка с координатами х1 = 2.0772243298921073e-05, x2 = 1.2502697574332472e-44\n",
            "Точка с координатами х1 = 1.4023429996488936e-06, x2 = 1.3220706311156964e-55\n",
            "Точка с координатами х1 = 9.467277367998095e-08, x2 = 1.3979949073126129e-66\n",
            "Точка с координатами х1 = 6.391399307091744e-09, x2 = 1.4782793860436106e-77\n",
            "Точка с координатами х1 = 4.314860916695711e-10, x2 = 1.563174466352187e-88\n",
            "Точка с координатами х1 = 2.912980997724556e-11, x2 = 1.6529449272746357e-99\n",
            "Точка с координатами х1 = 1.9665658886642537e-12, x2 = 1.7478707536586487e-110\n"
          ],
          "name": "stdout"
        }
      ]
    },
    {
      "cell_type": "code",
      "metadata": {
        "colab": {
          "base_uri": "https://localhost:8080/",
          "height": 298
        },
        "id": "hiA3gJ-VHZdZ",
        "outputId": "4e5bae3f-dd1a-4c93-d0ff-46545a6ff3a8"
      },
      "source": [
        "#посмотрим как менялась скорость обучения\r\n",
        "plt.figure(figsize=(6,4))\r\n",
        "plt.title('Learning rate')\r\n",
        "plt.plot(range(0,500),lr_all)"
      ],
      "execution_count": 18,
      "outputs": [
        {
          "output_type": "execute_result",
          "data": {
            "text/plain": [
              "[<matplotlib.lines.Line2D at 0x7fa1de327358>]"
            ]
          },
          "metadata": {
            "tags": []
          },
          "execution_count": 18
        },
        {
          "output_type": "display_data",
          "data": {
            "image/png": "[encoded data removed]",
            "text/plain": [
              "<Figure size 432x288 with 1 Axes>"
            ]
          },
          "metadata": {
            "tags": [],
            "needs_background": "light"
          }
        }
      ]
    },
    {
      "cell_type": "markdown",
      "metadata": {
        "id": "oWi-uICxab7J"
      },
      "source": [
        "### 3\r\n",
        "Проверьте работу Вашего градиентного спуска с косинусным отжигом на произвольной функции ( полином должен быть не меньше 3-ьего порядка и задан в пространстве не меньше $R^3$)."
      ]
    },
    {
      "cell_type": "markdown",
      "metadata": {
        "id": "eJGE-n5LeVFc"
      },
      "source": [
        "$$ y = 2x_1^3+3x_2^2+2x_3^2+10$$"
      ]
    },
    {
      "cell_type": "code",
      "metadata": {
        "id": "bWGhkTx9a1Mq"
      },
      "source": [
        "def f(x):\r\n",
        "    return 2*x[0]**3+3*x[1]**2+x[2]**2+10\r\n",
        "def grad_f(x):\r\n",
        "    return np.array([6*x[0]**2, 6*x[1],2*x[2]])"
      ],
      "execution_count": 19,
      "outputs": []
    },
    {
      "cell_type": "code",
      "metadata": {
        "id": "NQ73rKMUbBVi"
      },
      "source": [
        "X,lr_all = grad_cosine_decay_lr([1,1,1],alpha=0.1,t_total=300,M=5)"
      ],
      "execution_count": 20,
      "outputs": []
    },
    {
      "cell_type": "code",
      "metadata": {
        "colab": {
          "base_uri": "https://localhost:8080/"
        },
        "id": "m4eOFx0ILso8",
        "outputId": "285d887d-80b9-40f8-b341-e0313bca1a6d"
      },
      "source": [
        "# координаты точек в конце каждого цикла\r\n",
        "for x in X:\r\n",
        "  print(\"Точка с координатами х1 = {}, x2 = {}, x3 = {}\".format(x[0], x[1],x[2]))"
      ],
      "execution_count": 21,
      "outputs": [
        {
          "output_type": "stream",
          "text": [
            "Точка с координатами х1 = 0.09044135218891429, x2 = 9.183737190333415e-06, x3 = 0.04862171980709657\n",
            "Точка с координатами х1 = 0.06832349695315185, x2 = 1.010604578547552e-07, x3 = 0.014080721488459551\n",
            "Точка с координатами х1 = 0.06162865766153794, x2 = 1.3364323462040007e-08, x3 = 0.008092626848591989\n",
            "Точка с координатами х1 = 0.05830907451493546, x2 = 3.8611969257678686e-09, x3 = 0.005845962689582252\n",
            "Точка с координатами х1 = 0.05607275864983649, x2 = 1.4490753835476116e-09, x3 = 0.004580190486976782\n"
          ],
          "name": "stdout"
        }
      ]
    },
    {
      "cell_type": "markdown",
      "metadata": {
        "id": "x00yXpjTSNBx"
      },
      "source": [
        "###  4\r\n",
        "Случайная величина X задана следующей функцией распределения:\r\n",
        "$$\r\n",
        "f(x)=\\left\\{\\begin{array}{r}\r\n",
        "0 \\text { npu } x \\leq \\pi \\\\\r\n",
        "-\\cos x \\text { npu } \\pi<x \\leq \\frac{3}{2} \\pi \\\\\r\n",
        "\\text { 0 npu } x>\\frac{3}{2} \\pi\r\n",
        "\\end{array}\\right.\r\n",
        "$$\r\n",
        "\r\n",
        "1. Постройте данную функцию распределения при помощи библиотеки seaborn **[0.25 point]**\r\n",
        "2. Найдите плотность вероятности. **[1 point]**\r\n",
        "3. Постройте график полученной плотности вероятности **[0.25 point]**\r\n",
        "\r\n",
        "4. Определить вероятность попадания случайной величины X в интервал $\\left[\\pi, \\frac{5}{4} \\pi\\right]$ **[0.75 point]**\r\n",
        "\r\n",
        "5. Найти математическое ожидание и дисперсию случайной величины X . **[0.75 point]**\r\n",
        "\r\n",
        "Так как мы не проходили интегрирование, то в 4 и 5 пунктах можете использовать\r\n",
        "wolfram alpha (https://www.wolframalpha.com) для интегрирования. Однако 2ой пункт задания (на нахождение производной) должен быть расписан!"
      ]
    },
    {
      "cell_type": "markdown",
      "metadata": {
        "id": "PEII7LCbEJOZ"
      },
      "source": [
        "В задании опечатка, дана плотность вероятности.\r\n",
        "($$\\text{Функция распределения не отвечает  свойствам функции распределения:\r\n",
        "она убывает на отрезке от }\\pi \\text{до} \\frac{3\\pi}{2}\\text{,\r\n",
        "предел при x->}\\infty \\text{ равен 0 и в точке} \\pi \\text{- разрыв}$$ )"
      ]
    },
    {
      "cell_type": "markdown",
      "metadata": {
        "id": "CHy5m641XG2F"
      },
      "source": [
        "##### 1. Постройте данную ~~функцию распределения~~ плотность вероятности при помощи библиотеки seaborn"
      ]
    },
    {
      "cell_type": "code",
      "metadata": {
        "id": "86HGDdpVSKMY"
      },
      "source": [
        "def f(x):\r\n",
        "  return [0 if (i <= np.pi or i > 3/2*np.pi)  else -np.cos(i) for i in x]"
      ],
      "execution_count": 31,
      "outputs": []
    },
    {
      "cell_type": "code",
      "metadata": {
        "id": "HTM2XlNoshCP"
      },
      "source": [
        "x = np.linspace(np.pi/2,2*np.pi,100)"
      ],
      "execution_count": 32,
      "outputs": []
    },
    {
      "cell_type": "code",
      "metadata": {
        "colab": {
          "base_uri": "https://localhost:8080/",
          "height": 346
        },
        "id": "dE4UZPqWSLa3",
        "outputId": "3ef9c5b3-21d8-484b-f59b-8ea95601b742"
      },
      "source": [
        "sns.lineplot(x=x,y=f(x)).set(title='Плотность вероятности', xlabel='x', ylabel='f(x)')"
      ],
      "execution_count": 33,
      "outputs": [
        {
          "output_type": "execute_result",
          "data": {
            "text/plain": [
              "[Text(0, 0.5, 'f(x)'),\n",
              " Text(0.5, 0, 'x'),\n",
              " Text(0.5, 1.0, 'Плотность вероятности')]"
            ]
          },
          "metadata": {
            "tags": []
          },
          "execution_count": 33
        },
        {
          "output_type": "display_data",
          "data": {
            "image/png": "[encoded data removed]",
            "text/plain": [
              "<Figure size 432x288 with 1 Axes>"
            ]
          },
          "metadata": {
            "tags": [],
            "needs_background": "light"
          }
        }
      ]
    },
    {
      "cell_type": "markdown",
      "metadata": {
        "id": "HnpGqV-x2lhb"
      },
      "source": [
        ""
      ]
    },
    {
      "cell_type": "markdown",
      "metadata": {
        "id": "NKuCKIY_XANf"
      },
      "source": [
        "###### 2. Найдите функциюю распределения"
      ]
    },
    {
      "cell_type": "markdown",
      "metadata": {
        "id": "QG0p3WxjXdM-"
      },
      "source": [
        "$$\r\n",
        "F(x)=\r\n",
        "\\left\\{\\begin{array}{r}\r\n",
        "0 \\text { npu } x \\leq \\pi \\\\\r\n",
        "-\\sin x \\text { npu } \\pi<x \\leq \\frac{3}{2} \\pi \\\\\r\n",
        "\\text { 1 npu } x>\\frac{3}{2} \\pi\r\n",
        "\\end{array}\\right.\r\n",
        "$$"
      ]
    },
    {
      "cell_type": "markdown",
      "metadata": {
        "id": "qYLSoTs8ZesP"
      },
      "source": [
        "##### 3. Постройте график полученной ~~плотности вероятности~~ функции распределения"
      ]
    },
    {
      "cell_type": "code",
      "metadata": {
        "id": "a6VXFhWCX1NX"
      },
      "source": [
        "def f(x):\r\n",
        "  return [0 if i <= np.pi else 1 if i > 3/2*np.pi  else -np.sin(i) for i in x]"
      ],
      "execution_count": 34,
      "outputs": []
    },
    {
      "cell_type": "code",
      "metadata": {
        "colab": {
          "base_uri": "https://localhost:8080/",
          "height": 346
        },
        "id": "PJX7JyZFYXWP",
        "outputId": "b912b0be-b8b5-4525-c6cc-bc3fb207370b"
      },
      "source": [
        "x = np.linspace(np.pi/2,2*np.pi,100)\r\n",
        "sns.lineplot(x=x,y=f(x)).set(title=' Функция распределения', xlabel='x', ylabel='f(x)')"
      ],
      "execution_count": 36,
      "outputs": [
        {
          "output_type": "execute_result",
          "data": {
            "text/plain": [
              "[Text(0, 0.5, 'f(x)'),\n",
              " Text(0.5, 0, 'x'),\n",
              " Text(0.5, 1.0, ' Функция распределения')]"
            ]
          },
          "metadata": {
            "tags": []
          },
          "execution_count": 36
        },
        {
          "output_type": "display_data",
          "data": {
            "image/png": "[encoded data removed]",
            "text/plain": [
              "<Figure size 432x288 with 1 Axes>"
            ]
          },
          "metadata": {
            "tags": [],
            "needs_background": "light"
          }
        }
      ]
    },
    {
      "cell_type": "markdown",
      "metadata": {
        "id": "87U3pC9XZYMh"
      },
      "source": [
        "##### 4. Определить вероятность попадания случайной величины X в интервал $\\left[\\pi, \\frac{5}{4} \\pi\\right]$ **[0.75 point]**"
      ]
    },
    {
      "cell_type": "markdown",
      "metadata": {
        "id": "iXUENZ52ciXz"
      },
      "source": [
        "$$ P(\\pi \\leq X \\leq \\frac{5}{4} \\pi) =F(\\frac{5}{4} \\pi)-F(\\pi)= -\\sin(\\frac{5}{4} \\pi) \\approx 0.707 $$"
      ]
    },
    {
      "cell_type": "code",
      "metadata": {
        "colab": {
          "base_uri": "https://localhost:8080/"
        },
        "id": "2kDTE1mLFnkT",
        "outputId": "d05116bd-9db2-43f6-f2a0-c667972643b1"
      },
      "source": [
        "np.cos(3*np.pi/2)"
      ],
      "execution_count": 49,
      "outputs": [
        {
          "output_type": "execute_result",
          "data": {
            "text/plain": [
              "-1.8369701987210297e-16"
            ]
          },
          "metadata": {
            "tags": []
          },
          "execution_count": 49
        }
      ]
    },
    {
      "cell_type": "markdown",
      "metadata": {
        "id": "L5_iWTTWfOof"
      },
      "source": [
        "##### 5. Найти математическое ожидание и дисперсию случайной величины X ."
      ]
    },
    {
      "cell_type": "markdown",
      "metadata": {
        "id": "SY8P6SdVgd0z"
      },
      "source": [
        "$$ M(x) = \\int_{-\\infty}^\\pi x 0 dx + \\int_{\\pi}^\\frac{3 \\pi}{2} x (-\\cos(x))dx+\\int_{\\frac{3\\pi}{2}}^\\infty x  0 dx= (*)\r\n",
        "$$\r\n",
        "\r\n"
      ]
    },
    {
      "cell_type": "markdown",
      "metadata": {
        "id": "vDAOiQ_43Sfb"
      },
      "source": [
        "$$\r\n",
        " U=x,\r\n",
        "dv=\\cos(x) dx,\r\n",
        "du=dx, v=\\sin(x)\r\n",
        "$$"
      ]
    },
    {
      "cell_type": "markdown",
      "metadata": {
        "id": "om58EOLy3URu"
      },
      "source": [
        "$$(*)=-x\\sin(x)-\\cos(x)\\rvert_{\\pi}^{\\frac{3\\pi}{2}}=\\frac{3\\pi}{2} -1 \\approx 3.7124 $$"
      ]
    },
    {
      "cell_type": "markdown",
      "metadata": {
        "id": "iBZ_VToEkvEt"
      },
      "source": [
        "$$ D(x) = \\int_{\\pi}^\\frac{3 \\pi}{2} x^2 (-\\cos(x))dx-M(x)^2= (*)\r\n",
        "$$\r\n",
        "\r\n"
      ]
    },
    {
      "cell_type": "markdown",
      "metadata": {
        "id": "6PLClq2_3XHd"
      },
      "source": [
        "$$\r\n",
        " u(x)=x^2,\r\n",
        "dv=-\\cos(x) dx,\r\n",
        "du=2xdx, v=\\sin(x)\r\n",
        "$$"
      ]
    },
    {
      "cell_type": "markdown",
      "metadata": {
        "id": "oqsv-m__3ZEt"
      },
      "source": [
        "$$(*)=-(x^2-2)\\sin(x) -2x\\cos(x)\\rvert_{\\pi}^{\\frac{3\\pi}{2}}=\r\n",
        "-2-2\\pi+\\frac{9\\pi^2}{4} \\approx 13.923 $$"
      ]
    },
    {
      "cell_type": "markdown",
      "metadata": {
        "id": "RWWZrkbNo6XU"
      },
      "source": [
        "### Задание 5 \r\n",
        "\r\n",
        " Случайная величина Х задана функцией распределения F(x).\r\n",
        "\r\n",
        " $$F(x)=\\left\\{\\begin{array}{c}0, x \\leq 1 \\\\ x-1,1<x \\leq 2 \\\\ 1, x>2\\end{array}\\right.$$\r\n",
        "\r\n",
        " 1. Является ли случайная величина Х непрерывной?\r\n",
        "\r\n",
        " 2. имеет ли случайная величина Х плотность вероятности f(X)? Если имеет, найти ее. \r\n",
        " 3. постройте графики f(X) и F(X), если такое возможно.\r\n"
      ]
    },
    {
      "cell_type": "markdown",
      "metadata": {
        "id": "-VgZSrXppSfw"
      },
      "source": [
        "1. Случайная величина непрерывная.\r\n",
        "2. Плотность веротяности:\r\n",
        " $$F'(x)=\\left\\{\\begin{array}{c}0, x \\leq 1 \\\\ 1,1<x \\leq 2 \\\\ 0, x>2\\end{array}\\right.$$\r\n"
      ]
    },
    {
      "cell_type": "code",
      "metadata": {
        "id": "gT5s41ydevP5"
      },
      "source": [
        "def f(x):\r\n",
        "  return [0 if i <=1 else 1 if i > 2  else i-1   for i in x]"
      ],
      "execution_count": 27,
      "outputs": []
    },
    {
      "cell_type": "code",
      "metadata": {
        "colab": {
          "base_uri": "https://localhost:8080/",
          "height": 346
        },
        "id": "D81maPJXxqEW",
        "outputId": "4fd81015-6d7f-4a61-ea20-8d86b6c781fb"
      },
      "source": [
        "x = np.linspace(0,3,10)\r\n",
        "sns.lineplot(x=x,y=f(x)).set(title='Функция распределения', xlabel='x', ylabel='f(x)')"
      ],
      "execution_count": 28,
      "outputs": [
        {
          "output_type": "execute_result",
          "data": {
            "text/plain": [
              "[Text(0, 0.5, 'f(x)'),\n",
              " Text(0.5, 0, 'x'),\n",
              " Text(0.5, 1.0, 'Функция распределения')]"
            ]
          },
          "metadata": {
            "tags": []
          },
          "execution_count": 28
        },
        {
          "output_type": "display_data",
          "data": {
            "image/png": "[encoded data removed]",
            "text/plain": [
              "<Figure size 432x288 with 1 Axes>"
            ]
          },
          "metadata": {
            "tags": [],
            "needs_background": "light"
          }
        }
      ]
    },
    {
      "cell_type": "code",
      "metadata": {
        "colab": {
          "base_uri": "https://localhost:8080/",
          "height": 346
        },
        "id": "Xb5kT7hiyDOs",
        "outputId": "e2c0cfb6-9483-4516-854e-bef77e4145dd"
      },
      "source": [
        "def f(x):\r\n",
        "  return [0 if i <=1 or i >2 else 1 for i in x]\r\n",
        "  x = np.linspace(0,5,100)\r\n",
        "sns.lineplot(x=x,y=f(x)).set(title='Плотность вероятности', xlabel='x', ylabel='f(x)')"
      ],
      "execution_count": 29,
      "outputs": [
        {
          "output_type": "execute_result",
          "data": {
            "text/plain": [
              "[Text(0, 0.5, 'f(x)'),\n",
              " Text(0.5, 0, 'x'),\n",
              " Text(0.5, 1.0, 'Плотность вероятности')]"
            ]
          },
          "metadata": {
            "tags": []
          },
          "execution_count": 29
        },
        {
          "output_type": "display_data",
          "data": {
            "image/png": "[encoded data removed]",
            "text/plain": [
              "<Figure size 432x288 with 1 Axes>"
            ]
          },
          "metadata": {
            "tags": [],
            "needs_background": "light"
          }
        }
      ]
    },
    {
      "cell_type": "markdown",
      "metadata": {
        "id": "4smHf8QM0GA6"
      },
      "source": [
        "### 6\r\n",
        "\r\n",
        "Рассмотрим несбалансированный набор данных с соотношением меньшего класса к большему 1: 100, где 100 экземпляров принадлежит меньшему классу, а 10 000 большему.\r\n",
        "\r\n",
        "Модель ML делает прогнозы и предсказывает 120 примеров как принадлежащих к классу меньшинства, 90 из которых верны, а 30 - неверны.\r\n",
        "\r\n",
        "Найти:\r\n",
        "\r\n",
        "- Precision **[0.5 point]**\r\n",
        "- Recall **[0.5 point]**\r\n",
        "- $F_1$ метрику **[0.5 point]**"
      ]
    },
    {
      "cell_type": "markdown",
      "metadata": {
        "id": "l_2Vuxb10XEE"
      },
      "source": [
        "TP = 90\r\n",
        "TN = 30\r\n",
        "FN = 10\r\n",
        "TN = 9970"
      ]
    },
    {
      "cell_type": "markdown",
      "metadata": {
        "id": "sYxMctEB0iRq"
      },
      "source": [
        "$$ precision = \\frac{TP}{TP+FP} = 0.75 $$\r\n",
        "\r\n"
      ]
    },
    {
      "cell_type": "markdown",
      "metadata": {
        "id": "WHkIBT9-3NW0"
      },
      "source": [
        "$$recall =\\frac{TP}{TP+FN}=0,9 $$"
      ]
    },
    {
      "cell_type": "markdown",
      "metadata": {
        "id": "4i_o6pMG3PEd"
      },
      "source": [
        "$$F_1 =2 \\frac{0,75 * 0,9}{0,75+0,9}=0.818$$"
      ]
    },
    {
      "cell_type": "code",
      "metadata": {
        "id": "A4EDJGao0HQU"
      },
      "source": [
        ""
      ],
      "execution_count": 29,
      "outputs": []
    }
  ]
}