{
  "nbformat": 4,
  "nbformat_minor": 0,
  "metadata": {
    "kernelspec": {
      "name": "python3",
      "display_name": "Python 3",
      "language": "python"
    },
    "language_info": {
      "name": "python",
      "version": "3.7.9",
      "mimetype": "text/x-python",
      "codemirror_mode": {
        "name": "ipython",
        "version": 3
      },
      "pygments_lexer": "ipython3",
      "nbconvert_exporter": "python",
      "file_extension": ".py"
    },
    "colab": {
      "name": "Copy of homework2.ipynb",
      "provenance": [],
      "include_colab_link": true
    }
  },
  "cells": [
    {
      "cell_type": "markdown",
      "metadata": {
        "id": "view-in-github",
        "colab_type": "text"
      },
      "source": [
        "<a href=\"https://colab.research.google.com/github/fedjkeee/Homework/blob/main/BIG_HW2/homework2.ipynb\" target=\"_parent\"><img src=\"https://colab.research.google.com/assets/colab-badge.svg\" alt=\"Open In Colab\"/></a>"
      ]
    },
    {
      "cell_type": "code",
      "metadata": {
        "trusted": true,
        "id": "qPimoXoafKWr"
      },
      "source": [
        "import pandas as pd\n",
        "import numpy as np\n",
        "import seaborn as sns\n",
        "import matplotlib.pyplot as plt\n",
        "from sklearn.metrics import classification_report\n",
        "from sklearn.model_selection import RandomizedSearchCV\n",
        "from sklearn.neighbors import KNeighborsClassifier\n",
        "from sklearn.linear_model import LogisticRegression\n",
        "from sklearn.svm import SVC\n",
        "from sklearn.preprocessing import PolynomialFeatures\n",
        "from sklearn.decomposition import PCA\n",
        "from sklearn.ensemble import RandomForestClassifier"
      ],
      "execution_count": null,
      "outputs": []
    },
    {
      "cell_type": "code",
      "metadata": {
        "trusted": true,
        "id": "9kSiFzZmfKWs"
      },
      "source": [
        "df = pd.read_csv('../input/thoraric-surgery/ThoraricSurgery.csv')"
      ],
      "execution_count": null,
      "outputs": []
    },
    {
      "cell_type": "code",
      "metadata": {
        "id": "W1-TRFKuf3mn"
      },
      "source": [
        ""
      ],
      "execution_count": null,
      "outputs": []
    },
    {
      "cell_type": "markdown",
      "metadata": {
        "id": "zYFahfSXfKWt"
      },
      "source": [
        "### 1. Information"
      ]
    },
    {
      "cell_type": "markdown",
      "metadata": {
        "id": "xjRcWFiXfKWt"
      },
      "source": [
        "Data Set Information:\n",
        "\n",
        "The data was collected retrospectively at Wroclaw Thoracic Surgery Centre for patients who underwent major lung resections for primary lung cancer in the years 2007â€“2011. The Centre is associated with the Department of Thoracic Surgery of the Medical University of Wroclaw and Lower-Silesian Centre for Pulmonary Diseases, Poland, while the research database constitutes a part of the National Lung Cancer Registry, administered by the Institute of Tuberculosis and Pulmonary Diseases in Warsaw, Poland.\n",
        "\n",
        "\n",
        "Attribute Information:\n",
        "\n",
        "1. DGN: Diagnosis - specific combination of ICD-10 codes for primary and secondary as well multiple tumours if any (DGN3,DGN2,DGN4,DGN6,DGN5,DGN8,DGN1)\n",
        "2. PRE4: Forced vital capacity - FVC (numeric)   (ФЖЕЛ — форсированная жизненная ёмкость лёгких. Разница между объёмами воздуха в лёгких в точках начала и конца манёвра форсированного выдоха.)\n",
        "3. PRE5: Volume that has been exhaled at the end of the first second of forced expiration - FEV1 (numeric)  (ОФВ1 — Объём форсированного выдоха за первую секунду манёвра форсированного выдоха. Отношение ОФВ1/ФЖЕЛ, выраженное в процентах — индекс Тиффно — является чувствительным индексом наличия или отсутствия ухудшения проходимости дыхательных путей. в норме 75-80 %.)\n",
        "4. PRE6: Performance status - Zubrod scale (PRZ2,PRZ1,PRZ0)\n",
        "5. PRE7: Pain before surgery (T,F)\n",
        "6. PRE8: Haemoptysis before surgery (T,F)\n",
        "7. PRE9: Dyspnoea before surgery (T,F)\n",
        "8. PRE10: Cough before surgery (T,F)\n",
        "9. PRE11: Weakness before surgery (T,F)\n",
        "10. PRE14: T in clinical TNM - size of the original tumour, from OC11 (smallest) to OC14 (largest) (OC11,OC14,OC12,OC13)\n",
        "11. PRE17: Type 2 DM - diabetes mellitus (T,F)\n",
        "12. PRE19: MI up to 6 months (T,F)\n",
        "13. PRE25: PAD - peripheral arterial diseases (T,F)\n",
        "14. PRE30: Smoking (T,F)\n",
        "15. PRE32: Asthma (T,F)\n",
        "16. AGE: Age at surgery (numeric)\n",
        "17. Risk1Y: 1 year survival period - (T)rue value if died (T,F)\n",
        "\n",
        "Class Distribution: the class value (Risk1Y) is binary valued.\n",
        "Risk1Y Value: Number of Instances:\n",
        "T 70\n",
        "N 400"
      ]
    },
    {
      "cell_type": "markdown",
      "metadata": {
        "id": "jUr9s4vkfKWu"
      },
      "source": [
        "### 2. Feature engineering"
      ]
    },
    {
      "cell_type": "code",
      "metadata": {
        "trusted": true,
        "id": "ypQAUEytfKWu",
        "outputId": "386259f1-88c4-45f0-e229-5bca4b3fef9f"
      },
      "source": [
        "df.head()"
      ],
      "execution_count": null,
      "outputs": [
        {
          "output_type": "execute_result",
          "data": {
            "text/plain": [
              "   id   DGN  PRE4  PRE5  PRE6 PRE7 PRE8 PRE9 PRE10 PRE11 PRE14 PRE17 PRE19  \\\n",
              "0   1  DGN2  2.88  2.16  PRZ1    F    F    F     T     T  OC14     F     F   \n",
              "1   2  DGN3  3.40  1.88  PRZ0    F    F    F     F     F  OC12     F     F   \n",
              "2   3  DGN3  2.76  2.08  PRZ1    F    F    F     T     F  OC11     F     F   \n",
              "3   4  DGN3  3.68  3.04  PRZ0    F    F    F     F     F  OC11     F     F   \n",
              "4   5  DGN3  2.44  0.96  PRZ2    F    T    F     T     T  OC11     F     F   \n",
              "\n",
              "  PRE25 PRE30 PRE32  AGE Risk1Yr  \n",
              "0     F     T     F   60       F  \n",
              "1     F     T     F   51       F  \n",
              "2     F     T     F   59       F  \n",
              "3     F     F     F   54       F  \n",
              "4     F     T     F   73       T  "
            ],
            "text/html": [
              "<div>\n",
              "<style scoped>\n",
              "    .dataframe tbody tr th:only-of-type {\n",
              "        vertical-align: middle;\n",
              "    }\n",
              "\n",
              "    .dataframe tbody tr th {\n",
              "        vertical-align: top;\n",
              "    }\n",
              "\n",
              "    .dataframe thead th {\n",
              "        text-align: right;\n",
              "    }\n",
              "</style>\n",
              "<table border=\"1\" class=\"dataframe\">\n",
              "  <thead>\n",
              "    <tr style=\"text-align: right;\">\n",
              "      <th></th>\n",
              "      <th>id</th>\n",
              "      <th>DGN</th>\n",
              "      <th>PRE4</th>\n",
              "      <th>PRE5</th>\n",
              "      <th>PRE6</th>\n",
              "      <th>PRE7</th>\n",
              "      <th>PRE8</th>\n",
              "      <th>PRE9</th>\n",
              "      <th>PRE10</th>\n",
              "      <th>PRE11</th>\n",
              "      <th>PRE14</th>\n",
              "      <th>PRE17</th>\n",
              "      <th>PRE19</th>\n",
              "      <th>PRE25</th>\n",
              "      <th>PRE30</th>\n",
              "      <th>PRE32</th>\n",
              "      <th>AGE</th>\n",
              "      <th>Risk1Yr</th>\n",
              "    </tr>\n",
              "  </thead>\n",
              "  <tbody>\n",
              "    <tr>\n",
              "      <th>0</th>\n",
              "      <td>1</td>\n",
              "      <td>DGN2</td>\n",
              "      <td>2.88</td>\n",
              "      <td>2.16</td>\n",
              "      <td>PRZ1</td>\n",
              "      <td>F</td>\n",
              "      <td>F</td>\n",
              "      <td>F</td>\n",
              "      <td>T</td>\n",
              "      <td>T</td>\n",
              "      <td>OC14</td>\n",
              "      <td>F</td>\n",
              "      <td>F</td>\n",
              "      <td>F</td>\n",
              "      <td>T</td>\n",
              "      <td>F</td>\n",
              "      <td>60</td>\n",
              "      <td>F</td>\n",
              "    </tr>\n",
              "    <tr>\n",
              "      <th>1</th>\n",
              "      <td>2</td>\n",
              "      <td>DGN3</td>\n",
              "      <td>3.40</td>\n",
              "      <td>1.88</td>\n",
              "      <td>PRZ0</td>\n",
              "      <td>F</td>\n",
              "      <td>F</td>\n",
              "      <td>F</td>\n",
              "      <td>F</td>\n",
              "      <td>F</td>\n",
              "      <td>OC12</td>\n",
              "      <td>F</td>\n",
              "      <td>F</td>\n",
              "      <td>F</td>\n",
              "      <td>T</td>\n",
              "      <td>F</td>\n",
              "      <td>51</td>\n",
              "      <td>F</td>\n",
              "    </tr>\n",
              "    <tr>\n",
              "      <th>2</th>\n",
              "      <td>3</td>\n",
              "      <td>DGN3</td>\n",
              "      <td>2.76</td>\n",
              "      <td>2.08</td>\n",
              "      <td>PRZ1</td>\n",
              "      <td>F</td>\n",
              "      <td>F</td>\n",
              "      <td>F</td>\n",
              "      <td>T</td>\n",
              "      <td>F</td>\n",
              "      <td>OC11</td>\n",
              "      <td>F</td>\n",
              "      <td>F</td>\n",
              "      <td>F</td>\n",
              "      <td>T</td>\n",
              "      <td>F</td>\n",
              "      <td>59</td>\n",
              "      <td>F</td>\n",
              "    </tr>\n",
              "    <tr>\n",
              "      <th>3</th>\n",
              "      <td>4</td>\n",
              "      <td>DGN3</td>\n",
              "      <td>3.68</td>\n",
              "      <td>3.04</td>\n",
              "      <td>PRZ0</td>\n",
              "      <td>F</td>\n",
              "      <td>F</td>\n",
              "      <td>F</td>\n",
              "      <td>F</td>\n",
              "      <td>F</td>\n",
              "      <td>OC11</td>\n",
              "      <td>F</td>\n",
              "      <td>F</td>\n",
              "      <td>F</td>\n",
              "      <td>F</td>\n",
              "      <td>F</td>\n",
              "      <td>54</td>\n",
              "      <td>F</td>\n",
              "    </tr>\n",
              "    <tr>\n",
              "      <th>4</th>\n",
              "      <td>5</td>\n",
              "      <td>DGN3</td>\n",
              "      <td>2.44</td>\n",
              "      <td>0.96</td>\n",
              "      <td>PRZ2</td>\n",
              "      <td>F</td>\n",
              "      <td>T</td>\n",
              "      <td>F</td>\n",
              "      <td>T</td>\n",
              "      <td>T</td>\n",
              "      <td>OC11</td>\n",
              "      <td>F</td>\n",
              "      <td>F</td>\n",
              "      <td>F</td>\n",
              "      <td>T</td>\n",
              "      <td>F</td>\n",
              "      <td>73</td>\n",
              "      <td>T</td>\n",
              "    </tr>\n",
              "  </tbody>\n",
              "</table>\n",
              "</div>"
            ]
          },
          "metadata": {
            "tags": []
          },
          "execution_count": 204
        }
      ]
    },
    {
      "cell_type": "code",
      "metadata": {
        "trusted": true,
        "id": "eJxx2-YVfKWu",
        "outputId": "05a7e05e-edb0-4950-93a7-a7c89003b32d"
      },
      "source": [
        "df.info()"
      ],
      "execution_count": null,
      "outputs": [
        {
          "output_type": "stream",
          "text": [
            "<class 'pandas.core.frame.DataFrame'>\n",
            "RangeIndex: 470 entries, 0 to 469\n",
            "Data columns (total 18 columns):\n",
            " #   Column   Non-Null Count  Dtype  \n",
            "---  ------   --------------  -----  \n",
            " 0   id       470 non-null    int64  \n",
            " 1   DGN      470 non-null    object \n",
            " 2   PRE4     470 non-null    float64\n",
            " 3   PRE5     470 non-null    float64\n",
            " 4   PRE6     470 non-null    object \n",
            " 5   PRE7     470 non-null    object \n",
            " 6   PRE8     470 non-null    object \n",
            " 7   PRE9     470 non-null    object \n",
            " 8   PRE10    470 non-null    object \n",
            " 9   PRE11    470 non-null    object \n",
            " 10  PRE14    470 non-null    object \n",
            " 11  PRE17    470 non-null    object \n",
            " 12  PRE19    470 non-null    object \n",
            " 13  PRE25    470 non-null    object \n",
            " 14  PRE30    470 non-null    object \n",
            " 15  PRE32    470 non-null    object \n",
            " 16  AGE      470 non-null    int64  \n",
            " 17  Risk1Yr  470 non-null    object \n",
            "dtypes: float64(2), int64(2), object(14)\n",
            "memory usage: 66.2+ KB\n"
          ],
          "name": "stdout"
        }
      ]
    },
    {
      "cell_type": "code",
      "metadata": {
        "trusted": true,
        "id": "xXSBaha-fKWv"
      },
      "source": [
        "#Заменим T\\F на 0\\1\n",
        "binary_columns = ['PRE7', 'PRE8', 'PRE9', 'PRE10', 'PRE11', 'PRE17', 'PRE19', 'PRE25', \n",
        "     'PRE30', 'PRE32', 'Risk1Yr']\n",
        "for column in binary_columns:\n",
        "    df[column] = df[column].apply(lambda x: 1 if x == \"T\" else 0)"
      ],
      "execution_count": null,
      "outputs": []
    },
    {
      "cell_type": "code",
      "metadata": {
        "trusted": true,
        "id": "ju5Gx1wWfKWv",
        "outputId": "ba9086b1-c0e7-4379-d032-70d07ac51032"
      },
      "source": [
        "df.head()"
      ],
      "execution_count": null,
      "outputs": [
        {
          "output_type": "execute_result",
          "data": {
            "text/plain": [
              "   id   DGN  PRE4  PRE5  PRE6  PRE7  PRE8  PRE9  PRE10  PRE11 PRE14  PRE17  \\\n",
              "0   1  DGN2  2.88  2.16  PRZ1     0     0     0      1      1  OC14      0   \n",
              "1   2  DGN3  3.40  1.88  PRZ0     0     0     0      0      0  OC12      0   \n",
              "2   3  DGN3  2.76  2.08  PRZ1     0     0     0      1      0  OC11      0   \n",
              "3   4  DGN3  3.68  3.04  PRZ0     0     0     0      0      0  OC11      0   \n",
              "4   5  DGN3  2.44  0.96  PRZ2     0     1     0      1      1  OC11      0   \n",
              "\n",
              "   PRE19  PRE25  PRE30  PRE32  AGE  Risk1Yr  \n",
              "0      0      0      1      0   60        0  \n",
              "1      0      0      1      0   51        0  \n",
              "2      0      0      1      0   59        0  \n",
              "3      0      0      0      0   54        0  \n",
              "4      0      0      1      0   73        1  "
            ],
            "text/html": [
              "<div>\n",
              "<style scoped>\n",
              "    .dataframe tbody tr th:only-of-type {\n",
              "        vertical-align: middle;\n",
              "    }\n",
              "\n",
              "    .dataframe tbody tr th {\n",
              "        vertical-align: top;\n",
              "    }\n",
              "\n",
              "    .dataframe thead th {\n",
              "        text-align: right;\n",
              "    }\n",
              "</style>\n",
              "<table border=\"1\" class=\"dataframe\">\n",
              "  <thead>\n",
              "    <tr style=\"text-align: right;\">\n",
              "      <th></th>\n",
              "      <th>id</th>\n",
              "      <th>DGN</th>\n",
              "      <th>PRE4</th>\n",
              "      <th>PRE5</th>\n",
              "      <th>PRE6</th>\n",
              "      <th>PRE7</th>\n",
              "      <th>PRE8</th>\n",
              "      <th>PRE9</th>\n",
              "      <th>PRE10</th>\n",
              "      <th>PRE11</th>\n",
              "      <th>PRE14</th>\n",
              "      <th>PRE17</th>\n",
              "      <th>PRE19</th>\n",
              "      <th>PRE25</th>\n",
              "      <th>PRE30</th>\n",
              "      <th>PRE32</th>\n",
              "      <th>AGE</th>\n",
              "      <th>Risk1Yr</th>\n",
              "    </tr>\n",
              "  </thead>\n",
              "  <tbody>\n",
              "    <tr>\n",
              "      <th>0</th>\n",
              "      <td>1</td>\n",
              "      <td>DGN2</td>\n",
              "      <td>2.88</td>\n",
              "      <td>2.16</td>\n",
              "      <td>PRZ1</td>\n",
              "      <td>0</td>\n",
              "      <td>0</td>\n",
              "      <td>0</td>\n",
              "      <td>1</td>\n",
              "      <td>1</td>\n",
              "      <td>OC14</td>\n",
              "      <td>0</td>\n",
              "      <td>0</td>\n",
              "      <td>0</td>\n",
              "      <td>1</td>\n",
              "      <td>0</td>\n",
              "      <td>60</td>\n",
              "      <td>0</td>\n",
              "    </tr>\n",
              "    <tr>\n",
              "      <th>1</th>\n",
              "      <td>2</td>\n",
              "      <td>DGN3</td>\n",
              "      <td>3.40</td>\n",
              "      <td>1.88</td>\n",
              "      <td>PRZ0</td>\n",
              "      <td>0</td>\n",
              "      <td>0</td>\n",
              "      <td>0</td>\n",
              "      <td>0</td>\n",
              "      <td>0</td>\n",
              "      <td>OC12</td>\n",
              "      <td>0</td>\n",
              "      <td>0</td>\n",
              "      <td>0</td>\n",
              "      <td>1</td>\n",
              "      <td>0</td>\n",
              "      <td>51</td>\n",
              "      <td>0</td>\n",
              "    </tr>\n",
              "    <tr>\n",
              "      <th>2</th>\n",
              "      <td>3</td>\n",
              "      <td>DGN3</td>\n",
              "      <td>2.76</td>\n",
              "      <td>2.08</td>\n",
              "      <td>PRZ1</td>\n",
              "      <td>0</td>\n",
              "      <td>0</td>\n",
              "      <td>0</td>\n",
              "      <td>1</td>\n",
              "      <td>0</td>\n",
              "      <td>OC11</td>\n",
              "      <td>0</td>\n",
              "      <td>0</td>\n",
              "      <td>0</td>\n",
              "      <td>1</td>\n",
              "      <td>0</td>\n",
              "      <td>59</td>\n",
              "      <td>0</td>\n",
              "    </tr>\n",
              "    <tr>\n",
              "      <th>3</th>\n",
              "      <td>4</td>\n",
              "      <td>DGN3</td>\n",
              "      <td>3.68</td>\n",
              "      <td>3.04</td>\n",
              "      <td>PRZ0</td>\n",
              "      <td>0</td>\n",
              "      <td>0</td>\n",
              "      <td>0</td>\n",
              "      <td>0</td>\n",
              "      <td>0</td>\n",
              "      <td>OC11</td>\n",
              "      <td>0</td>\n",
              "      <td>0</td>\n",
              "      <td>0</td>\n",
              "      <td>0</td>\n",
              "      <td>0</td>\n",
              "      <td>54</td>\n",
              "      <td>0</td>\n",
              "    </tr>\n",
              "    <tr>\n",
              "      <th>4</th>\n",
              "      <td>5</td>\n",
              "      <td>DGN3</td>\n",
              "      <td>2.44</td>\n",
              "      <td>0.96</td>\n",
              "      <td>PRZ2</td>\n",
              "      <td>0</td>\n",
              "      <td>1</td>\n",
              "      <td>0</td>\n",
              "      <td>1</td>\n",
              "      <td>1</td>\n",
              "      <td>OC11</td>\n",
              "      <td>0</td>\n",
              "      <td>0</td>\n",
              "      <td>0</td>\n",
              "      <td>1</td>\n",
              "      <td>0</td>\n",
              "      <td>73</td>\n",
              "      <td>1</td>\n",
              "    </tr>\n",
              "  </tbody>\n",
              "</table>\n",
              "</div>"
            ]
          },
          "metadata": {
            "tags": []
          },
          "execution_count": 207
        }
      ]
    },
    {
      "cell_type": "code",
      "metadata": {
        "trusted": true,
        "id": "eJ3D8h91fKWw"
      },
      "source": [
        "#удалим неинформативный столбец\n",
        "df.drop('id',axis=1,inplace=True)"
      ],
      "execution_count": null,
      "outputs": []
    },
    {
      "cell_type": "markdown",
      "metadata": {
        "id": "rfJn5fy9fKWw"
      },
      "source": [
        "* Посмотрим на распределение выживших и не выживших через 1 год после операции"
      ]
    },
    {
      "cell_type": "code",
      "metadata": {
        "trusted": true,
        "id": "nBodwbkYfKWw",
        "outputId": "3d6db479-1d13-43cb-d626-724f2c6d7f87"
      },
      "source": [
        "ax = sns.countplot(x=df['Risk1Yr'])\n",
        "ax.set_title('Гистограмма риска смерти через год после операции')"
      ],
      "execution_count": null,
      "outputs": [
        {
          "output_type": "execute_result",
          "data": {
            "text/plain": [
              "Text(0.5, 1.0, 'Гистограмма риска смерти через год после операции')"
            ]
          },
          "metadata": {
            "tags": []
          },
          "execution_count": 209
        },
        {
          "output_type": "display_data",
          "data": {
            "text/plain": [
              "<Figure size 432x288 with 1 Axes>"
            ],
            "image/png": "[encoded data removed]"
          },
          "metadata": {
            "tags": [],
            "needs_background": "light"
          }
        }
      ]
    },
    {
      "cell_type": "markdown",
      "metadata": {
        "id": "agLsEqFXfKWx"
      },
      "source": [
        "Посмотрим какие типы диагнозов ставились"
      ]
    },
    {
      "cell_type": "code",
      "metadata": {
        "trusted": true,
        "id": "Dk-1F8tSfKWx",
        "outputId": "e32476ae-ab90-4fd5-f091-a94a6ddae4b0"
      },
      "source": [
        "df['DGN'].value_counts()"
      ],
      "execution_count": null,
      "outputs": [
        {
          "output_type": "execute_result",
          "data": {
            "text/plain": [
              "DGN3    349\n",
              "DGN2     52\n",
              "DGN4     47\n",
              "DGN5     15\n",
              "DGN6      4\n",
              "DGN8      2\n",
              "DGN1      1\n",
              "Name: DGN, dtype: int64"
            ]
          },
          "metadata": {
            "tags": []
          },
          "execution_count": 210
        }
      ]
    },
    {
      "cell_type": "markdown",
      "metadata": {
        "id": "mZZifzSHfKWx"
      },
      "source": [
        "Классы несбалансированы."
      ]
    },
    {
      "cell_type": "code",
      "metadata": {
        "trusted": true,
        "id": "TbsQ2CqQfKWy",
        "outputId": "b69d41d5-6370-45c9-b618-77a42e8cca6a"
      },
      "source": [
        "ax = sns.countplot(x=df['DGN'])\n",
        "ax.set_title('Кол-во диагнозов различных типов')"
      ],
      "execution_count": null,
      "outputs": [
        {
          "output_type": "execute_result",
          "data": {
            "text/plain": [
              "Text(0.5, 1.0, 'Кол-во диагнозов различных типов')"
            ]
          },
          "metadata": {
            "tags": []
          },
          "execution_count": 211
        },
        {
          "output_type": "display_data",
          "data": {
            "text/plain": [
              "<Figure size 432x288 with 1 Axes>"
            ],
            "image/png": "[encoded data removed]"
          },
          "metadata": {
            "tags": [],
            "needs_background": "light"
          }
        }
      ]
    },
    {
      "cell_type": "markdown",
      "metadata": {
        "id": "9yyb3GstfKWy"
      },
      "source": [
        "Чаще всего ставился диагноз №3"
      ]
    },
    {
      "cell_type": "markdown",
      "metadata": {
        "id": "WDcP_PxHfKWy"
      },
      "source": [
        "Удалим данные с теми диагнозами, количество наблюдений которых слишком мало. Обучить модель на 1-2 примерах мы не сможем, попробуем предсказывать диагнозы 2,3,4,5"
      ]
    },
    {
      "cell_type": "code",
      "metadata": {
        "trusted": true,
        "id": "Tssb9VsKfKWy"
      },
      "source": [
        "for dgn in ['DGN1','DGN8','DGN6']:\n",
        "    df = df.drop(df[df['DGN'] == dgn].index)"
      ],
      "execution_count": null,
      "outputs": []
    },
    {
      "cell_type": "code",
      "metadata": {
        "trusted": true,
        "id": "nGoO5DFZfKWz"
      },
      "source": [
        "#diagnoses = ['DGN1','DGN8','DGN6','DGN5']\n",
        "#for diagnos in diagnoses:\n",
        "#    df.DGN = np.where(df.DGN == diagnos, 'DGN0',df.DGN)"
      ],
      "execution_count": null,
      "outputs": []
    },
    {
      "cell_type": "code",
      "metadata": {
        "trusted": true,
        "id": "R1l2D1tgfKWz",
        "outputId": "327c0fff-ea47-46c4-d8e5-4fa46788bccc"
      },
      "source": [
        "ax = sns.countplot(x=df['DGN'])\n",
        "ax.set_title('Кол-во диагнозов различных типов')"
      ],
      "execution_count": null,
      "outputs": [
        {
          "output_type": "execute_result",
          "data": {
            "text/plain": [
              "Text(0.5, 1.0, 'Кол-во диагнозов различных типов')"
            ]
          },
          "metadata": {
            "tags": []
          },
          "execution_count": 214
        },
        {
          "output_type": "display_data",
          "data": {
            "text/plain": [
              "<Figure size 432x288 with 1 Axes>"
            ],
            "image/png": "[encoded data removed]"
          },
          "metadata": {
            "tags": [],
            "needs_background": "light"
          }
        }
      ]
    },
    {
      "cell_type": "markdown",
      "metadata": {
        "id": "7rDIQQV0fKW0"
      },
      "source": [
        "Посмотрим на распределения численных признаков."
      ]
    },
    {
      "cell_type": "markdown",
      "metadata": {
        "id": "s9VAaOyLfKW0"
      },
      "source": [
        "PRE4: Forced vital capacity - FVC (numeric) (Жизненная ёмкость лёгких — максимальный объём воздуха, который может быть набран в лёгкие после максимально полного выдоха.)"
      ]
    },
    {
      "cell_type": "code",
      "metadata": {
        "trusted": true,
        "id": "5kpngvEofKW0",
        "outputId": "f03ba42d-8719-47a8-86d1-e4e79ae5f5b2"
      },
      "source": [
        "ax = sns.displot(x=df['PRE4'])\n",
        "plt.subplots_adjust(top=0.9)\n",
        "ax.fig.suptitle('Гистограмма значений FVC - Жизненная ёмкость лёгких') "
      ],
      "execution_count": null,
      "outputs": [
        {
          "output_type": "execute_result",
          "data": {
            "text/plain": [
              "Text(0.5, 0.98, 'Гистограмма значений FVC - Жизненная ёмкость лёгких')"
            ]
          },
          "metadata": {
            "tags": []
          },
          "execution_count": 215
        },
        {
          "output_type": "display_data",
          "data": {
            "text/plain": [
              "<Figure size 360x360 with 1 Axes>"
            ],
            "image/png": "[encoded data removed]"
          },
          "metadata": {
            "tags": [],
            "needs_background": "light"
          }
        }
      ]
    },
    {
      "cell_type": "markdown",
      "metadata": {
        "id": "tNR_v68afKW1"
      },
      "source": [
        "PRE5: Volume that has been exhaled at the end of the first second of forced expiration - FEV1 (numeric) (ОФВ1 - объём форсированного выдоха за 1 секунду - объём воздуха, выдохнутого в течение первой секунды форсированного выдоха.)"
      ]
    },
    {
      "cell_type": "code",
      "metadata": {
        "trusted": true,
        "id": "xm5IlJG4fKW1",
        "outputId": "02842009-c265-488f-9255-2b9cb6194942"
      },
      "source": [
        "ax = sns.displot(x=df['PRE5'])\n",
        "plt.subplots_adjust(top=0.9)\n",
        "ax.fig.suptitle('Гистограмма значений FEV1') "
      ],
      "execution_count": null,
      "outputs": [
        {
          "output_type": "execute_result",
          "data": {
            "text/plain": [
              "Text(0.5, 0.98, 'Гистограмма значений FEV1')"
            ]
          },
          "metadata": {
            "tags": []
          },
          "execution_count": 216
        },
        {
          "output_type": "display_data",
          "data": {
            "text/plain": [
              "<Figure size 360x360 with 1 Axes>"
            ],
            "image/png": "[encoded data removed]"
          },
          "metadata": {
            "tags": [],
            "needs_background": "light"
          }
        }
      ]
    },
    {
      "cell_type": "markdown",
      "metadata": {
        "id": "twfdoTaJfKW1"
      },
      "source": [
        "В данных присутствуют выбросы. Видимо это ошибка в данных, так как данный параметр измеряется в литрах- какой объем воздуха человек выдыхает за 1 секунду. Очевидно, что человек не может за 1 секунду выдохнуть 60-80 литров воздуха.\n",
        "Согласно Википедии, средний объем легких у взрослого человека- 3-4 л. У пловцов до 6.2 л."
      ]
    },
    {
      "cell_type": "markdown",
      "metadata": {
        "id": "9FEKTaZMfKW1"
      },
      "source": [
        "Посмотрим, сколько записей в датасете содержать ошибочные данные."
      ]
    },
    {
      "cell_type": "code",
      "metadata": {
        "trusted": true,
        "id": "W32Y-5e1fKW2",
        "outputId": "32f4ddae-c374-4c3f-ee32-fbe91b666a69"
      },
      "source": [
        "df.loc[df['PRE5'] > 6.2]"
      ],
      "execution_count": null,
      "outputs": [
        {
          "output_type": "execute_result",
          "data": {
            "text/plain": [
              "      DGN  PRE4   PRE5  PRE6  PRE7  PRE8  PRE9  PRE10  PRE11 PRE14  PRE17  \\\n",
              "25   DGN5  4.56  72.80  PRZ0     1     1     0      1      0  OC12      0   \n",
              "89   DGN3  2.83  66.40  PRZ1     1     1     1      1      0  OC12      0   \n",
              "98   DGN3  2.63  67.30  PRZ1     0     0     1      1      0  OC11      0   \n",
              "112  DGN3  3.68  64.10  PRZ0     0     0     0      0      0  OC12      0   \n",
              "132  DGN2  2.50  71.10  PRZ0     0     0     1      0      0  OC13      0   \n",
              "215  DGN2  2.66   8.56  PRZ1     0     1     0      1      0  OC12      0   \n",
              "255  DGN3  3.72  78.30  PRZ0     1     0     0      1      0  OC12      0   \n",
              "319  DGN3  2.10  69.10  PRZ0     0     0     0      0      0  OC11      0   \n",
              "325  DGN4  5.03  79.30  PRZ1     0     0     1      0      0  OC11      0   \n",
              "330  DGN2  2.94  76.00  PRZ1     0     1     1      1      0  OC12      0   \n",
              "349  DGN4  1.82  86.30  PRZ0     0     0     0      0      0  OC12      0   \n",
              "352  DGN3  2.94  73.30  PRZ1     0     1     1      0      0  OC12      0   \n",
              "353  DGN3  3.24  52.30  PRZ0     0     0     0      0      0  OC12      1   \n",
              "438  DGN5  3.67  76.80  PRZ0     1     1     0      1      0  OC12      0   \n",
              "444  DGN3  2.56  60.90  PRZ0     0     0     0      0      0  OC11      0   \n",
              "\n",
              "     PRE19  PRE25  PRE30  PRE32  AGE  Risk1Yr  \n",
              "25       0      0      1      0   57        0  \n",
              "89       0      0      1      0   75        0  \n",
              "98       0      0      1      0   54        0  \n",
              "112      0      0      1      0   60        0  \n",
              "132      0      0      1      0   64        1  \n",
              "215      0      0      1      0   61        0  \n",
              "255      0      0      1      0   44        0  \n",
              "319      0      0      1      0   62        0  \n",
              "325      0      0      0      0   38        0  \n",
              "330      0      0      0      0   61        0  \n",
              "349      0      0      0      0   67        0  \n",
              "352      0      0      0      0   60        0  \n",
              "353      0      0      1      0   55        0  \n",
              "438      0      0      0      0   61        0  \n",
              "444      0      0      1      0   50        0  "
            ],
            "text/html": [
              "<div>\n",
              "<style scoped>\n",
              "    .dataframe tbody tr th:only-of-type {\n",
              "        vertical-align: middle;\n",
              "    }\n",
              "\n",
              "    .dataframe tbody tr th {\n",
              "        vertical-align: top;\n",
              "    }\n",
              "\n",
              "    .dataframe thead th {\n",
              "        text-align: right;\n",
              "    }\n",
              "</style>\n",
              "<table border=\"1\" class=\"dataframe\">\n",
              "  <thead>\n",
              "    <tr style=\"text-align: right;\">\n",
              "      <th></th>\n",
              "      <th>DGN</th>\n",
              "      <th>PRE4</th>\n",
              "      <th>PRE5</th>\n",
              "      <th>PRE6</th>\n",
              "      <th>PRE7</th>\n",
              "      <th>PRE8</th>\n",
              "      <th>PRE9</th>\n",
              "      <th>PRE10</th>\n",
              "      <th>PRE11</th>\n",
              "      <th>PRE14</th>\n",
              "      <th>PRE17</th>\n",
              "      <th>PRE19</th>\n",
              "      <th>PRE25</th>\n",
              "      <th>PRE30</th>\n",
              "      <th>PRE32</th>\n",
              "      <th>AGE</th>\n",
              "      <th>Risk1Yr</th>\n",
              "    </tr>\n",
              "  </thead>\n",
              "  <tbody>\n",
              "    <tr>\n",
              "      <th>25</th>\n",
              "      <td>DGN5</td>\n",
              "      <td>4.56</td>\n",
              "      <td>72.80</td>\n",
              "      <td>PRZ0</td>\n",
              "      <td>1</td>\n",
              "      <td>1</td>\n",
              "      <td>0</td>\n",
              "      <td>1</td>\n",
              "      <td>0</td>\n",
              "      <td>OC12</td>\n",
              "      <td>0</td>\n",
              "      <td>0</td>\n",
              "      <td>0</td>\n",
              "      <td>1</td>\n",
              "      <td>0</td>\n",
              "      <td>57</td>\n",
              "      <td>0</td>\n",
              "    </tr>\n",
              "    <tr>\n",
              "      <th>89</th>\n",
              "      <td>DGN3</td>\n",
              "      <td>2.83</td>\n",
              "      <td>66.40</td>\n",
              "      <td>PRZ1</td>\n",
              "      <td>1</td>\n",
              "      <td>1</td>\n",
              "      <td>1</td>\n",
              "      <td>1</td>\n",
              "      <td>0</td>\n",
              "      <td>OC12</td>\n",
              "      <td>0</td>\n",
              "      <td>0</td>\n",
              "      <td>0</td>\n",
              "      <td>1</td>\n",
              "      <td>0</td>\n",
              "      <td>75</td>\n",
              "      <td>0</td>\n",
              "    </tr>\n",
              "    <tr>\n",
              "      <th>98</th>\n",
              "      <td>DGN3</td>\n",
              "      <td>2.63</td>\n",
              "      <td>67.30</td>\n",
              "      <td>PRZ1</td>\n",
              "      <td>0</td>\n",
              "      <td>0</td>\n",
              "      <td>1</td>\n",
              "      <td>1</td>\n",
              "      <td>0</td>\n",
              "      <td>OC11</td>\n",
              "      <td>0</td>\n",
              "      <td>0</td>\n",
              "      <td>0</td>\n",
              "      <td>1</td>\n",
              "      <td>0</td>\n",
              "      <td>54</td>\n",
              "      <td>0</td>\n",
              "    </tr>\n",
              "    <tr>\n",
              "      <th>112</th>\n",
              "      <td>DGN3</td>\n",
              "      <td>3.68</td>\n",
              "      <td>64.10</td>\n",
              "      <td>PRZ0</td>\n",
              "      <td>0</td>\n",
              "      <td>0</td>\n",
              "      <td>0</td>\n",
              "      <td>0</td>\n",
              "      <td>0</td>\n",
              "      <td>OC12</td>\n",
              "      <td>0</td>\n",
              "      <td>0</td>\n",
              "      <td>0</td>\n",
              "      <td>1</td>\n",
              "      <td>0</td>\n",
              "      <td>60</td>\n",
              "      <td>0</td>\n",
              "    </tr>\n",
              "    <tr>\n",
              "      <th>132</th>\n",
              "      <td>DGN2</td>\n",
              "      <td>2.50</td>\n",
              "      <td>71.10</td>\n",
              "      <td>PRZ0</td>\n",
              "      <td>0</td>\n",
              "      <td>0</td>\n",
              "      <td>1</td>\n",
              "      <td>0</td>\n",
              "      <td>0</td>\n",
              "      <td>OC13</td>\n",
              "      <td>0</td>\n",
              "      <td>0</td>\n",
              "      <td>0</td>\n",
              "      <td>1</td>\n",
              "      <td>0</td>\n",
              "      <td>64</td>\n",
              "      <td>1</td>\n",
              "    </tr>\n",
              "    <tr>\n",
              "      <th>215</th>\n",
              "      <td>DGN2</td>\n",
              "      <td>2.66</td>\n",
              "      <td>8.56</td>\n",
              "      <td>PRZ1</td>\n",
              "      <td>0</td>\n",
              "      <td>1</td>\n",
              "      <td>0</td>\n",
              "      <td>1</td>\n",
              "      <td>0</td>\n",
              "      <td>OC12</td>\n",
              "      <td>0</td>\n",
              "      <td>0</td>\n",
              "      <td>0</td>\n",
              "      <td>1</td>\n",
              "      <td>0</td>\n",
              "      <td>61</td>\n",
              "      <td>0</td>\n",
              "    </tr>\n",
              "    <tr>\n",
              "      <th>255</th>\n",
              "      <td>DGN3</td>\n",
              "      <td>3.72</td>\n",
              "      <td>78.30</td>\n",
              "      <td>PRZ0</td>\n",
              "      <td>1</td>\n",
              "      <td>0</td>\n",
              "      <td>0</td>\n",
              "      <td>1</td>\n",
              "      <td>0</td>\n",
              "      <td>OC12</td>\n",
              "      <td>0</td>\n",
              "      <td>0</td>\n",
              "      <td>0</td>\n",
              "      <td>1</td>\n",
              "      <td>0</td>\n",
              "      <td>44</td>\n",
              "      <td>0</td>\n",
              "    </tr>\n",
              "    <tr>\n",
              "      <th>319</th>\n",
              "      <td>DGN3</td>\n",
              "      <td>2.10</td>\n",
              "      <td>69.10</td>\n",
              "      <td>PRZ0</td>\n",
              "      <td>0</td>\n",
              "      <td>0</td>\n",
              "      <td>0</td>\n",
              "      <td>0</td>\n",
              "      <td>0</td>\n",
              "      <td>OC11</td>\n",
              "      <td>0</td>\n",
              "      <td>0</td>\n",
              "      <td>0</td>\n",
              "      <td>1</td>\n",
              "      <td>0</td>\n",
              "      <td>62</td>\n",
              "      <td>0</td>\n",
              "    </tr>\n",
              "    <tr>\n",
              "      <th>325</th>\n",
              "      <td>DGN4</td>\n",
              "      <td>5.03</td>\n",
              "      <td>79.30</td>\n",
              "      <td>PRZ1</td>\n",
              "      <td>0</td>\n",
              "      <td>0</td>\n",
              "      <td>1</td>\n",
              "      <td>0</td>\n",
              "      <td>0</td>\n",
              "      <td>OC11</td>\n",
              "      <td>0</td>\n",
              "      <td>0</td>\n",
              "      <td>0</td>\n",
              "      <td>0</td>\n",
              "      <td>0</td>\n",
              "      <td>38</td>\n",
              "      <td>0</td>\n",
              "    </tr>\n",
              "    <tr>\n",
              "      <th>330</th>\n",
              "      <td>DGN2</td>\n",
              "      <td>2.94</td>\n",
              "      <td>76.00</td>\n",
              "      <td>PRZ1</td>\n",
              "      <td>0</td>\n",
              "      <td>1</td>\n",
              "      <td>1</td>\n",
              "      <td>1</td>\n",
              "      <td>0</td>\n",
              "      <td>OC12</td>\n",
              "      <td>0</td>\n",
              "      <td>0</td>\n",
              "      <td>0</td>\n",
              "      <td>0</td>\n",
              "      <td>0</td>\n",
              "      <td>61</td>\n",
              "      <td>0</td>\n",
              "    </tr>\n",
              "    <tr>\n",
              "      <th>349</th>\n",
              "      <td>DGN4</td>\n",
              "      <td>1.82</td>\n",
              "      <td>86.30</td>\n",
              "      <td>PRZ0</td>\n",
              "      <td>0</td>\n",
              "      <td>0</td>\n",
              "      <td>0</td>\n",
              "      <td>0</td>\n",
              "      <td>0</td>\n",
              "      <td>OC12</td>\n",
              "      <td>0</td>\n",
              "      <td>0</td>\n",
              "      <td>0</td>\n",
              "      <td>0</td>\n",
              "      <td>0</td>\n",
              "      <td>67</td>\n",
              "      <td>0</td>\n",
              "    </tr>\n",
              "    <tr>\n",
              "      <th>352</th>\n",
              "      <td>DGN3</td>\n",
              "      <td>2.94</td>\n",
              "      <td>73.30</td>\n",
              "      <td>PRZ1</td>\n",
              "      <td>0</td>\n",
              "      <td>1</td>\n",
              "      <td>1</td>\n",
              "      <td>0</td>\n",
              "      <td>0</td>\n",
              "      <td>OC12</td>\n",
              "      <td>0</td>\n",
              "      <td>0</td>\n",
              "      <td>0</td>\n",
              "      <td>0</td>\n",
              "      <td>0</td>\n",
              "      <td>60</td>\n",
              "      <td>0</td>\n",
              "    </tr>\n",
              "    <tr>\n",
              "      <th>353</th>\n",
              "      <td>DGN3</td>\n",
              "      <td>3.24</td>\n",
              "      <td>52.30</td>\n",
              "      <td>PRZ0</td>\n",
              "      <td>0</td>\n",
              "      <td>0</td>\n",
              "      <td>0</td>\n",
              "      <td>0</td>\n",
              "      <td>0</td>\n",
              "      <td>OC12</td>\n",
              "      <td>1</td>\n",
              "      <td>0</td>\n",
              "      <td>0</td>\n",
              "      <td>1</td>\n",
              "      <td>0</td>\n",
              "      <td>55</td>\n",
              "      <td>0</td>\n",
              "    </tr>\n",
              "    <tr>\n",
              "      <th>438</th>\n",
              "      <td>DGN5</td>\n",
              "      <td>3.67</td>\n",
              "      <td>76.80</td>\n",
              "      <td>PRZ0</td>\n",
              "      <td>1</td>\n",
              "      <td>1</td>\n",
              "      <td>0</td>\n",
              "      <td>1</td>\n",
              "      <td>0</td>\n",
              "      <td>OC12</td>\n",
              "      <td>0</td>\n",
              "      <td>0</td>\n",
              "      <td>0</td>\n",
              "      <td>0</td>\n",
              "      <td>0</td>\n",
              "      <td>61</td>\n",
              "      <td>0</td>\n",
              "    </tr>\n",
              "    <tr>\n",
              "      <th>444</th>\n",
              "      <td>DGN3</td>\n",
              "      <td>2.56</td>\n",
              "      <td>60.90</td>\n",
              "      <td>PRZ0</td>\n",
              "      <td>0</td>\n",
              "      <td>0</td>\n",
              "      <td>0</td>\n",
              "      <td>0</td>\n",
              "      <td>0</td>\n",
              "      <td>OC11</td>\n",
              "      <td>0</td>\n",
              "      <td>0</td>\n",
              "      <td>0</td>\n",
              "      <td>1</td>\n",
              "      <td>0</td>\n",
              "      <td>50</td>\n",
              "      <td>0</td>\n",
              "    </tr>\n",
              "  </tbody>\n",
              "</table>\n",
              "</div>"
            ]
          },
          "metadata": {
            "tags": []
          },
          "execution_count": 217
        }
      ]
    },
    {
      "cell_type": "code",
      "metadata": {
        "trusted": true,
        "id": "gtMI3N7dfKW2"
      },
      "source": [
        "#удалим 15 строк, где FEV1 > 6.2\n",
        "df = df.drop(df[df['PRE5'] >6.2].index)"
      ],
      "execution_count": null,
      "outputs": []
    },
    {
      "cell_type": "code",
      "metadata": {
        "trusted": true,
        "id": "D00aZa6MfKW2",
        "outputId": "09f36cb6-d79b-4fc5-ea05-673e8684afad"
      },
      "source": [
        "#еще раз посмотрим на распределение FEV1, после удаления строк с некорректными данными\n",
        "ax = sns.displot(x=df['PRE5'])\n",
        "plt.subplots_adjust(top=0.9)\n",
        "ax.fig.suptitle('Гистограмма значений FEV1 после удаления аномальных данных') "
      ],
      "execution_count": null,
      "outputs": [
        {
          "output_type": "execute_result",
          "data": {
            "text/plain": [
              "Text(0.5, 0.98, 'Гистограмма значений FEV1 после удаления аномальных данных')"
            ]
          },
          "metadata": {
            "tags": []
          },
          "execution_count": 219
        },
        {
          "output_type": "display_data",
          "data": {
            "text/plain": [
              "<Figure size 360x360 with 1 Axes>"
            ],
            "image/png": "[encoded data removed]"
          },
          "metadata": {
            "tags": [],
            "needs_background": "light"
          }
        }
      ]
    },
    {
      "cell_type": "code",
      "metadata": {
        "trusted": true,
        "id": "ZLNvC21dfKW2",
        "outputId": "f25934ce-3b68-44e3-d8de-aed742f3291d"
      },
      "source": [
        "ax = sns.displot(x=df['AGE'])\n",
        "plt.subplots_adjust(top=0.9)\n",
        "ax.fig.suptitle('Гистограмма распределения возраста пациентов') "
      ],
      "execution_count": null,
      "outputs": [
        {
          "output_type": "execute_result",
          "data": {
            "text/plain": [
              "Text(0.5, 0.98, 'Гистограмма распределения возраста пациентов')"
            ]
          },
          "metadata": {
            "tags": []
          },
          "execution_count": 220
        },
        {
          "output_type": "display_data",
          "data": {
            "text/plain": [
              "<Figure size 360x360 with 1 Axes>"
            ],
            "image/png": "[encoded data removed]"
          },
          "metadata": {
            "tags": [],
            "needs_background": "light"
          }
        }
      ]
    },
    {
      "cell_type": "code",
      "metadata": {
        "trusted": true,
        "id": "EzcQ6IuBfKW3",
        "outputId": "3eb0f47e-29a5-494c-aa88-f2f0bca41ab8"
      },
      "source": [
        "#PRE6: Performance status - Zubrod scale (PRZ2,PRZ1,PRZ0)\n",
        "#В википедии написано, что данный параметр измеряется от 0 до 5, где 0 - полностью здоров, 5-смерть\n",
        "ax = sns.countplot(x=df['PRE6'])\n",
        "ax.set_title('Performance status')"
      ],
      "execution_count": null,
      "outputs": [
        {
          "output_type": "execute_result",
          "data": {
            "text/plain": [
              "Text(0.5, 1.0, 'Performance status')"
            ]
          },
          "metadata": {
            "tags": []
          },
          "execution_count": 221
        },
        {
          "output_type": "display_data",
          "data": {
            "text/plain": [
              "<Figure size 432x288 with 1 Axes>"
            ],
            "image/png": "[encoded data removed]"
          },
          "metadata": {
            "tags": [],
            "needs_background": "light"
          }
        }
      ]
    },
    {
      "cell_type": "code",
      "metadata": {
        "trusted": true,
        "id": "Huqurjy2fKW3",
        "outputId": "9fc46d39-de28-417d-a9ce-6afef5b53a25"
      },
      "source": [
        "ax = sns.displot(x=df['PRE14'])\n",
        "#ax.set_title('Кол-во диагнозов различных типов')"
      ],
      "execution_count": null,
      "outputs": [
        {
          "output_type": "display_data",
          "data": {
            "text/plain": [
              "<Figure size 360x360 with 1 Axes>"
            ],
            "image/png": "[encoded data removed]"
          },
          "metadata": {
            "tags": [],
            "needs_background": "light"
          }
        }
      ]
    },
    {
      "cell_type": "markdown",
      "metadata": {
        "id": "iytbwab4fKW3"
      },
      "source": [
        "Одним из важных показателей в спирометрии является отношение ОФВ1/ФЖЕЛ (в наших данных PRE4 и PRE5)\n",
        "(индекс Тиффно — является чувствительным индексом наличия или отсутствия ухудшения проходимости дыхательных путей. в норме 75-80 %. (с)википедия)\n",
        "Добавим в датасет столбец с данными"
      ]
    },
    {
      "cell_type": "code",
      "metadata": {
        "trusted": true,
        "id": "AWjym5NPfKW4"
      },
      "source": [
        "df['TIFF'] = df['PRE5']/df['PRE4']"
      ],
      "execution_count": null,
      "outputs": []
    },
    {
      "cell_type": "code",
      "metadata": {
        "trusted": true,
        "id": "CnvUaMFgfKW4",
        "outputId": "cd8b24f4-8e59-426c-b499-f2b4f0aa22c1"
      },
      "source": [
        "ax = sns.displot(x=df['TIFF'])"
      ],
      "execution_count": null,
      "outputs": [
        {
          "output_type": "display_data",
          "data": {
            "text/plain": [
              "<Figure size 360x360 with 1 Axes>"
            ],
            "image/png": "[encoded data removed]"
          },
          "metadata": {
            "tags": [],
            "needs_background": "light"
          }
        }
      ]
    },
    {
      "cell_type": "markdown",
      "metadata": {
        "id": "NjKtqpQQfKW4"
      },
      "source": [
        "Данный показатель не может быть больше 1, так как мы делим объем воздуха, который пациент выдыхает за 1 секунду на его же\"рабочий\" объем легких. Логично предположить что человек не способен выдохнуть больше воздуха, чем помещается в его легкие.\n",
        "Проверим, где в данных PRE5 > PRE4"
      ]
    },
    {
      "cell_type": "code",
      "metadata": {
        "trusted": true,
        "id": "jwBIVPELfKW4",
        "outputId": "69e8f18a-356b-4775-c3c2-93314ec703e7"
      },
      "source": [
        "df.loc[df['PRE4']<df['PRE5']]"
      ],
      "execution_count": null,
      "outputs": [
        {
          "output_type": "execute_result",
          "data": {
            "text/plain": [
              "      DGN  PRE4  PRE5  PRE6  PRE7  PRE8  PRE9  PRE10  PRE11 PRE14  PRE17  \\\n",
              "11   DGN3  4.28  4.44  PRZ1     0     0     0      0      0  OC12      0   \n",
              "77   DGN3  3.04  3.60  PRZ1     0     0     0      1      0  OC12      0   \n",
              "154  DGN3  3.12  3.24  PRZ1     0     0     0      1      0  OC12      0   \n",
              "183  DGN3  2.80  3.36  PRZ1     0     0     0      1      0  OC12      0   \n",
              "203  DGN2  3.60  3.92  PRZ0     0     0     0      0      0  OC12      0   \n",
              "254  DGN3  3.44  3.52  PRZ1     1     0     0      0      0  OC11      0   \n",
              "395  DGN4  3.04  3.68  PRZ1     0     0     0      1      0  OC11      1   \n",
              "\n",
              "     PRE19  PRE25  PRE30  PRE32  AGE  Risk1Yr      TIFF  \n",
              "11       0      0      1      0   58        0  1.037383  \n",
              "77       0      0      1      0   62        1  1.184211  \n",
              "154      0      0      1      0   68        0  1.038462  \n",
              "183      0      0      1      0   56        0  1.200000  \n",
              "203      0      0      1      0   56        0  1.088889  \n",
              "254      0      0      1      0   62        0  1.023256  \n",
              "395      0      0      1      0   64        0  1.210526  "
            ],
            "text/html": [
              "<div>\n",
              "<style scoped>\n",
              "    .dataframe tbody tr th:only-of-type {\n",
              "        vertical-align: middle;\n",
              "    }\n",
              "\n",
              "    .dataframe tbody tr th {\n",
              "        vertical-align: top;\n",
              "    }\n",
              "\n",
              "    .dataframe thead th {\n",
              "        text-align: right;\n",
              "    }\n",
              "</style>\n",
              "<table border=\"1\" class=\"dataframe\">\n",
              "  <thead>\n",
              "    <tr style=\"text-align: right;\">\n",
              "      <th></th>\n",
              "      <th>DGN</th>\n",
              "      <th>PRE4</th>\n",
              "      <th>PRE5</th>\n",
              "      <th>PRE6</th>\n",
              "      <th>PRE7</th>\n",
              "      <th>PRE8</th>\n",
              "      <th>PRE9</th>\n",
              "      <th>PRE10</th>\n",
              "      <th>PRE11</th>\n",
              "      <th>PRE14</th>\n",
              "      <th>PRE17</th>\n",
              "      <th>PRE19</th>\n",
              "      <th>PRE25</th>\n",
              "      <th>PRE30</th>\n",
              "      <th>PRE32</th>\n",
              "      <th>AGE</th>\n",
              "      <th>Risk1Yr</th>\n",
              "      <th>TIFF</th>\n",
              "    </tr>\n",
              "  </thead>\n",
              "  <tbody>\n",
              "    <tr>\n",
              "      <th>11</th>\n",
              "      <td>DGN3</td>\n",
              "      <td>4.28</td>\n",
              "      <td>4.44</td>\n",
              "      <td>PRZ1</td>\n",
              "      <td>0</td>\n",
              "      <td>0</td>\n",
              "      <td>0</td>\n",
              "      <td>0</td>\n",
              "      <td>0</td>\n",
              "      <td>OC12</td>\n",
              "      <td>0</td>\n",
              "      <td>0</td>\n",
              "      <td>0</td>\n",
              "      <td>1</td>\n",
              "      <td>0</td>\n",
              "      <td>58</td>\n",
              "      <td>0</td>\n",
              "      <td>1.037383</td>\n",
              "    </tr>\n",
              "    <tr>\n",
              "      <th>77</th>\n",
              "      <td>DGN3</td>\n",
              "      <td>3.04</td>\n",
              "      <td>3.60</td>\n",
              "      <td>PRZ1</td>\n",
              "      <td>0</td>\n",
              "      <td>0</td>\n",
              "      <td>0</td>\n",
              "      <td>1</td>\n",
              "      <td>0</td>\n",
              "      <td>OC12</td>\n",
              "      <td>0</td>\n",
              "      <td>0</td>\n",
              "      <td>0</td>\n",
              "      <td>1</td>\n",
              "      <td>0</td>\n",
              "      <td>62</td>\n",
              "      <td>1</td>\n",
              "      <td>1.184211</td>\n",
              "    </tr>\n",
              "    <tr>\n",
              "      <th>154</th>\n",
              "      <td>DGN3</td>\n",
              "      <td>3.12</td>\n",
              "      <td>3.24</td>\n",
              "      <td>PRZ1</td>\n",
              "      <td>0</td>\n",
              "      <td>0</td>\n",
              "      <td>0</td>\n",
              "      <td>1</td>\n",
              "      <td>0</td>\n",
              "      <td>OC12</td>\n",
              "      <td>0</td>\n",
              "      <td>0</td>\n",
              "      <td>0</td>\n",
              "      <td>1</td>\n",
              "      <td>0</td>\n",
              "      <td>68</td>\n",
              "      <td>0</td>\n",
              "      <td>1.038462</td>\n",
              "    </tr>\n",
              "    <tr>\n",
              "      <th>183</th>\n",
              "      <td>DGN3</td>\n",
              "      <td>2.80</td>\n",
              "      <td>3.36</td>\n",
              "      <td>PRZ1</td>\n",
              "      <td>0</td>\n",
              "      <td>0</td>\n",
              "      <td>0</td>\n",
              "      <td>1</td>\n",
              "      <td>0</td>\n",
              "      <td>OC12</td>\n",
              "      <td>0</td>\n",
              "      <td>0</td>\n",
              "      <td>0</td>\n",
              "      <td>1</td>\n",
              "      <td>0</td>\n",
              "      <td>56</td>\n",
              "      <td>0</td>\n",
              "      <td>1.200000</td>\n",
              "    </tr>\n",
              "    <tr>\n",
              "      <th>203</th>\n",
              "      <td>DGN2</td>\n",
              "      <td>3.60</td>\n",
              "      <td>3.92</td>\n",
              "      <td>PRZ0</td>\n",
              "      <td>0</td>\n",
              "      <td>0</td>\n",
              "      <td>0</td>\n",
              "      <td>0</td>\n",
              "      <td>0</td>\n",
              "      <td>OC12</td>\n",
              "      <td>0</td>\n",
              "      <td>0</td>\n",
              "      <td>0</td>\n",
              "      <td>1</td>\n",
              "      <td>0</td>\n",
              "      <td>56</td>\n",
              "      <td>0</td>\n",
              "      <td>1.088889</td>\n",
              "    </tr>\n",
              "    <tr>\n",
              "      <th>254</th>\n",
              "      <td>DGN3</td>\n",
              "      <td>3.44</td>\n",
              "      <td>3.52</td>\n",
              "      <td>PRZ1</td>\n",
              "      <td>1</td>\n",
              "      <td>0</td>\n",
              "      <td>0</td>\n",
              "      <td>0</td>\n",
              "      <td>0</td>\n",
              "      <td>OC11</td>\n",
              "      <td>0</td>\n",
              "      <td>0</td>\n",
              "      <td>0</td>\n",
              "      <td>1</td>\n",
              "      <td>0</td>\n",
              "      <td>62</td>\n",
              "      <td>0</td>\n",
              "      <td>1.023256</td>\n",
              "    </tr>\n",
              "    <tr>\n",
              "      <th>395</th>\n",
              "      <td>DGN4</td>\n",
              "      <td>3.04</td>\n",
              "      <td>3.68</td>\n",
              "      <td>PRZ1</td>\n",
              "      <td>0</td>\n",
              "      <td>0</td>\n",
              "      <td>0</td>\n",
              "      <td>1</td>\n",
              "      <td>0</td>\n",
              "      <td>OC11</td>\n",
              "      <td>1</td>\n",
              "      <td>0</td>\n",
              "      <td>0</td>\n",
              "      <td>1</td>\n",
              "      <td>0</td>\n",
              "      <td>64</td>\n",
              "      <td>0</td>\n",
              "      <td>1.210526</td>\n",
              "    </tr>\n",
              "  </tbody>\n",
              "</table>\n",
              "</div>"
            ]
          },
          "metadata": {
            "tags": []
          },
          "execution_count": 225
        }
      ]
    },
    {
      "cell_type": "code",
      "metadata": {
        "trusted": true,
        "id": "iSloV9ShfKW5"
      },
      "source": [
        "#удалим строки с некорректными данными\n",
        "df = df.drop(df[df['PRE4'] < df['PRE5']].index)"
      ],
      "execution_count": null,
      "outputs": []
    },
    {
      "cell_type": "code",
      "metadata": {
        "trusted": true,
        "id": "kPolVFKNfKW5"
      },
      "source": [
        "#Будем использовать one-hot-encoding для кодирования категориальных данных (Хотя для кодирования performance status можно было использовать label encoding)\n",
        "df_encoded = pd.get_dummies(df,columns = ['PRE6', 'PRE14'])"
      ],
      "execution_count": null,
      "outputs": []
    },
    {
      "cell_type": "code",
      "metadata": {
        "trusted": true,
        "id": "8xI6BjDGfKW5"
      },
      "source": [
        "#закодируем целевую переменную, удалив DGN из строк\n",
        "df_encoded['DGN'] = df['DGN'].str[-1:].astype(int)"
      ],
      "execution_count": null,
      "outputs": []
    },
    {
      "cell_type": "code",
      "metadata": {
        "trusted": true,
        "id": "xCA7Mwd-fKW5",
        "outputId": "8521789d-6499-40d1-913b-182a40eefa1d"
      },
      "source": [
        "#признаки\n",
        "df_encoded.columns"
      ],
      "execution_count": null,
      "outputs": [
        {
          "output_type": "execute_result",
          "data": {
            "text/plain": [
              "Index(['DGN', 'PRE4', 'PRE5', 'PRE7', 'PRE8', 'PRE9', 'PRE10', 'PRE11',\n",
              "       'PRE17', 'PRE19', 'PRE25', 'PRE30', 'PRE32', 'AGE', 'Risk1Yr', 'TIFF',\n",
              "       'PRE6_PRZ0', 'PRE6_PRZ1', 'PRE6_PRZ2', 'PRE14_OC11', 'PRE14_OC12',\n",
              "       'PRE14_OC13', 'PRE14_OC14'],\n",
              "      dtype='object')"
            ]
          },
          "metadata": {
            "tags": []
          },
          "execution_count": 229
        }
      ]
    },
    {
      "cell_type": "code",
      "metadata": {
        "trusted": true,
        "id": "cLq3wIcIfKW6",
        "outputId": "fb49f988-a389-443d-9e14-43c31a6f923e"
      },
      "source": [
        "#построим таблицу корреляции\n",
        "plt.subplots(figsize=(10,10))\n",
        "sns.heatmap(df_encoded.corr(), square=True)\n",
        "plt.show()"
      ],
      "execution_count": null,
      "outputs": [
        {
          "output_type": "display_data",
          "data": {
            "text/plain": [
              "<Figure size 720x720 with 2 Axes>"
            ],
            "image/png": "[encoded data removed]"
          },
          "metadata": {
            "tags": [],
            "needs_background": "light"
          }
        }
      ]
    },
    {
      "cell_type": "code",
      "metadata": {
        "trusted": true,
        "id": "PJPt5fXdfKW6"
      },
      "source": [
        "X = df_encoded.drop('DGN',axis=1)\n",
        "y = df_encoded['DGN']"
      ],
      "execution_count": null,
      "outputs": []
    },
    {
      "cell_type": "code",
      "metadata": {
        "trusted": true,
        "id": "VsiY0SYCfKW6"
      },
      "source": [
        "#Нормализуем наши данные\n",
        "from sklearn.preprocessing import scale\n",
        "X_scaled = scale(np.array(X, dtype='float'), with_std=True, with_mean=True)"
      ],
      "execution_count": null,
      "outputs": []
    },
    {
      "cell_type": "markdown",
      "metadata": {
        "id": "Zoi3FBY8fKW6"
      },
      "source": [
        "### 3. PCA"
      ]
    },
    {
      "cell_type": "code",
      "metadata": {
        "trusted": true,
        "id": "3YUV_Dr7fKW7"
      },
      "source": [
        "pca_2 = PCA(n_components=2)\n",
        "principalComponents = pca_2.fit_transform(X)\n",
        "principal_Df = pd.DataFrame(data = principalComponents\n",
        "             , columns = ['principal component 1', 'principal component 2'])"
      ],
      "execution_count": null,
      "outputs": []
    },
    {
      "cell_type": "code",
      "metadata": {
        "trusted": true,
        "id": "6MnLYxzsfKW7",
        "outputId": "f1bb5a20-9d5a-4ebb-85d5-9b9224ebada8"
      },
      "source": [
        "plt.figure(figsize=(16,10))\n",
        "sns.scatterplot(\n",
        "    x=\"principal component 1\", y=\"principal component 2\",\n",
        "    hue=y,\n",
        "    palette=sns.color_palette(\"Set2\", 4),\n",
        "    data=principal_Df,\n",
        "    legend=\"full\",\n",
        "    alpha=1\n",
        ")"
      ],
      "execution_count": null,
      "outputs": [
        {
          "output_type": "execute_result",
          "data": {
            "text/plain": [
              "<AxesSubplot:xlabel='principal component 1', ylabel='principal component 2'>"
            ]
          },
          "metadata": {
            "tags": []
          },
          "execution_count": 234
        },
        {
          "output_type": "display_data",
          "data": {
            "text/plain": [
              "<Figure size 1152x720 with 1 Axes>"
            ],
            "image/png": "[encoded data removed]"
          },
          "metadata": {
            "tags": [],
            "needs_background": "light"
          }
        }
      ]
    },
    {
      "cell_type": "markdown",
      "metadata": {
        "id": "PKSF8bxcfKW7"
      },
      "source": [
        "### 4. Data augmentation : SMOTE,ADASYN, Tomen links"
      ]
    },
    {
      "cell_type": "code",
      "metadata": {
        "trusted": true,
        "id": "RaLa45b7fKW7"
      },
      "source": [
        "from imblearn.over_sampling import SMOTE,ADASYN\n",
        "from sklearn.model_selection import train_test_split\n",
        "from imblearn.under_sampling import TomekLinks"
      ],
      "execution_count": null,
      "outputs": []
    },
    {
      "cell_type": "code",
      "metadata": {
        "trusted": true,
        "id": "FbEgZplYfKW8",
        "outputId": "a93d3e8b-4ae4-4b35-bfe4-d4bd36a12868"
      },
      "source": [
        "#Разделим выборку\n",
        "X_train, X_test, y_train, y_test = train_test_split(X_scaled, y, test_size=0.2, random_state=42, stratify=y )\n",
        "print(\"X_train dataset: \", X_train.shape)\n",
        "print(\"y_train dataset: \", y_train.shape)\n",
        "print(\"X_test dataset: \", X_test.shape)\n",
        "print(\"y_test dataset: \", y_test.shape)"
      ],
      "execution_count": null,
      "outputs": [
        {
          "output_type": "stream",
          "text": [
            "X_train dataset:  (352, 22)\n",
            "y_train dataset:  (352,)\n",
            "X_test dataset:  (89, 22)\n",
            "y_test dataset:  (89,)\n"
          ],
          "name": "stdout"
        }
      ]
    },
    {
      "cell_type": "code",
      "metadata": {
        "trusted": true,
        "id": "GuKX03x3fKW8",
        "outputId": "4eea583e-5a88-40eb-b679-4aaa43eb9991"
      },
      "source": [
        "# remove Tomek links\n",
        "\n",
        "#удаление данных ухудшило результат, датасет и так очень маленький\n",
        "'''\n",
        "tl = TomekLinks(sampling_strategy = 'majority') #поскольку у нас один из классов представлен лучше остальных, будем убирать примеры из него\n",
        "X_train_tl, y_train_tl = tl.fit_sample(X_train, y_train)\n",
        "'''"
      ],
      "execution_count": null,
      "outputs": [
        {
          "output_type": "execute_result",
          "data": {
            "text/plain": [
              "\"\\ntl = TomekLinks(sampling_strategy = 'majority') #поскольку у нас один из классов представлен лучше остальных, будем убирать примеры из него\\nX_train_tl, y_train_tl = tl.fit_sample(X_train, y_train)\\n\""
            ]
          },
          "metadata": {
            "tags": []
          },
          "execution_count": 237
        }
      ]
    },
    {
      "cell_type": "code",
      "metadata": {
        "trusted": true,
        "id": "7KA8KzSnfKW8",
        "outputId": "281c0b4e-6c54-47b4-a226-84512c604dc5"
      },
      "source": [
        "y_train.value_counts()"
      ],
      "execution_count": null,
      "outputs": [
        {
          "output_type": "execute_result",
          "data": {
            "text/plain": [
              "3    268\n",
              "2     38\n",
              "4     35\n",
              "5     11\n",
              "Name: DGN, dtype: int64"
            ]
          },
          "metadata": {
            "tags": []
          },
          "execution_count": 238
        }
      ]
    },
    {
      "cell_type": "code",
      "metadata": {
        "trusted": true,
        "id": "3Kb2sO-hfKW9",
        "outputId": "76bc0e17-283f-4b7a-ca04-601658a18580"
      },
      "source": [
        "print(\"Before OverSampling, y_train values:\\n\",(y_train.value_counts()))\n",
        "\n",
        "sm = SMOTE(random_state=42) #,sampling_strategy='minority')\n",
        "X_train_sm, y_train_sm = sm.fit_resample(X_train, y_train)\n",
        "\n",
        "augm = ADASYN(random_state=42)\n",
        "X_train_as, y_train_as = augm.fit_resample(X_train, y_train)\n",
        "\n",
        "print('\\nAfter smote OverSampling, the shape of train_X: {}'.format(X_train_sm.shape))\n",
        "print('After smote OverSampling, the shape of train_y: {} \\n'.format(y_train_sm.shape))\n",
        "\n",
        "print(\"After SMOTE OverSampling, y_train values:\\n\",(y_train_sm.value_counts()))\n",
        "\n",
        "print('\\nAfter adasyn OverSampling, the shape of train_X: {}'.format(X_train_as.shape))\n",
        "print('After adasyn OverSampling, the shape of train_y: {} \\n'.format(y_train_as.shape))\n",
        "\n",
        "print(\"After ADASYN OverSampling, y_train values:\\n\",(y_train_as.value_counts()))"
      ],
      "execution_count": null,
      "outputs": [
        {
          "output_type": "stream",
          "text": [
            "Before OverSampling, y_train values:\n",
            " 3    268\n",
            "2     38\n",
            "4     35\n",
            "5     11\n",
            "Name: DGN, dtype: int64\n",
            "\n",
            "After smote OverSampling, the shape of train_X: (1072, 276)\n",
            "After smote OverSampling, the shape of train_y: (1072,) \n",
            "\n",
            "After SMOTE OverSampling, y_train values:\n",
            " 2    268\n",
            "3    268\n",
            "4    268\n",
            "5    268\n",
            "Name: DGN, dtype: int64\n",
            "\n",
            "After adasyn OverSampling, the shape of train_X: (1052, 276)\n",
            "After adasyn OverSampling, the shape of train_y: (1052,) \n",
            "\n",
            "After ADASYN OverSampling, y_train values:\n",
            " 5    270\n",
            "3    268\n",
            "4    259\n",
            "2    255\n",
            "Name: DGN, dtype: int64\n"
          ],
          "name": "stdout"
        }
      ]
    },
    {
      "cell_type": "markdown",
      "metadata": {
        "id": "Ko90OG8LfKW-"
      },
      "source": [
        "### 5. Models"
      ]
    },
    {
      "cell_type": "markdown",
      "metadata": {
        "id": "S27LJVbZfKW-"
      },
      "source": [
        "##### 5.1 KNN"
      ]
    },
    {
      "cell_type": "code",
      "metadata": {
        "trusted": true,
        "id": "cJ9mHD6PfKW-",
        "outputId": "49b84fb4-b9de-43c2-e3f7-abf03ac21720"
      },
      "source": [
        "knn = KNeighborsClassifier()\n",
        "# Зададим сетку - среди каких значений выбирать наилучший параметр.\n",
        "random_grid = {'n_neighbors': np.array(np.linspace(1, 20, 1), dtype='int'),\n",
        "           'weights': ['uniform', 'distance'] } #,\n",
        "            # 'metric': ['EuclideanDistance', 'ManhattanDistance']} # перебираем по параметру <<n_neighbors>>, по сетке заданной np.linspace(2, 100, 10)\n",
        "rs = RandomizedSearchCV(knn, random_grid, cv=5)\n",
        "rs.fit(X_train_sm, y_train_sm)"
      ],
      "execution_count": null,
      "outputs": [
        {
          "output_type": "stream",
          "text": [
            "/opt/conda/lib/python3.7/site-packages/sklearn/model_selection/_search.py:282: UserWarning: The total space of parameters 2 is smaller than n_iter=10. Running 2 iterations. For exhaustive searches, use GridSearchCV.\n",
            "  % (grid_size, self.n_iter, grid_size), UserWarning)\n"
          ],
          "name": "stderr"
        },
        {
          "output_type": "execute_result",
          "data": {
            "text/plain": [
              "RandomizedSearchCV(cv=5, estimator=KNeighborsClassifier(),\n",
              "                   param_distributions={'n_neighbors': array([1]),\n",
              "                                        'weights': ['uniform', 'distance']})"
            ]
          },
          "metadata": {
            "tags": []
          },
          "execution_count": 240
        }
      ]
    },
    {
      "cell_type": "code",
      "metadata": {
        "trusted": true,
        "id": "un7GkUe9fKW-",
        "outputId": "90e56f93-0973-4593-d130-0582888495dc"
      },
      "source": [
        "print(rs.best_params_, rs.best_score_)"
      ],
      "execution_count": null,
      "outputs": [
        {
          "output_type": "stream",
          "text": [
            "{'weights': 'uniform', 'n_neighbors': 1} 0.8759574005650945\n"
          ],
          "name": "stdout"
        }
      ]
    },
    {
      "cell_type": "code",
      "metadata": {
        "trusted": true,
        "id": "_EaSrAj9fKW_"
      },
      "source": [
        "clf_knn = KNeighborsClassifier(**rs.best_params_)\n",
        "clf_knn.fit(X_train_sm, y_train_sm)\n",
        "knn_pred = clf_knn.predict(X_test)"
      ],
      "execution_count": null,
      "outputs": []
    },
    {
      "cell_type": "code",
      "metadata": {
        "trusted": true,
        "id": "OBMDwFIgfKW_",
        "outputId": "201e929f-2b56-425e-c848-3721abc390c3"
      },
      "source": [
        "print(classification_report(knn_pred,y_test))"
      ],
      "execution_count": null,
      "outputs": [
        {
          "output_type": "stream",
          "text": [
            "              precision    recall  f1-score   support\n",
            "\n",
            "           2       0.20      0.11      0.14        19\n",
            "           3       0.66      0.80      0.73        56\n",
            "           4       0.11      0.17      0.13         6\n",
            "           5       0.00      0.00      0.00         8\n",
            "\n",
            "    accuracy                           0.54        89\n",
            "   macro avg       0.24      0.27      0.25        89\n",
            "weighted avg       0.47      0.54      0.50        89\n",
            "\n"
          ],
          "name": "stdout"
        }
      ]
    },
    {
      "cell_type": "markdown",
      "metadata": {
        "id": "RfDcNQVZfKW_"
      },
      "source": [
        "##### 5.2 Logistic Regression"
      ]
    },
    {
      "cell_type": "code",
      "metadata": {
        "trusted": true,
        "id": "HnR5jsfUfKXA",
        "outputId": "ab57e80c-f0f6-4b77-b793-c64a4ab82e6b"
      },
      "source": [
        "# Зададим сетку - среди каких значений выбирать наилучший параметр.\n",
        "lr_param_grid = {\n",
        "    \"C\":list(np.linspace(0.01,1,40)), \n",
        "    \"penalty\":[\"l1\",\"l2\"], \n",
        "    \"solver\" : ['lbfgs', 'liblinear']\n",
        "}\n",
        "rs = RandomizedSearchCV(LogisticRegression(), lr_param_grid, cv=5)\n",
        "rs.fit(X_train_sm, y_train_sm)"
      ],
      "execution_count": null,
      "outputs": [
        {
          "output_type": "stream",
          "text": [
            "/opt/conda/lib/python3.7/site-packages/sklearn/model_selection/_validation.py:552: FitFailedWarning: Estimator fit failed. The score on this train-test partition for these parameters will be set to nan. Details: \n",
            "Traceback (most recent call last):\n",
            "  File \"/opt/conda/lib/python3.7/site-packages/sklearn/model_selection/_validation.py\", line 531, in _fit_and_score\n",
            "    estimator.fit(X_train, y_train, **fit_params)\n",
            "  File \"/opt/conda/lib/python3.7/site-packages/sklearn/linear_model/_logistic.py\", line 1304, in fit\n",
            "    solver = _check_solver(self.solver, self.penalty, self.dual)\n",
            "  File \"/opt/conda/lib/python3.7/site-packages/sklearn/linear_model/_logistic.py\", line 443, in _check_solver\n",
            "    \"got %s penalty.\" % (solver, penalty))\n",
            "ValueError: Solver lbfgs supports only 'l2' or 'none' penalties, got l1 penalty.\n",
            "\n",
            "  FitFailedWarning)\n"
          ],
          "name": "stderr"
        },
        {
          "output_type": "execute_result",
          "data": {
            "text/plain": [
              "RandomizedSearchCV(cv=5, estimator=LogisticRegression(),\n",
              "                   param_distributions={'C': [0.01, 0.03538461538461538,\n",
              "                                              0.06076923076923077,\n",
              "                                              0.08615384615384615,\n",
              "                                              0.11153846153846153,\n",
              "                                              0.13692307692307693,\n",
              "                                              0.16230769230769232,\n",
              "                                              0.18769230769230769,\n",
              "                                              0.21307692307692308,\n",
              "                                              0.23846153846153847,\n",
              "                                              0.26384615384615384,\n",
              "                                              0.28923076923076924,\n",
              "                                              0.31461538461538463, 0.34,\n",
              "                                              0.36538461538461536,\n",
              "                                              0.39076923076923076,\n",
              "                                              0.41615384615384615,\n",
              "                                              0.44153846153846155,\n",
              "                                              0.46692307692307694,\n",
              "                                              0.4923076923076923,\n",
              "                                              0.5176923076923077,\n",
              "                                              0.5430769230769231,\n",
              "                                              0.5684615384615385,\n",
              "                                              0.5938461538461538,\n",
              "                                              0.6192307692307693,\n",
              "                                              0.6446153846153846, 0.67,\n",
              "                                              0.6953846153846154,\n",
              "                                              0.7207692307692307,\n",
              "                                              0.7461538461538462, ...],\n",
              "                                        'penalty': ['l1', 'l2'],\n",
              "                                        'solver': ['lbfgs', 'liblinear']})"
            ]
          },
          "metadata": {
            "tags": []
          },
          "execution_count": 244
        }
      ]
    },
    {
      "cell_type": "code",
      "metadata": {
        "trusted": true,
        "id": "N1F7oEvOfKXA",
        "outputId": "35f935a9-e627-4863-c107-f78a07a52fe7"
      },
      "source": [
        "rs.best_params_"
      ],
      "execution_count": null,
      "outputs": [
        {
          "output_type": "execute_result",
          "data": {
            "text/plain": [
              "{'solver': 'lbfgs', 'penalty': 'l2', 'C': 0.8476923076923076}"
            ]
          },
          "metadata": {
            "tags": []
          },
          "execution_count": 245
        }
      ]
    },
    {
      "cell_type": "code",
      "metadata": {
        "trusted": true,
        "id": "vRdWsvwffKXA"
      },
      "source": [
        "lr = LogisticRegression(**rs.best_params_)\n",
        "lr.fit(X_train_sm,y_train_sm)\n",
        "lr_pred = lr.predict(X_test)"
      ],
      "execution_count": null,
      "outputs": []
    },
    {
      "cell_type": "code",
      "metadata": {
        "trusted": true,
        "id": "uzHyzSBWfKXA",
        "outputId": "84a2a719-823a-40ec-9f21-13a67714a8c8"
      },
      "source": [
        "print(classification_report(lr_pred,y_test))"
      ],
      "execution_count": null,
      "outputs": [
        {
          "output_type": "stream",
          "text": [
            "              precision    recall  f1-score   support\n",
            "\n",
            "           2       0.10      0.07      0.08        15\n",
            "           3       0.44      0.75      0.56        40\n",
            "           4       0.22      0.12      0.15        17\n",
            "           5       0.00      0.00      0.00        17\n",
            "\n",
            "    accuracy                           0.37        89\n",
            "   macro avg       0.19      0.23      0.20        89\n",
            "weighted avg       0.26      0.37      0.29        89\n",
            "\n"
          ],
          "name": "stdout"
        }
      ]
    },
    {
      "cell_type": "markdown",
      "metadata": {
        "id": "pFkHdI7-fKXB"
      },
      "source": [
        "##### 5.3 SVM"
      ]
    },
    {
      "cell_type": "code",
      "metadata": {
        "trusted": true,
        "id": "Grn0y8zwfKXB",
        "outputId": "45dce7ea-142c-461f-9e6b-e583e180c4f8"
      },
      "source": [
        "# Зададим сетку - среди каких значений выбирать наилучший параметр.\n",
        "svm_param_grid = {'C': np.array(np.linspace(1, 100, 5), dtype='int') ,\n",
        "            'kernel': ['poly','rbf','sigmoid'],\n",
        "            'decision_function_shape' : ['ovo','ovr']}\n",
        "            #'metric': ['EuclideanDistance', 'ManhattanDistance']} # перебираем по параметру <<n_neighbors>>, по сетке заданной np.linspace(2, 100, 10)\n",
        "rs = RandomizedSearchCV(SVC(), svm_param_grid, cv=5)\n",
        "rs.fit(X_train_sm, y_train_sm)"
      ],
      "execution_count": null,
      "outputs": [
        {
          "output_type": "execute_result",
          "data": {
            "text/plain": [
              "RandomizedSearchCV(cv=5, estimator=SVC(),\n",
              "                   param_distributions={'C': array([  1,  25,  50,  75, 100]),\n",
              "                                        'decision_function_shape': ['ovo',\n",
              "                                                                    'ovr'],\n",
              "                                        'kernel': ['poly', 'rbf', 'sigmoid']})"
            ]
          },
          "metadata": {
            "tags": []
          },
          "execution_count": 248
        }
      ]
    },
    {
      "cell_type": "code",
      "metadata": {
        "trusted": true,
        "id": "4rJ-KnaBfKXB",
        "outputId": "7186343d-2ac4-4c80-dbb5-2a09f77965a2"
      },
      "source": [
        "print(rs.best_params_, rs.best_score_)"
      ],
      "execution_count": null,
      "outputs": [
        {
          "output_type": "stream",
          "text": [
            "{'kernel': 'rbf', 'decision_function_shape': 'ovr', 'C': 75} 0.901160617257118\n"
          ],
          "name": "stdout"
        }
      ]
    },
    {
      "cell_type": "code",
      "metadata": {
        "trusted": true,
        "id": "20hTUCs7fKXC"
      },
      "source": [
        "svm_clf = SVC(**rs.best_params_)\n",
        "svm_clf.fit(X_train_sm, y_train_sm)\n",
        "svm_pred = svm_clf.predict(X_test)"
      ],
      "execution_count": null,
      "outputs": []
    },
    {
      "cell_type": "code",
      "metadata": {
        "trusted": true,
        "id": "mYbYHg5EfKXC",
        "outputId": "58e62ccc-5c27-40e6-a970-75c8f75e5817"
      },
      "source": [
        "print(classification_report(svm_pred,y_test))"
      ],
      "execution_count": null,
      "outputs": [
        {
          "output_type": "stream",
          "text": [
            "              precision    recall  f1-score   support\n",
            "\n",
            "           2       0.10      0.06      0.07        17\n",
            "           3       0.75      0.81      0.78        63\n",
            "           4       0.22      0.40      0.29         5\n",
            "           5       0.00      0.00      0.00         4\n",
            "\n",
            "    accuracy                           0.61        89\n",
            "   macro avg       0.27      0.32      0.28        89\n",
            "weighted avg       0.56      0.61      0.58        89\n",
            "\n"
          ],
          "name": "stdout"
        }
      ]
    },
    {
      "cell_type": "markdown",
      "metadata": {
        "id": "OEcwQuf-fKXC"
      },
      "source": [
        "Из отчетов классификации видно, что ни один из классификаторов не смог настроится на распознание самого малочисленного класса. Возможно стоило его так же удалить и классифицировать оставшиеся 3 класса"
      ]
    },
    {
      "cell_type": "markdown",
      "metadata": {
        "id": "FnabIH3xfKXC"
      },
      "source": [
        "##### 5.4 Polynoms"
      ]
    },
    {
      "cell_type": "code",
      "metadata": {
        "trusted": true,
        "id": "bBhIB6RdfKXD"
      },
      "source": [
        "PolynomialFeatures\n",
        "trans = PolynomialFeatures(degree=2)\n",
        "X_pol = trans.fit_transform(X)"
      ],
      "execution_count": null,
      "outputs": []
    },
    {
      "cell_type": "code",
      "metadata": {
        "trusted": true,
        "id": "DFRBJ8uqfKXD",
        "outputId": "e569194d-d64c-4493-acc4-8623defbfb60"
      },
      "source": [
        "X_pol.shape"
      ],
      "execution_count": null,
      "outputs": [
        {
          "output_type": "execute_result",
          "data": {
            "text/plain": [
              "(441, 276)"
            ]
          },
          "metadata": {
            "tags": []
          },
          "execution_count": 253
        }
      ]
    },
    {
      "cell_type": "code",
      "metadata": {
        "trusted": true,
        "id": "mDQGnVbafKXD"
      },
      "source": [
        "X_train, X_test, y_train, y_test = train_test_split(X_pol, y, test_size=0.2, random_state=42, stratify=y )"
      ],
      "execution_count": null,
      "outputs": []
    },
    {
      "cell_type": "code",
      "metadata": {
        "trusted": true,
        "id": "v67aJCBPfKXD",
        "outputId": "7620c6c9-39fa-48c6-bf20-ae7427e3e597"
      },
      "source": [
        "# Зададим сетку - среди каких значений выбирать наилучший параметр.\n",
        "svm_param_grid = {'C': np.array(np.linspace(1, 100, 5), dtype='int') ,\n",
        "            'kernel': ['poly','rbf','sigmoid'],\n",
        "            'decision_function_shape' : ['ovo','ovr']}\n",
        "            #'metric': ['EuclideanDistance', 'ManhattanDistance']} # перебираем по параметру <<n_neighbors>>, по сетке заданной np.linspace(2, 100, 10)\n",
        "rs = RandomizedSearchCV(SVC(), svm_param_grid, cv=5)\n",
        "rs.fit(X_train, y_train)"
      ],
      "execution_count": null,
      "outputs": [
        {
          "output_type": "execute_result",
          "data": {
            "text/plain": [
              "RandomizedSearchCV(cv=5, estimator=SVC(),\n",
              "                   param_distributions={'C': array([  1,  25,  50,  75, 100]),\n",
              "                                        'decision_function_shape': ['ovo',\n",
              "                                                                    'ovr'],\n",
              "                                        'kernel': ['poly', 'rbf', 'sigmoid']})"
            ]
          },
          "metadata": {
            "tags": []
          },
          "execution_count": 255
        }
      ]
    },
    {
      "cell_type": "code",
      "metadata": {
        "trusted": true,
        "id": "jKkbaWuAfKXE"
      },
      "source": [
        "svm_clf = SVC(**rs.best_params_)\n",
        "svm_clf.fit(X_train, y_train)\n",
        "svm_pred = svm_clf.predict(X_test)"
      ],
      "execution_count": null,
      "outputs": []
    },
    {
      "cell_type": "code",
      "metadata": {
        "trusted": true,
        "id": "MkqTgRnSfKXE",
        "outputId": "4e226c13-f2f9-4adc-f86e-641dbb2cd895"
      },
      "source": [
        "print(classification_report(svm_pred,y_test))"
      ],
      "execution_count": null,
      "outputs": [
        {
          "output_type": "stream",
          "text": [
            "              precision    recall  f1-score   support\n",
            "\n",
            "           2       0.00      0.00      0.00         0\n",
            "           3       1.00      0.76      0.87        89\n",
            "           4       0.00      0.00      0.00         0\n",
            "           5       0.00      0.00      0.00         0\n",
            "\n",
            "    accuracy                           0.76        89\n",
            "   macro avg       0.25      0.19      0.22        89\n",
            "weighted avg       1.00      0.76      0.87        89\n",
            "\n"
          ],
          "name": "stdout"
        },
        {
          "output_type": "stream",
          "text": [
            "/opt/conda/lib/python3.7/site-packages/sklearn/metrics/_classification.py:1221: UndefinedMetricWarning: Recall and F-score are ill-defined and being set to 0.0 in labels with no true samples. Use `zero_division` parameter to control this behavior.\n",
            "  _warn_prf(average, modifier, msg_start, len(result))\n"
          ],
          "name": "stderr"
        }
      ]
    },
    {
      "cell_type": "markdown",
      "metadata": {
        "id": "2yVy3IUSfKXE"
      },
      "source": [
        "Без семплирования алгорим классификации показывает лучший результат, просто всегда предсказывая самый популярный класс."
      ]
    },
    {
      "cell_type": "markdown",
      "metadata": {
        "id": "3-56ucylfKXE"
      },
      "source": [
        "Попробуем SVM с полиномиальными признами на данных после oversampling"
      ]
    },
    {
      "cell_type": "code",
      "metadata": {
        "trusted": true,
        "id": "IkUDCLNqfKXF"
      },
      "source": [
        "X_train_pol_sm, y_train_pol_sm = sm.fit_resample(X_train, y_train)"
      ],
      "execution_count": null,
      "outputs": []
    },
    {
      "cell_type": "code",
      "metadata": {
        "trusted": true,
        "id": "UAW9IbT-fKXF",
        "outputId": "ef28aab0-e80e-4e71-b955-79a5607b2507"
      },
      "source": [
        " y_train_pol_sm.value_counts()"
      ],
      "execution_count": null,
      "outputs": [
        {
          "output_type": "execute_result",
          "data": {
            "text/plain": [
              "2    268\n",
              "3    268\n",
              "4    268\n",
              "5    268\n",
              "Name: DGN, dtype: int64"
            ]
          },
          "metadata": {
            "tags": []
          },
          "execution_count": 259
        }
      ]
    },
    {
      "cell_type": "code",
      "metadata": {
        "trusted": true,
        "id": "5MKcAuD3fKXF",
        "outputId": "8ef49069-8701-4c1d-ec92-349f024e8773"
      },
      "source": [
        "# Зададим сетку - среди каких значений выбирать наилучший параметр.\n",
        "svm_param_grid = {'C': np.array(np.linspace(1, 100, 5), dtype='int') ,\n",
        "            'kernel': ['poly','rbf','sigmoid'],\n",
        "            'decision_function_shape' : ['ovo','ovr']}\n",
        "            #'metric': ['EuclideanDistance', 'ManhattanDistance']} # перебираем по параметру <<n_neighbors>>, по сетке заданной np.linspace(2, 100, 10)\n",
        "rs = RandomizedSearchCV(SVC(), svm_param_grid, cv=5)\n",
        "rs.fit(X_train_pol_sm, y_train_pol_sm)"
      ],
      "execution_count": null,
      "outputs": [
        {
          "output_type": "execute_result",
          "data": {
            "text/plain": [
              "RandomizedSearchCV(cv=5, estimator=SVC(),\n",
              "                   param_distributions={'C': array([  1,  25,  50,  75, 100]),\n",
              "                                        'decision_function_shape': ['ovo',\n",
              "                                                                    'ovr'],\n",
              "                                        'kernel': ['poly', 'rbf', 'sigmoid']})"
            ]
          },
          "metadata": {
            "tags": []
          },
          "execution_count": 260
        }
      ]
    },
    {
      "cell_type": "code",
      "metadata": {
        "trusted": true,
        "id": "8Fa13CvifKXF",
        "outputId": "15442772-e802-4697-c16b-1f37a638fabb"
      },
      "source": [
        "svm_clf = SVC(**rs.best_params_)\n",
        "svm_clf.fit(X_train_pol_sm, y_train_pol_sm)\n",
        "svm_pred = svm_clf.predict(X_test)\n",
        "print(classification_report(svm_pred,y_test))"
      ],
      "execution_count": null,
      "outputs": [
        {
          "output_type": "stream",
          "text": [
            "              precision    recall  f1-score   support\n",
            "\n",
            "           2       0.40      0.16      0.23        25\n",
            "           3       0.25      0.77      0.38        22\n",
            "           4       0.44      0.17      0.24        24\n",
            "           5       0.50      0.06      0.10        18\n",
            "\n",
            "    accuracy                           0.29        89\n",
            "   macro avg       0.40      0.29      0.24        89\n",
            "weighted avg       0.40      0.29      0.24        89\n",
            "\n"
          ],
          "name": "stdout"
        }
      ]
    },
    {
      "cell_type": "markdown",
      "metadata": {
        "id": "wc5bGvOOfKXG"
      },
      "source": [
        "##### 5.5 Random Forest"
      ]
    },
    {
      "cell_type": "code",
      "metadata": {
        "trusted": true,
        "id": "4dVzF4f1fKXG",
        "outputId": "1bcdc403-6a05-4292-d2a8-bde0c48da4a2"
      },
      "source": [
        "param_grid = {\n",
        "    'max_depth': [i for i in range(3, 10)],\n",
        "    'min_samples_split': [i for i in range(2, 10)],\n",
        "    'max_features': [i for i in range(2,5)],\n",
        "    'criterion' : ['gini', 'entropy'],\n",
        "    'bootstrap':[True, False],\n",
        "    'min_samples_leaf': [i for i in range(1,5)]\n",
        "}\n",
        "\n",
        "# инициализируем случайный лес с перебором по кросс-вал на выбранных выше праметрах\n",
        "rs = RandomizedSearchCV(RandomForestClassifier(), param_grid, verbose=2, n_jobs=-1)\n",
        "rs.fit(X_train_sm, y_train_sm)\n",
        "\n",
        "# best_params_ содержит в себе лучшие подобранные параметры, best_score_ лучшее качество\n",
        "print()\n",
        "rs.best_params_, rs.best_score_"
      ],
      "execution_count": null,
      "outputs": [
        {
          "output_type": "stream",
          "text": [
            "Fitting 5 folds for each of 10 candidates, totalling 50 fits\n"
          ],
          "name": "stdout"
        },
        {
          "output_type": "stream",
          "text": [
            "[Parallel(n_jobs=-1)]: Using backend LokyBackend with 4 concurrent workers.\n",
            "[Parallel(n_jobs=-1)]: Done  33 tasks      | elapsed:    3.9s\n",
            "[Parallel(n_jobs=-1)]: Done  50 out of  50 | elapsed:    5.5s finished\n"
          ],
          "name": "stderr"
        },
        {
          "output_type": "stream",
          "text": [
            "\n"
          ],
          "name": "stdout"
        },
        {
          "output_type": "execute_result",
          "data": {
            "text/plain": [
              "({'min_samples_split': 3,\n",
              "  'min_samples_leaf': 3,\n",
              "  'max_features': 4,\n",
              "  'max_depth': 9,\n",
              "  'criterion': 'entropy',\n",
              "  'bootstrap': False},\n",
              " 0.860173875244512)"
            ]
          },
          "metadata": {
            "tags": []
          },
          "execution_count": 268
        }
      ]
    },
    {
      "cell_type": "code",
      "metadata": {
        "trusted": true,
        "id": "Gqj2JJ-LfKXG",
        "outputId": "8ee2998a-eb45-44af-dd5f-8c15e6ab3968"
      },
      "source": [
        "rf_reg = RandomForestClassifier(**rs.best_params_)\n",
        "rf_reg.fit(X_train_sm, y_train_sm)\n",
        "pred_rf = rf_reg.predict(X_test)\n",
        "print(classification_report(pred_rf,y_test))"
      ],
      "execution_count": null,
      "outputs": [
        {
          "output_type": "stream",
          "text": [
            "              precision    recall  f1-score   support\n",
            "\n",
            "           2       0.00      0.00      0.00         5\n",
            "           3       0.87      0.75      0.80        79\n",
            "           4       0.00      0.00      0.00         1\n",
            "           5       0.00      0.00      0.00         4\n",
            "\n",
            "    accuracy                           0.66        89\n",
            "   macro avg       0.22      0.19      0.20        89\n",
            "weighted avg       0.77      0.66      0.71        89\n",
            "\n"
          ],
          "name": "stdout"
        }
      ]
    }
  ]
}