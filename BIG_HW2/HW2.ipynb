{
  "nbformat": 4,
  "nbformat_minor": 0,
  "metadata": {
    "kernelspec": {
      "name": "python3",
      "display_name": "Python 3",
      "language": "python"
    },
    "language_info": {
      "name": "python",
      "version": "3.7.9",
      "mimetype": "text/x-python",
      "codemirror_mode": {
        "name": "ipython",
        "version": 3
      },
      "pygments_lexer": "ipython3",
      "nbconvert_exporter": "python",
      "file_extension": ".py"
    },
    "colab": {
      "name": "Copy of homework2.ipynb",
      "provenance": [],
      "toc_visible": true,
      "include_colab_link": true
    }
  },
  "cells": [
    {
      "cell_type": "markdown",
      "metadata": {
        "id": "view-in-github",
        "colab_type": "text"
      },
      "source": [
        "<a href=\"https://colab.research.google.com/github/fedjkeee/Homework/blob/main/BIG_HW2/HW2.ipynb\" target=\"_parent\"><img src=\"https://colab.research.google.com/assets/colab-badge.svg\" alt=\"Open In Colab\"/></a>"
      ]
    },
    {
      "cell_type": "code",
      "metadata": {
        "trusted": true,
        "id": "qPimoXoafKWr"
      },
      "source": [
        "import pandas as pd\n",
        "import numpy as np\n",
        "import seaborn as sns\n",
        "import matplotlib.pyplot as plt\n",
        "from sklearn.metrics import classification_report\n",
        "from sklearn.model_selection import RandomizedSearchCV\n",
        "from sklearn.neighbors import KNeighborsClassifier\n",
        "from sklearn.linear_model import LogisticRegression\n",
        "from sklearn.svm import SVC\n",
        "from sklearn.preprocessing import PolynomialFeatures\n",
        "from sklearn.decomposition import PCA\n",
        "from sklearn.ensemble import RandomForestClassifier"
      ],
      "execution_count": 1,
      "outputs": []
    },
    {
      "cell_type": "code",
      "metadata": {
        "trusted": true,
        "id": "9kSiFzZmfKWs"
      },
      "source": [
        "df = pd.read_csv(\"https://raw.githubusercontent.com/fedjkeee/Homework/main/BIG_HW2/ThoraricSurgery.csv\")"
      ],
      "execution_count": 2,
      "outputs": []
    },
    {
      "cell_type": "markdown",
      "metadata": {
        "id": "zYFahfSXfKWt"
      },
      "source": [
        "### 1. Information"
      ]
    },
    {
      "cell_type": "markdown",
      "metadata": {
        "id": "xjRcWFiXfKWt"
      },
      "source": [
        "Data Set Information:\n",
        "\n",
        "The data was collected retrospectively at Wroclaw Thoracic Surgery Centre for patients who underwent major lung resections for primary lung cancer in the years 2007â€“2011. The Centre is associated with the Department of Thoracic Surgery of the Medical University of Wroclaw and Lower-Silesian Centre for Pulmonary Diseases, Poland, while the research database constitutes a part of the National Lung Cancer Registry, administered by the Institute of Tuberculosis and Pulmonary Diseases in Warsaw, Poland.\n",
        "\n",
        "\n",
        "Attribute Information:\n",
        "\n",
        "1. DGN: Diagnosis - specific combination of ICD-10 codes for primary and secondary as well multiple tumours if any (DGN3,DGN2,DGN4,DGN6,DGN5,DGN8,DGN1)\n",
        "2. PRE4: Forced vital capacity - FVC (numeric)   (ФЖЕЛ — форсированная жизненная ёмкость лёгких. Разница между объёмами воздуха в лёгких в точках начала и конца манёвра форсированного выдоха.)\n",
        "3. PRE5: Volume that has been exhaled at the end of the first second of forced expiration - FEV1 (numeric)  (ОФВ1 — Объём форсированного выдоха за первую секунду манёвра форсированного выдоха. Отношение ОФВ1/ФЖЕЛ, выраженное в процентах — индекс Тиффно — является чувствительным индексом наличия или отсутствия ухудшения проходимости дыхательных путей. в норме 75-80 %.)\n",
        "4. PRE6: Performance status - Zubrod scale (PRZ2,PRZ1,PRZ0)\n",
        "5. PRE7: Pain before surgery (T,F)\n",
        "6. PRE8: Haemoptysis before surgery (T,F)\n",
        "7. PRE9: Dyspnoea before surgery (T,F)\n",
        "8. PRE10: Cough before surgery (T,F)\n",
        "9. PRE11: Weakness before surgery (T,F)\n",
        "10. PRE14: T in clinical TNM - size of the original tumour, from OC11 (smallest) to OC14 (largest) (OC11,OC14,OC12,OC13)\n",
        "11. PRE17: Type 2 DM - diabetes mellitus (T,F)\n",
        "12. PRE19: MI up to 6 months (T,F)\n",
        "13. PRE25: PAD - peripheral arterial diseases (T,F)\n",
        "14. PRE30: Smoking (T,F)\n",
        "15. PRE32: Asthma (T,F)\n",
        "16. AGE: Age at surgery (numeric)\n",
        "17. Risk1Y: 1 year survival period - (T)rue value if died (T,F)\n",
        "\n",
        "Class Distribution: the class value (Risk1Y) is binary valued.\n",
        "Risk1Y Value: Number of Instances:\n",
        "T 70\n",
        "N 400"
      ]
    },
    {
      "cell_type": "markdown",
      "metadata": {
        "id": "jUr9s4vkfKWu"
      },
      "source": [
        "### 2. Feature engineering"
      ]
    },
    {
      "cell_type": "code",
      "metadata": {
        "trusted": true,
        "id": "ypQAUEytfKWu",
        "colab": {
          "base_uri": "https://localhost:8080/",
          "height": 204
        },
        "outputId": "c4eb8416-8664-46b3-d88c-ef42853f78fc"
      },
      "source": [
        "df.head()"
      ],
      "execution_count": 3,
      "outputs": [
        {
          "output_type": "execute_result",
          "data": {
            "text/html": [
              "<div>\n",
              "<style scoped>\n",
              "    .dataframe tbody tr th:only-of-type {\n",
              "        vertical-align: middle;\n",
              "    }\n",
              "\n",
              "    .dataframe tbody tr th {\n",
              "        vertical-align: top;\n",
              "    }\n",
              "\n",
              "    .dataframe thead th {\n",
              "        text-align: right;\n",
              "    }\n",
              "</style>\n",
              "<table border=\"1\" class=\"dataframe\">\n",
              "  <thead>\n",
              "    <tr style=\"text-align: right;\">\n",
              "      <th></th>\n",
              "      <th>id</th>\n",
              "      <th>DGN</th>\n",
              "      <th>PRE4</th>\n",
              "      <th>PRE5</th>\n",
              "      <th>PRE6</th>\n",
              "      <th>PRE7</th>\n",
              "      <th>PRE8</th>\n",
              "      <th>PRE9</th>\n",
              "      <th>PRE10</th>\n",
              "      <th>PRE11</th>\n",
              "      <th>PRE14</th>\n",
              "      <th>PRE17</th>\n",
              "      <th>PRE19</th>\n",
              "      <th>PRE25</th>\n",
              "      <th>PRE30</th>\n",
              "      <th>PRE32</th>\n",
              "      <th>AGE</th>\n",
              "      <th>Risk1Yr</th>\n",
              "    </tr>\n",
              "  </thead>\n",
              "  <tbody>\n",
              "    <tr>\n",
              "      <th>0</th>\n",
              "      <td>1</td>\n",
              "      <td>DGN2</td>\n",
              "      <td>2.88</td>\n",
              "      <td>2.16</td>\n",
              "      <td>PRZ1</td>\n",
              "      <td>F</td>\n",
              "      <td>F</td>\n",
              "      <td>F</td>\n",
              "      <td>T</td>\n",
              "      <td>T</td>\n",
              "      <td>OC14</td>\n",
              "      <td>F</td>\n",
              "      <td>F</td>\n",
              "      <td>F</td>\n",
              "      <td>T</td>\n",
              "      <td>F</td>\n",
              "      <td>60</td>\n",
              "      <td>F</td>\n",
              "    </tr>\n",
              "    <tr>\n",
              "      <th>1</th>\n",
              "      <td>2</td>\n",
              "      <td>DGN3</td>\n",
              "      <td>3.40</td>\n",
              "      <td>1.88</td>\n",
              "      <td>PRZ0</td>\n",
              "      <td>F</td>\n",
              "      <td>F</td>\n",
              "      <td>F</td>\n",
              "      <td>F</td>\n",
              "      <td>F</td>\n",
              "      <td>OC12</td>\n",
              "      <td>F</td>\n",
              "      <td>F</td>\n",
              "      <td>F</td>\n",
              "      <td>T</td>\n",
              "      <td>F</td>\n",
              "      <td>51</td>\n",
              "      <td>F</td>\n",
              "    </tr>\n",
              "    <tr>\n",
              "      <th>2</th>\n",
              "      <td>3</td>\n",
              "      <td>DGN3</td>\n",
              "      <td>2.76</td>\n",
              "      <td>2.08</td>\n",
              "      <td>PRZ1</td>\n",
              "      <td>F</td>\n",
              "      <td>F</td>\n",
              "      <td>F</td>\n",
              "      <td>T</td>\n",
              "      <td>F</td>\n",
              "      <td>OC11</td>\n",
              "      <td>F</td>\n",
              "      <td>F</td>\n",
              "      <td>F</td>\n",
              "      <td>T</td>\n",
              "      <td>F</td>\n",
              "      <td>59</td>\n",
              "      <td>F</td>\n",
              "    </tr>\n",
              "    <tr>\n",
              "      <th>3</th>\n",
              "      <td>4</td>\n",
              "      <td>DGN3</td>\n",
              "      <td>3.68</td>\n",
              "      <td>3.04</td>\n",
              "      <td>PRZ0</td>\n",
              "      <td>F</td>\n",
              "      <td>F</td>\n",
              "      <td>F</td>\n",
              "      <td>F</td>\n",
              "      <td>F</td>\n",
              "      <td>OC11</td>\n",
              "      <td>F</td>\n",
              "      <td>F</td>\n",
              "      <td>F</td>\n",
              "      <td>F</td>\n",
              "      <td>F</td>\n",
              "      <td>54</td>\n",
              "      <td>F</td>\n",
              "    </tr>\n",
              "    <tr>\n",
              "      <th>4</th>\n",
              "      <td>5</td>\n",
              "      <td>DGN3</td>\n",
              "      <td>2.44</td>\n",
              "      <td>0.96</td>\n",
              "      <td>PRZ2</td>\n",
              "      <td>F</td>\n",
              "      <td>T</td>\n",
              "      <td>F</td>\n",
              "      <td>T</td>\n",
              "      <td>T</td>\n",
              "      <td>OC11</td>\n",
              "      <td>F</td>\n",
              "      <td>F</td>\n",
              "      <td>F</td>\n",
              "      <td>T</td>\n",
              "      <td>F</td>\n",
              "      <td>73</td>\n",
              "      <td>T</td>\n",
              "    </tr>\n",
              "  </tbody>\n",
              "</table>\n",
              "</div>"
            ],
            "text/plain": [
              "   id   DGN  PRE4  PRE5  PRE6 PRE7  ... PRE19 PRE25 PRE30 PRE32 AGE Risk1Yr\n",
              "0   1  DGN2  2.88  2.16  PRZ1    F  ...     F     F     T     F  60       F\n",
              "1   2  DGN3  3.40  1.88  PRZ0    F  ...     F     F     T     F  51       F\n",
              "2   3  DGN3  2.76  2.08  PRZ1    F  ...     F     F     T     F  59       F\n",
              "3   4  DGN3  3.68  3.04  PRZ0    F  ...     F     F     F     F  54       F\n",
              "4   5  DGN3  2.44  0.96  PRZ2    F  ...     F     F     T     F  73       T\n",
              "\n",
              "[5 rows x 18 columns]"
            ]
          },
          "metadata": {
            "tags": []
          },
          "execution_count": 3
        }
      ]
    },
    {
      "cell_type": "code",
      "metadata": {
        "trusted": true,
        "id": "eJxx2-YVfKWu",
        "colab": {
          "base_uri": "https://localhost:8080/"
        },
        "outputId": "6bcb638f-b223-4831-8a19-4e79b4631f9b"
      },
      "source": [
        "df.info()"
      ],
      "execution_count": 4,
      "outputs": [
        {
          "output_type": "stream",
          "text": [
            "<class 'pandas.core.frame.DataFrame'>\n",
            "RangeIndex: 470 entries, 0 to 469\n",
            "Data columns (total 18 columns):\n",
            " #   Column   Non-Null Count  Dtype  \n",
            "---  ------   --------------  -----  \n",
            " 0   id       470 non-null    int64  \n",
            " 1   DGN      470 non-null    object \n",
            " 2   PRE4     470 non-null    float64\n",
            " 3   PRE5     470 non-null    float64\n",
            " 4   PRE6     470 non-null    object \n",
            " 5   PRE7     470 non-null    object \n",
            " 6   PRE8     470 non-null    object \n",
            " 7   PRE9     470 non-null    object \n",
            " 8   PRE10    470 non-null    object \n",
            " 9   PRE11    470 non-null    object \n",
            " 10  PRE14    470 non-null    object \n",
            " 11  PRE17    470 non-null    object \n",
            " 12  PRE19    470 non-null    object \n",
            " 13  PRE25    470 non-null    object \n",
            " 14  PRE30    470 non-null    object \n",
            " 15  PRE32    470 non-null    object \n",
            " 16  AGE      470 non-null    int64  \n",
            " 17  Risk1Yr  470 non-null    object \n",
            "dtypes: float64(2), int64(2), object(14)\n",
            "memory usage: 66.2+ KB\n"
          ],
          "name": "stdout"
        }
      ]
    },
    {
      "cell_type": "code",
      "metadata": {
        "trusted": true,
        "id": "xXSBaha-fKWv"
      },
      "source": [
        "#Заменим T\\F на 0\\1\n",
        "binary_columns = ['PRE7', 'PRE8', 'PRE9', 'PRE10', 'PRE11', 'PRE17', 'PRE19', 'PRE25', \n",
        "     'PRE30', 'PRE32', 'Risk1Yr']\n",
        "for column in binary_columns:\n",
        "    df[column] = df[column].apply(lambda x: 1 if x == \"T\" else 0)"
      ],
      "execution_count": 5,
      "outputs": []
    },
    {
      "cell_type": "code",
      "metadata": {
        "trusted": true,
        "id": "ju5Gx1wWfKWv",
        "colab": {
          "base_uri": "https://localhost:8080/",
          "height": 204
        },
        "outputId": "eabc063e-78d8-4c76-b25e-32e2072eeef6"
      },
      "source": [
        "df.head()"
      ],
      "execution_count": 6,
      "outputs": [
        {
          "output_type": "execute_result",
          "data": {
            "text/html": [
              "<div>\n",
              "<style scoped>\n",
              "    .dataframe tbody tr th:only-of-type {\n",
              "        vertical-align: middle;\n",
              "    }\n",
              "\n",
              "    .dataframe tbody tr th {\n",
              "        vertical-align: top;\n",
              "    }\n",
              "\n",
              "    .dataframe thead th {\n",
              "        text-align: right;\n",
              "    }\n",
              "</style>\n",
              "<table border=\"1\" class=\"dataframe\">\n",
              "  <thead>\n",
              "    <tr style=\"text-align: right;\">\n",
              "      <th></th>\n",
              "      <th>id</th>\n",
              "      <th>DGN</th>\n",
              "      <th>PRE4</th>\n",
              "      <th>PRE5</th>\n",
              "      <th>PRE6</th>\n",
              "      <th>PRE7</th>\n",
              "      <th>PRE8</th>\n",
              "      <th>PRE9</th>\n",
              "      <th>PRE10</th>\n",
              "      <th>PRE11</th>\n",
              "      <th>PRE14</th>\n",
              "      <th>PRE17</th>\n",
              "      <th>PRE19</th>\n",
              "      <th>PRE25</th>\n",
              "      <th>PRE30</th>\n",
              "      <th>PRE32</th>\n",
              "      <th>AGE</th>\n",
              "      <th>Risk1Yr</th>\n",
              "    </tr>\n",
              "  </thead>\n",
              "  <tbody>\n",
              "    <tr>\n",
              "      <th>0</th>\n",
              "      <td>1</td>\n",
              "      <td>DGN2</td>\n",
              "      <td>2.88</td>\n",
              "      <td>2.16</td>\n",
              "      <td>PRZ1</td>\n",
              "      <td>0</td>\n",
              "      <td>0</td>\n",
              "      <td>0</td>\n",
              "      <td>1</td>\n",
              "      <td>1</td>\n",
              "      <td>OC14</td>\n",
              "      <td>0</td>\n",
              "      <td>0</td>\n",
              "      <td>0</td>\n",
              "      <td>1</td>\n",
              "      <td>0</td>\n",
              "      <td>60</td>\n",
              "      <td>0</td>\n",
              "    </tr>\n",
              "    <tr>\n",
              "      <th>1</th>\n",
              "      <td>2</td>\n",
              "      <td>DGN3</td>\n",
              "      <td>3.40</td>\n",
              "      <td>1.88</td>\n",
              "      <td>PRZ0</td>\n",
              "      <td>0</td>\n",
              "      <td>0</td>\n",
              "      <td>0</td>\n",
              "      <td>0</td>\n",
              "      <td>0</td>\n",
              "      <td>OC12</td>\n",
              "      <td>0</td>\n",
              "      <td>0</td>\n",
              "      <td>0</td>\n",
              "      <td>1</td>\n",
              "      <td>0</td>\n",
              "      <td>51</td>\n",
              "      <td>0</td>\n",
              "    </tr>\n",
              "    <tr>\n",
              "      <th>2</th>\n",
              "      <td>3</td>\n",
              "      <td>DGN3</td>\n",
              "      <td>2.76</td>\n",
              "      <td>2.08</td>\n",
              "      <td>PRZ1</td>\n",
              "      <td>0</td>\n",
              "      <td>0</td>\n",
              "      <td>0</td>\n",
              "      <td>1</td>\n",
              "      <td>0</td>\n",
              "      <td>OC11</td>\n",
              "      <td>0</td>\n",
              "      <td>0</td>\n",
              "      <td>0</td>\n",
              "      <td>1</td>\n",
              "      <td>0</td>\n",
              "      <td>59</td>\n",
              "      <td>0</td>\n",
              "    </tr>\n",
              "    <tr>\n",
              "      <th>3</th>\n",
              "      <td>4</td>\n",
              "      <td>DGN3</td>\n",
              "      <td>3.68</td>\n",
              "      <td>3.04</td>\n",
              "      <td>PRZ0</td>\n",
              "      <td>0</td>\n",
              "      <td>0</td>\n",
              "      <td>0</td>\n",
              "      <td>0</td>\n",
              "      <td>0</td>\n",
              "      <td>OC11</td>\n",
              "      <td>0</td>\n",
              "      <td>0</td>\n",
              "      <td>0</td>\n",
              "      <td>0</td>\n",
              "      <td>0</td>\n",
              "      <td>54</td>\n",
              "      <td>0</td>\n",
              "    </tr>\n",
              "    <tr>\n",
              "      <th>4</th>\n",
              "      <td>5</td>\n",
              "      <td>DGN3</td>\n",
              "      <td>2.44</td>\n",
              "      <td>0.96</td>\n",
              "      <td>PRZ2</td>\n",
              "      <td>0</td>\n",
              "      <td>1</td>\n",
              "      <td>0</td>\n",
              "      <td>1</td>\n",
              "      <td>1</td>\n",
              "      <td>OC11</td>\n",
              "      <td>0</td>\n",
              "      <td>0</td>\n",
              "      <td>0</td>\n",
              "      <td>1</td>\n",
              "      <td>0</td>\n",
              "      <td>73</td>\n",
              "      <td>1</td>\n",
              "    </tr>\n",
              "  </tbody>\n",
              "</table>\n",
              "</div>"
            ],
            "text/plain": [
              "   id   DGN  PRE4  PRE5  PRE6  PRE7  ...  PRE19  PRE25  PRE30  PRE32 AGE  Risk1Yr\n",
              "0   1  DGN2  2.88  2.16  PRZ1     0  ...      0      0      1      0  60        0\n",
              "1   2  DGN3  3.40  1.88  PRZ0     0  ...      0      0      1      0  51        0\n",
              "2   3  DGN3  2.76  2.08  PRZ1     0  ...      0      0      1      0  59        0\n",
              "3   4  DGN3  3.68  3.04  PRZ0     0  ...      0      0      0      0  54        0\n",
              "4   5  DGN3  2.44  0.96  PRZ2     0  ...      0      0      1      0  73        1\n",
              "\n",
              "[5 rows x 18 columns]"
            ]
          },
          "metadata": {
            "tags": []
          },
          "execution_count": 6
        }
      ]
    },
    {
      "cell_type": "code",
      "metadata": {
        "trusted": true,
        "id": "eJ3D8h91fKWw"
      },
      "source": [
        "#удалим неинформативный столбец\n",
        "df.drop('id',axis=1,inplace=True)"
      ],
      "execution_count": 7,
      "outputs": []
    },
    {
      "cell_type": "markdown",
      "metadata": {
        "id": "rfJn5fy9fKWw"
      },
      "source": [
        "* Посмотрим на распределение выживших и не выживших через 1 год после операции"
      ]
    },
    {
      "cell_type": "code",
      "metadata": {
        "trusted": true,
        "id": "nBodwbkYfKWw",
        "colab": {
          "base_uri": "https://localhost:8080/",
          "height": 312
        },
        "outputId": "c8a351b6-c11a-4ab6-9808-9fb7c52cf390"
      },
      "source": [
        "ax = sns.countplot(x=df['Risk1Yr'])\n",
        "ax.set_title('Гистограмма риска смерти через год после операции')"
      ],
      "execution_count": 8,
      "outputs": [
        {
          "output_type": "execute_result",
          "data": {
            "text/plain": [
              "Text(0.5, 1.0, 'Гистограмма риска смерти через год после операции')"
            ]
          },
          "metadata": {
            "tags": []
          },
          "execution_count": 8
        },
        {
          "output_type": "display_data",
          "data": {
            "image/png": "[encoded data removed]",
            "text/plain": [
              "<Figure size 432x288 with 1 Axes>"
            ]
          },
          "metadata": {
            "tags": [],
            "needs_background": "light"
          }
        }
      ]
    },
    {
      "cell_type": "markdown",
      "metadata": {
        "id": "agLsEqFXfKWx"
      },
      "source": [
        "Посмотрим какие типы диагнозов ставились"
      ]
    },
    {
      "cell_type": "code",
      "metadata": {
        "trusted": true,
        "id": "Dk-1F8tSfKWx",
        "colab": {
          "base_uri": "https://localhost:8080/"
        },
        "outputId": "df6c5f49-252c-4e37-c10d-5ce987bebf1e"
      },
      "source": [
        "df['DGN'].value_counts()"
      ],
      "execution_count": 9,
      "outputs": [
        {
          "output_type": "execute_result",
          "data": {
            "text/plain": [
              "DGN3    349\n",
              "DGN2     52\n",
              "DGN4     47\n",
              "DGN5     15\n",
              "DGN6      4\n",
              "DGN8      2\n",
              "DGN1      1\n",
              "Name: DGN, dtype: int64"
            ]
          },
          "metadata": {
            "tags": []
          },
          "execution_count": 9
        }
      ]
    },
    {
      "cell_type": "markdown",
      "metadata": {
        "id": "mZZifzSHfKWx"
      },
      "source": [
        "Классы несбалансированы."
      ]
    },
    {
      "cell_type": "code",
      "metadata": {
        "trusted": true,
        "id": "TbsQ2CqQfKWy",
        "colab": {
          "base_uri": "https://localhost:8080/",
          "height": 312
        },
        "outputId": "0daaff9f-dfe4-4bab-bcdb-f159ca5452b8"
      },
      "source": [
        "ax = sns.countplot(x=df['DGN'])\n",
        "ax.set_title('Кол-во диагнозов различных типов')"
      ],
      "execution_count": 10,
      "outputs": [
        {
          "output_type": "execute_result",
          "data": {
            "text/plain": [
              "Text(0.5, 1.0, 'Кол-во диагнозов различных типов')"
            ]
          },
          "metadata": {
            "tags": []
          },
          "execution_count": 10
        },
        {
          "output_type": "display_data",
          "data": {
            "image/png": "[encoded data removed]",
            "text/plain": [
              "<Figure size 432x288 with 1 Axes>"
            ]
          },
          "metadata": {
            "tags": [],
            "needs_background": "light"
          }
        }
      ]
    },
    {
      "cell_type": "markdown",
      "metadata": {
        "id": "9yyb3GstfKWy"
      },
      "source": [
        "Чаще всего ставился диагноз №3"
      ]
    },
    {
      "cell_type": "markdown",
      "metadata": {
        "id": "WDcP_PxHfKWy"
      },
      "source": [
        "Удалим данные с теми диагнозами, количество наблюдений которых слишком мало. Обучить модель на 1-2 примерах мы не сможем, попробуем предсказывать диагнозы 2,3,4,5"
      ]
    },
    {
      "cell_type": "code",
      "metadata": {
        "trusted": true,
        "id": "Tssb9VsKfKWy"
      },
      "source": [
        "for dgn in ['DGN1','DGN8','DGN6']:\n",
        "    df = df.drop(df[df['DGN'] == dgn].index)"
      ],
      "execution_count": 11,
      "outputs": []
    },
    {
      "cell_type": "code",
      "metadata": {
        "trusted": true,
        "id": "nGoO5DFZfKWz"
      },
      "source": [
        "#diagnoses = ['DGN1','DGN8','DGN6','DGN5']\n",
        "#for diagnos in diagnoses:\n",
        "#    df.DGN = np.where(df.DGN == diagnos, 'DGN0',df.DGN)"
      ],
      "execution_count": 12,
      "outputs": []
    },
    {
      "cell_type": "code",
      "metadata": {
        "trusted": true,
        "id": "R1l2D1tgfKWz",
        "colab": {
          "base_uri": "https://localhost:8080/",
          "height": 312
        },
        "outputId": "30428858-32ba-4599-946d-4e4628be2130"
      },
      "source": [
        "ax = sns.countplot(x=df['DGN'])\n",
        "ax.set_title('Кол-во диагнозов различных типов')"
      ],
      "execution_count": 13,
      "outputs": [
        {
          "output_type": "execute_result",
          "data": {
            "text/plain": [
              "Text(0.5, 1.0, 'Кол-во диагнозов различных типов')"
            ]
          },
          "metadata": {
            "tags": []
          },
          "execution_count": 13
        },
        {
          "output_type": "display_data",
          "data": {
            "image/png": "[encoded data removed]",
            "text/plain": [
              "<Figure size 432x288 with 1 Axes>"
            ]
          },
          "metadata": {
            "tags": [],
            "needs_background": "light"
          }
        }
      ]
    },
    {
      "cell_type": "markdown",
      "metadata": {
        "id": "7rDIQQV0fKW0"
      },
      "source": [
        "Посмотрим на распределения численных признаков."
      ]
    },
    {
      "cell_type": "markdown",
      "metadata": {
        "id": "s9VAaOyLfKW0"
      },
      "source": [
        "PRE4: Forced vital capacity - FVC (numeric) (Жизненная ёмкость лёгких — максимальный объём воздуха, который может быть набран в лёгкие после максимально полного выдоха.)"
      ]
    },
    {
      "cell_type": "code",
      "metadata": {
        "trusted": true,
        "id": "5kpngvEofKW0",
        "colab": {
          "base_uri": "https://localhost:8080/",
          "height": 390
        },
        "outputId": "f2db7975-85ae-4bc7-8b63-405f1b3b1314"
      },
      "source": [
        "ax = sns.displot(x=df['PRE4'])\n",
        "plt.subplots_adjust(top=0.9)\n",
        "ax.fig.suptitle('Гистограмма значений FVC - Жизненная ёмкость лёгких') "
      ],
      "execution_count": 14,
      "outputs": [
        {
          "output_type": "execute_result",
          "data": {
            "text/plain": [
              "Text(0.5, 0.98, 'Гистограмма значений FVC - Жизненная ёмкость лёгких')"
            ]
          },
          "metadata": {
            "tags": []
          },
          "execution_count": 14
        },
        {
          "output_type": "display_data",
          "data": {
            "image/png": "[encoded data removed]",
            "text/plain": [
              "<Figure size 360x360 with 1 Axes>"
            ]
          },
          "metadata": {
            "tags": [],
            "needs_background": "light"
          }
        }
      ]
    },
    {
      "cell_type": "markdown",
      "metadata": {
        "id": "tNR_v68afKW1"
      },
      "source": [
        "PRE5: Volume that has been exhaled at the end of the first second of forced expiration - FEV1 (numeric) (ОФВ1 - объём форсированного выдоха за 1 секунду - объём воздуха, выдохнутого в течение первой секунды форсированного выдоха.)"
      ]
    },
    {
      "cell_type": "code",
      "metadata": {
        "trusted": true,
        "id": "xm5IlJG4fKW1",
        "colab": {
          "base_uri": "https://localhost:8080/",
          "height": 390
        },
        "outputId": "081feee4-e0cf-4654-fbfe-3665828773d9"
      },
      "source": [
        "ax = sns.displot(x=df['PRE5'])\n",
        "plt.subplots_adjust(top=0.9)\n",
        "ax.fig.suptitle('Гистограмма значений FEV1') "
      ],
      "execution_count": 15,
      "outputs": [
        {
          "output_type": "execute_result",
          "data": {
            "text/plain": [
              "Text(0.5, 0.98, 'Гистограмма значений FEV1')"
            ]
          },
          "metadata": {
            "tags": []
          },
          "execution_count": 15
        },
        {
          "output_type": "display_data",
          "data": {
            "image/png": "[encoded data removed]",
            "text/plain": [
              "<Figure size 360x360 with 1 Axes>"
            ]
          },
          "metadata": {
            "tags": [],
            "needs_background": "light"
          }
        }
      ]
    },
    {
      "cell_type": "markdown",
      "metadata": {
        "id": "twfdoTaJfKW1"
      },
      "source": [
        "В данных присутствуют выбросы. Видимо это ошибка в данных, так как данный параметр измеряется в литрах- какой объем воздуха человек выдыхает за 1 секунду. Очевидно, что человек не может за 1 секунду выдохнуть 60-80 литров воздуха.\n",
        "Согласно Википедии, средний объем легких у взрослого человека- 3-4 л. У пловцов до 6.2 л."
      ]
    },
    {
      "cell_type": "markdown",
      "metadata": {
        "id": "9FEKTaZMfKW1"
      },
      "source": [
        "Посмотрим, сколько записей в датасете содержать ошибочные данные."
      ]
    },
    {
      "cell_type": "code",
      "metadata": {
        "trusted": true,
        "id": "W32Y-5e1fKW2",
        "colab": {
          "base_uri": "https://localhost:8080/",
          "height": 514
        },
        "outputId": "5acfe159-78e2-4d74-fed2-e88f08e7ff41"
      },
      "source": [
        "df.loc[df['PRE5'] > 6.2]"
      ],
      "execution_count": 16,
      "outputs": [
        {
          "output_type": "execute_result",
          "data": {
            "text/html": [
              "<div>\n",
              "<style scoped>\n",
              "    .dataframe tbody tr th:only-of-type {\n",
              "        vertical-align: middle;\n",
              "    }\n",
              "\n",
              "    .dataframe tbody tr th {\n",
              "        vertical-align: top;\n",
              "    }\n",
              "\n",
              "    .dataframe thead th {\n",
              "        text-align: right;\n",
              "    }\n",
              "</style>\n",
              "<table border=\"1\" class=\"dataframe\">\n",
              "  <thead>\n",
              "    <tr style=\"text-align: right;\">\n",
              "      <th></th>\n",
              "      <th>DGN</th>\n",
              "      <th>PRE4</th>\n",
              "      <th>PRE5</th>\n",
              "      <th>PRE6</th>\n",
              "      <th>PRE7</th>\n",
              "      <th>PRE8</th>\n",
              "      <th>PRE9</th>\n",
              "      <th>PRE10</th>\n",
              "      <th>PRE11</th>\n",
              "      <th>PRE14</th>\n",
              "      <th>PRE17</th>\n",
              "      <th>PRE19</th>\n",
              "      <th>PRE25</th>\n",
              "      <th>PRE30</th>\n",
              "      <th>PRE32</th>\n",
              "      <th>AGE</th>\n",
              "      <th>Risk1Yr</th>\n",
              "    </tr>\n",
              "  </thead>\n",
              "  <tbody>\n",
              "    <tr>\n",
              "      <th>25</th>\n",
              "      <td>DGN5</td>\n",
              "      <td>4.56</td>\n",
              "      <td>72.80</td>\n",
              "      <td>PRZ0</td>\n",
              "      <td>1</td>\n",
              "      <td>1</td>\n",
              "      <td>0</td>\n",
              "      <td>1</td>\n",
              "      <td>0</td>\n",
              "      <td>OC12</td>\n",
              "      <td>0</td>\n",
              "      <td>0</td>\n",
              "      <td>0</td>\n",
              "      <td>1</td>\n",
              "      <td>0</td>\n",
              "      <td>57</td>\n",
              "      <td>0</td>\n",
              "    </tr>\n",
              "    <tr>\n",
              "      <th>89</th>\n",
              "      <td>DGN3</td>\n",
              "      <td>2.83</td>\n",
              "      <td>66.40</td>\n",
              "      <td>PRZ1</td>\n",
              "      <td>1</td>\n",
              "      <td>1</td>\n",
              "      <td>1</td>\n",
              "      <td>1</td>\n",
              "      <td>0</td>\n",
              "      <td>OC12</td>\n",
              "      <td>0</td>\n",
              "      <td>0</td>\n",
              "      <td>0</td>\n",
              "      <td>1</td>\n",
              "      <td>0</td>\n",
              "      <td>75</td>\n",
              "      <td>0</td>\n",
              "    </tr>\n",
              "    <tr>\n",
              "      <th>98</th>\n",
              "      <td>DGN3</td>\n",
              "      <td>2.63</td>\n",
              "      <td>67.30</td>\n",
              "      <td>PRZ1</td>\n",
              "      <td>0</td>\n",
              "      <td>0</td>\n",
              "      <td>1</td>\n",
              "      <td>1</td>\n",
              "      <td>0</td>\n",
              "      <td>OC11</td>\n",
              "      <td>0</td>\n",
              "      <td>0</td>\n",
              "      <td>0</td>\n",
              "      <td>1</td>\n",
              "      <td>0</td>\n",
              "      <td>54</td>\n",
              "      <td>0</td>\n",
              "    </tr>\n",
              "    <tr>\n",
              "      <th>112</th>\n",
              "      <td>DGN3</td>\n",
              "      <td>3.68</td>\n",
              "      <td>64.10</td>\n",
              "      <td>PRZ0</td>\n",
              "      <td>0</td>\n",
              "      <td>0</td>\n",
              "      <td>0</td>\n",
              "      <td>0</td>\n",
              "      <td>0</td>\n",
              "      <td>OC12</td>\n",
              "      <td>0</td>\n",
              "      <td>0</td>\n",
              "      <td>0</td>\n",
              "      <td>1</td>\n",
              "      <td>0</td>\n",
              "      <td>60</td>\n",
              "      <td>0</td>\n",
              "    </tr>\n",
              "    <tr>\n",
              "      <th>132</th>\n",
              "      <td>DGN2</td>\n",
              "      <td>2.50</td>\n",
              "      <td>71.10</td>\n",
              "      <td>PRZ0</td>\n",
              "      <td>0</td>\n",
              "      <td>0</td>\n",
              "      <td>1</td>\n",
              "      <td>0</td>\n",
              "      <td>0</td>\n",
              "      <td>OC13</td>\n",
              "      <td>0</td>\n",
              "      <td>0</td>\n",
              "      <td>0</td>\n",
              "      <td>1</td>\n",
              "      <td>0</td>\n",
              "      <td>64</td>\n",
              "      <td>1</td>\n",
              "    </tr>\n",
              "    <tr>\n",
              "      <th>215</th>\n",
              "      <td>DGN2</td>\n",
              "      <td>2.66</td>\n",
              "      <td>8.56</td>\n",
              "      <td>PRZ1</td>\n",
              "      <td>0</td>\n",
              "      <td>1</td>\n",
              "      <td>0</td>\n",
              "      <td>1</td>\n",
              "      <td>0</td>\n",
              "      <td>OC12</td>\n",
              "      <td>0</td>\n",
              "      <td>0</td>\n",
              "      <td>0</td>\n",
              "      <td>1</td>\n",
              "      <td>0</td>\n",
              "      <td>61</td>\n",
              "      <td>0</td>\n",
              "    </tr>\n",
              "    <tr>\n",
              "      <th>255</th>\n",
              "      <td>DGN3</td>\n",
              "      <td>3.72</td>\n",
              "      <td>78.30</td>\n",
              "      <td>PRZ0</td>\n",
              "      <td>1</td>\n",
              "      <td>0</td>\n",
              "      <td>0</td>\n",
              "      <td>1</td>\n",
              "      <td>0</td>\n",
              "      <td>OC12</td>\n",
              "      <td>0</td>\n",
              "      <td>0</td>\n",
              "      <td>0</td>\n",
              "      <td>1</td>\n",
              "      <td>0</td>\n",
              "      <td>44</td>\n",
              "      <td>0</td>\n",
              "    </tr>\n",
              "    <tr>\n",
              "      <th>319</th>\n",
              "      <td>DGN3</td>\n",
              "      <td>2.10</td>\n",
              "      <td>69.10</td>\n",
              "      <td>PRZ0</td>\n",
              "      <td>0</td>\n",
              "      <td>0</td>\n",
              "      <td>0</td>\n",
              "      <td>0</td>\n",
              "      <td>0</td>\n",
              "      <td>OC11</td>\n",
              "      <td>0</td>\n",
              "      <td>0</td>\n",
              "      <td>0</td>\n",
              "      <td>1</td>\n",
              "      <td>0</td>\n",
              "      <td>62</td>\n",
              "      <td>0</td>\n",
              "    </tr>\n",
              "    <tr>\n",
              "      <th>325</th>\n",
              "      <td>DGN4</td>\n",
              "      <td>5.03</td>\n",
              "      <td>79.30</td>\n",
              "      <td>PRZ1</td>\n",
              "      <td>0</td>\n",
              "      <td>0</td>\n",
              "      <td>1</td>\n",
              "      <td>0</td>\n",
              "      <td>0</td>\n",
              "      <td>OC11</td>\n",
              "      <td>0</td>\n",
              "      <td>0</td>\n",
              "      <td>0</td>\n",
              "      <td>0</td>\n",
              "      <td>0</td>\n",
              "      <td>38</td>\n",
              "      <td>0</td>\n",
              "    </tr>\n",
              "    <tr>\n",
              "      <th>330</th>\n",
              "      <td>DGN2</td>\n",
              "      <td>2.94</td>\n",
              "      <td>76.00</td>\n",
              "      <td>PRZ1</td>\n",
              "      <td>0</td>\n",
              "      <td>1</td>\n",
              "      <td>1</td>\n",
              "      <td>1</td>\n",
              "      <td>0</td>\n",
              "      <td>OC12</td>\n",
              "      <td>0</td>\n",
              "      <td>0</td>\n",
              "      <td>0</td>\n",
              "      <td>0</td>\n",
              "      <td>0</td>\n",
              "      <td>61</td>\n",
              "      <td>0</td>\n",
              "    </tr>\n",
              "    <tr>\n",
              "      <th>349</th>\n",
              "      <td>DGN4</td>\n",
              "      <td>1.82</td>\n",
              "      <td>86.30</td>\n",
              "      <td>PRZ0</td>\n",
              "      <td>0</td>\n",
              "      <td>0</td>\n",
              "      <td>0</td>\n",
              "      <td>0</td>\n",
              "      <td>0</td>\n",
              "      <td>OC12</td>\n",
              "      <td>0</td>\n",
              "      <td>0</td>\n",
              "      <td>0</td>\n",
              "      <td>0</td>\n",
              "      <td>0</td>\n",
              "      <td>67</td>\n",
              "      <td>0</td>\n",
              "    </tr>\n",
              "    <tr>\n",
              "      <th>352</th>\n",
              "      <td>DGN3</td>\n",
              "      <td>2.94</td>\n",
              "      <td>73.30</td>\n",
              "      <td>PRZ1</td>\n",
              "      <td>0</td>\n",
              "      <td>1</td>\n",
              "      <td>1</td>\n",
              "      <td>0</td>\n",
              "      <td>0</td>\n",
              "      <td>OC12</td>\n",
              "      <td>0</td>\n",
              "      <td>0</td>\n",
              "      <td>0</td>\n",
              "      <td>0</td>\n",
              "      <td>0</td>\n",
              "      <td>60</td>\n",
              "      <td>0</td>\n",
              "    </tr>\n",
              "    <tr>\n",
              "      <th>353</th>\n",
              "      <td>DGN3</td>\n",
              "      <td>3.24</td>\n",
              "      <td>52.30</td>\n",
              "      <td>PRZ0</td>\n",
              "      <td>0</td>\n",
              "      <td>0</td>\n",
              "      <td>0</td>\n",
              "      <td>0</td>\n",
              "      <td>0</td>\n",
              "      <td>OC12</td>\n",
              "      <td>1</td>\n",
              "      <td>0</td>\n",
              "      <td>0</td>\n",
              "      <td>1</td>\n",
              "      <td>0</td>\n",
              "      <td>55</td>\n",
              "      <td>0</td>\n",
              "    </tr>\n",
              "    <tr>\n",
              "      <th>438</th>\n",
              "      <td>DGN5</td>\n",
              "      <td>3.67</td>\n",
              "      <td>76.80</td>\n",
              "      <td>PRZ0</td>\n",
              "      <td>1</td>\n",
              "      <td>1</td>\n",
              "      <td>0</td>\n",
              "      <td>1</td>\n",
              "      <td>0</td>\n",
              "      <td>OC12</td>\n",
              "      <td>0</td>\n",
              "      <td>0</td>\n",
              "      <td>0</td>\n",
              "      <td>0</td>\n",
              "      <td>0</td>\n",
              "      <td>61</td>\n",
              "      <td>0</td>\n",
              "    </tr>\n",
              "    <tr>\n",
              "      <th>444</th>\n",
              "      <td>DGN3</td>\n",
              "      <td>2.56</td>\n",
              "      <td>60.90</td>\n",
              "      <td>PRZ0</td>\n",
              "      <td>0</td>\n",
              "      <td>0</td>\n",
              "      <td>0</td>\n",
              "      <td>0</td>\n",
              "      <td>0</td>\n",
              "      <td>OC11</td>\n",
              "      <td>0</td>\n",
              "      <td>0</td>\n",
              "      <td>0</td>\n",
              "      <td>1</td>\n",
              "      <td>0</td>\n",
              "      <td>50</td>\n",
              "      <td>0</td>\n",
              "    </tr>\n",
              "  </tbody>\n",
              "</table>\n",
              "</div>"
            ],
            "text/plain": [
              "      DGN  PRE4   PRE5  PRE6  PRE7  ...  PRE25  PRE30  PRE32  AGE Risk1Yr\n",
              "25   DGN5  4.56  72.80  PRZ0     1  ...      0      1      0   57       0\n",
              "89   DGN3  2.83  66.40  PRZ1     1  ...      0      1      0   75       0\n",
              "98   DGN3  2.63  67.30  PRZ1     0  ...      0      1      0   54       0\n",
              "112  DGN3  3.68  64.10  PRZ0     0  ...      0      1      0   60       0\n",
              "132  DGN2  2.50  71.10  PRZ0     0  ...      0      1      0   64       1\n",
              "215  DGN2  2.66   8.56  PRZ1     0  ...      0      1      0   61       0\n",
              "255  DGN3  3.72  78.30  PRZ0     1  ...      0      1      0   44       0\n",
              "319  DGN3  2.10  69.10  PRZ0     0  ...      0      1      0   62       0\n",
              "325  DGN4  5.03  79.30  PRZ1     0  ...      0      0      0   38       0\n",
              "330  DGN2  2.94  76.00  PRZ1     0  ...      0      0      0   61       0\n",
              "349  DGN4  1.82  86.30  PRZ0     0  ...      0      0      0   67       0\n",
              "352  DGN3  2.94  73.30  PRZ1     0  ...      0      0      0   60       0\n",
              "353  DGN3  3.24  52.30  PRZ0     0  ...      0      1      0   55       0\n",
              "438  DGN5  3.67  76.80  PRZ0     1  ...      0      0      0   61       0\n",
              "444  DGN3  2.56  60.90  PRZ0     0  ...      0      1      0   50       0\n",
              "\n",
              "[15 rows x 17 columns]"
            ]
          },
          "metadata": {
            "tags": []
          },
          "execution_count": 16
        }
      ]
    },
    {
      "cell_type": "code",
      "metadata": {
        "trusted": true,
        "id": "gtMI3N7dfKW2"
      },
      "source": [
        "#удалим 15 строк, где FEV1 > 6.2\n",
        "df = df.drop(df[df['PRE5'] >6.2].index)"
      ],
      "execution_count": 17,
      "outputs": []
    },
    {
      "cell_type": "code",
      "metadata": {
        "trusted": true,
        "id": "D00aZa6MfKW2",
        "colab": {
          "base_uri": "https://localhost:8080/",
          "height": 390
        },
        "outputId": "3091e76b-ba2f-48ba-b24c-4616f7f11690"
      },
      "source": [
        "#еще раз посмотрим на распределение FEV1, после удаления строк с некорректными данными\n",
        "ax = sns.displot(x=df['PRE5'])\n",
        "plt.subplots_adjust(top=0.9)\n",
        "ax.fig.suptitle('Гистограмма значений FEV1 после удаления аномальных данных') "
      ],
      "execution_count": 18,
      "outputs": [
        {
          "output_type": "execute_result",
          "data": {
            "text/plain": [
              "Text(0.5, 0.98, 'Гистограмма значений FEV1 после удаления аномальных данных')"
            ]
          },
          "metadata": {
            "tags": []
          },
          "execution_count": 18
        },
        {
          "output_type": "display_data",
          "data": {
            "image/png": "[encoded data removed]",
            "text/plain": [
              "<Figure size 360x360 with 1 Axes>"
            ]
          },
          "metadata": {
            "tags": [],
            "needs_background": "light"
          }
        }
      ]
    },
    {
      "cell_type": "code",
      "metadata": {
        "trusted": true,
        "id": "ZLNvC21dfKW2",
        "colab": {
          "base_uri": "https://localhost:8080/",
          "height": 390
        },
        "outputId": "19d719d3-a78f-4fe2-b020-5194a05c054d"
      },
      "source": [
        "ax = sns.displot(x=df['AGE'])\n",
        "plt.subplots_adjust(top=0.9)\n",
        "ax.fig.suptitle('Гистограмма распределения возраста пациентов') "
      ],
      "execution_count": 19,
      "outputs": [
        {
          "output_type": "execute_result",
          "data": {
            "text/plain": [
              "Text(0.5, 0.98, 'Гистограмма распределения возраста пациентов')"
            ]
          },
          "metadata": {
            "tags": []
          },
          "execution_count": 19
        },
        {
          "output_type": "display_data",
          "data": {
            "image/png": "[encoded data removed]",
            "text/plain": [
              "<Figure size 360x360 with 1 Axes>"
            ]
          },
          "metadata": {
            "tags": [],
            "needs_background": "light"
          }
        }
      ]
    },
    {
      "cell_type": "code",
      "metadata": {
        "trusted": true,
        "id": "EzcQ6IuBfKW3",
        "colab": {
          "base_uri": "https://localhost:8080/",
          "height": 312
        },
        "outputId": "ff8c05d3-2085-4eb6-9f8d-71e9d655917e"
      },
      "source": [
        "#PRE6: Performance status - Zubrod scale (PRZ2,PRZ1,PRZ0)\n",
        "#В википедии написано, что данный параметр измеряется от 0 до 5, где 0 - полностью здоров, 5-смерть\n",
        "ax = sns.countplot(x=df['PRE6'])\n",
        "ax.set_title('Performance status')"
      ],
      "execution_count": 20,
      "outputs": [
        {
          "output_type": "execute_result",
          "data": {
            "text/plain": [
              "Text(0.5, 1.0, 'Performance status')"
            ]
          },
          "metadata": {
            "tags": []
          },
          "execution_count": 20
        },
        {
          "output_type": "display_data",
          "data": {
            "image/png": "[encoded data removed]",
            "text/plain": [
              "<Figure size 432x288 with 1 Axes>"
            ]
          },
          "metadata": {
            "tags": [],
            "needs_background": "light"
          }
        }
      ]
    },
    {
      "cell_type": "code",
      "metadata": {
        "trusted": true,
        "id": "Huqurjy2fKW3",
        "colab": {
          "base_uri": "https://localhost:8080/",
          "height": 369
        },
        "outputId": "c37dc114-295a-419d-f344-2c4f4542dc3c"
      },
      "source": [
        "ax = sns.displot(x=df['PRE14'])\n",
        "#ax.set_title('Кол-во диагнозов различных типов')"
      ],
      "execution_count": 21,
      "outputs": [
        {
          "output_type": "display_data",
          "data": {
            "image/png": "[encoded data removed]",
            "text/plain": [
              "<Figure size 360x360 with 1 Axes>"
            ]
          },
          "metadata": {
            "tags": [],
            "needs_background": "light"
          }
        }
      ]
    },
    {
      "cell_type": "markdown",
      "metadata": {
        "id": "iytbwab4fKW3"
      },
      "source": [
        "Одним из важных показателей в спирометрии является отношение ОФВ1/ФЖЕЛ (в наших данных PRE4 и PRE5)\n",
        "(индекс Тиффно — является чувствительным индексом наличия или отсутствия ухудшения проходимости дыхательных путей. в норме 75-80 %. (с)википедия)\n",
        "Добавим в датасет столбец с данными"
      ]
    },
    {
      "cell_type": "code",
      "metadata": {
        "trusted": true,
        "id": "AWjym5NPfKW4"
      },
      "source": [
        "df['TIFF'] = df['PRE5']/df['PRE4']"
      ],
      "execution_count": 22,
      "outputs": []
    },
    {
      "cell_type": "code",
      "metadata": {
        "trusted": true,
        "id": "CnvUaMFgfKW4",
        "colab": {
          "base_uri": "https://localhost:8080/",
          "height": 369
        },
        "outputId": "d6295097-9933-4a62-925e-7b62974d2a03"
      },
      "source": [
        "ax = sns.displot(x=df['TIFF'])"
      ],
      "execution_count": 23,
      "outputs": [
        {
          "output_type": "display_data",
          "data": {
            "image/png": "[encoded data removed]",
            "text/plain": [
              "<Figure size 360x360 with 1 Axes>"
            ]
          },
          "metadata": {
            "tags": [],
            "needs_background": "light"
          }
        }
      ]
    },
    {
      "cell_type": "markdown",
      "metadata": {
        "id": "NjKtqpQQfKW4"
      },
      "source": [
        "Данный показатель не может быть больше 1, так как мы делим объем воздуха, который пациент выдыхает за 1 секунду на его же\"рабочий\" объем легких. Логично предположить что человек не способен выдохнуть больше воздуха, чем помещается в его легкие.\n",
        "Проверим, где в данных PRE5 > PRE4"
      ]
    },
    {
      "cell_type": "code",
      "metadata": {
        "trusted": true,
        "id": "jwBIVPELfKW4",
        "colab": {
          "base_uri": "https://localhost:8080/",
          "height": 266
        },
        "outputId": "69be249e-316c-4ed1-d3b3-c7565cce15a1"
      },
      "source": [
        "df.loc[df['PRE4']<df['PRE5']]"
      ],
      "execution_count": 24,
      "outputs": [
        {
          "output_type": "execute_result",
          "data": {
            "text/html": [
              "<div>\n",
              "<style scoped>\n",
              "    .dataframe tbody tr th:only-of-type {\n",
              "        vertical-align: middle;\n",
              "    }\n",
              "\n",
              "    .dataframe tbody tr th {\n",
              "        vertical-align: top;\n",
              "    }\n",
              "\n",
              "    .dataframe thead th {\n",
              "        text-align: right;\n",
              "    }\n",
              "</style>\n",
              "<table border=\"1\" class=\"dataframe\">\n",
              "  <thead>\n",
              "    <tr style=\"text-align: right;\">\n",
              "      <th></th>\n",
              "      <th>DGN</th>\n",
              "      <th>PRE4</th>\n",
              "      <th>PRE5</th>\n",
              "      <th>PRE6</th>\n",
              "      <th>PRE7</th>\n",
              "      <th>PRE8</th>\n",
              "      <th>PRE9</th>\n",
              "      <th>PRE10</th>\n",
              "      <th>PRE11</th>\n",
              "      <th>PRE14</th>\n",
              "      <th>PRE17</th>\n",
              "      <th>PRE19</th>\n",
              "      <th>PRE25</th>\n",
              "      <th>PRE30</th>\n",
              "      <th>PRE32</th>\n",
              "      <th>AGE</th>\n",
              "      <th>Risk1Yr</th>\n",
              "      <th>TIFF</th>\n",
              "    </tr>\n",
              "  </thead>\n",
              "  <tbody>\n",
              "    <tr>\n",
              "      <th>11</th>\n",
              "      <td>DGN3</td>\n",
              "      <td>4.28</td>\n",
              "      <td>4.44</td>\n",
              "      <td>PRZ1</td>\n",
              "      <td>0</td>\n",
              "      <td>0</td>\n",
              "      <td>0</td>\n",
              "      <td>0</td>\n",
              "      <td>0</td>\n",
              "      <td>OC12</td>\n",
              "      <td>0</td>\n",
              "      <td>0</td>\n",
              "      <td>0</td>\n",
              "      <td>1</td>\n",
              "      <td>0</td>\n",
              "      <td>58</td>\n",
              "      <td>0</td>\n",
              "      <td>1.037383</td>\n",
              "    </tr>\n",
              "    <tr>\n",
              "      <th>77</th>\n",
              "      <td>DGN3</td>\n",
              "      <td>3.04</td>\n",
              "      <td>3.60</td>\n",
              "      <td>PRZ1</td>\n",
              "      <td>0</td>\n",
              "      <td>0</td>\n",
              "      <td>0</td>\n",
              "      <td>1</td>\n",
              "      <td>0</td>\n",
              "      <td>OC12</td>\n",
              "      <td>0</td>\n",
              "      <td>0</td>\n",
              "      <td>0</td>\n",
              "      <td>1</td>\n",
              "      <td>0</td>\n",
              "      <td>62</td>\n",
              "      <td>1</td>\n",
              "      <td>1.184211</td>\n",
              "    </tr>\n",
              "    <tr>\n",
              "      <th>154</th>\n",
              "      <td>DGN3</td>\n",
              "      <td>3.12</td>\n",
              "      <td>3.24</td>\n",
              "      <td>PRZ1</td>\n",
              "      <td>0</td>\n",
              "      <td>0</td>\n",
              "      <td>0</td>\n",
              "      <td>1</td>\n",
              "      <td>0</td>\n",
              "      <td>OC12</td>\n",
              "      <td>0</td>\n",
              "      <td>0</td>\n",
              "      <td>0</td>\n",
              "      <td>1</td>\n",
              "      <td>0</td>\n",
              "      <td>68</td>\n",
              "      <td>0</td>\n",
              "      <td>1.038462</td>\n",
              "    </tr>\n",
              "    <tr>\n",
              "      <th>183</th>\n",
              "      <td>DGN3</td>\n",
              "      <td>2.80</td>\n",
              "      <td>3.36</td>\n",
              "      <td>PRZ1</td>\n",
              "      <td>0</td>\n",
              "      <td>0</td>\n",
              "      <td>0</td>\n",
              "      <td>1</td>\n",
              "      <td>0</td>\n",
              "      <td>OC12</td>\n",
              "      <td>0</td>\n",
              "      <td>0</td>\n",
              "      <td>0</td>\n",
              "      <td>1</td>\n",
              "      <td>0</td>\n",
              "      <td>56</td>\n",
              "      <td>0</td>\n",
              "      <td>1.200000</td>\n",
              "    </tr>\n",
              "    <tr>\n",
              "      <th>203</th>\n",
              "      <td>DGN2</td>\n",
              "      <td>3.60</td>\n",
              "      <td>3.92</td>\n",
              "      <td>PRZ0</td>\n",
              "      <td>0</td>\n",
              "      <td>0</td>\n",
              "      <td>0</td>\n",
              "      <td>0</td>\n",
              "      <td>0</td>\n",
              "      <td>OC12</td>\n",
              "      <td>0</td>\n",
              "      <td>0</td>\n",
              "      <td>0</td>\n",
              "      <td>1</td>\n",
              "      <td>0</td>\n",
              "      <td>56</td>\n",
              "      <td>0</td>\n",
              "      <td>1.088889</td>\n",
              "    </tr>\n",
              "    <tr>\n",
              "      <th>254</th>\n",
              "      <td>DGN3</td>\n",
              "      <td>3.44</td>\n",
              "      <td>3.52</td>\n",
              "      <td>PRZ1</td>\n",
              "      <td>1</td>\n",
              "      <td>0</td>\n",
              "      <td>0</td>\n",
              "      <td>0</td>\n",
              "      <td>0</td>\n",
              "      <td>OC11</td>\n",
              "      <td>0</td>\n",
              "      <td>0</td>\n",
              "      <td>0</td>\n",
              "      <td>1</td>\n",
              "      <td>0</td>\n",
              "      <td>62</td>\n",
              "      <td>0</td>\n",
              "      <td>1.023256</td>\n",
              "    </tr>\n",
              "    <tr>\n",
              "      <th>395</th>\n",
              "      <td>DGN4</td>\n",
              "      <td>3.04</td>\n",
              "      <td>3.68</td>\n",
              "      <td>PRZ1</td>\n",
              "      <td>0</td>\n",
              "      <td>0</td>\n",
              "      <td>0</td>\n",
              "      <td>1</td>\n",
              "      <td>0</td>\n",
              "      <td>OC11</td>\n",
              "      <td>1</td>\n",
              "      <td>0</td>\n",
              "      <td>0</td>\n",
              "      <td>1</td>\n",
              "      <td>0</td>\n",
              "      <td>64</td>\n",
              "      <td>0</td>\n",
              "      <td>1.210526</td>\n",
              "    </tr>\n",
              "  </tbody>\n",
              "</table>\n",
              "</div>"
            ],
            "text/plain": [
              "      DGN  PRE4  PRE5  PRE6  PRE7  ...  PRE30  PRE32  AGE  Risk1Yr      TIFF\n",
              "11   DGN3  4.28  4.44  PRZ1     0  ...      1      0   58        0  1.037383\n",
              "77   DGN3  3.04  3.60  PRZ1     0  ...      1      0   62        1  1.184211\n",
              "154  DGN3  3.12  3.24  PRZ1     0  ...      1      0   68        0  1.038462\n",
              "183  DGN3  2.80  3.36  PRZ1     0  ...      1      0   56        0  1.200000\n",
              "203  DGN2  3.60  3.92  PRZ0     0  ...      1      0   56        0  1.088889\n",
              "254  DGN3  3.44  3.52  PRZ1     1  ...      1      0   62        0  1.023256\n",
              "395  DGN4  3.04  3.68  PRZ1     0  ...      1      0   64        0  1.210526\n",
              "\n",
              "[7 rows x 18 columns]"
            ]
          },
          "metadata": {
            "tags": []
          },
          "execution_count": 24
        }
      ]
    },
    {
      "cell_type": "code",
      "metadata": {
        "trusted": true,
        "id": "iSloV9ShfKW5"
      },
      "source": [
        "#удалим строки с некорректными данными\n",
        "df = df.drop(df[df['PRE4'] < df['PRE5']].index)"
      ],
      "execution_count": 25,
      "outputs": []
    },
    {
      "cell_type": "markdown",
      "metadata": {
        "id": "2Cr5QTL9_eeq"
      },
      "source": [
        "Так как в столбцах PRE6 и PRE14 у нас закодированы не именованные данные, а порядковые категориальные данные, то будем использовать one-hot encoding.\r\n",
        "Для PRE6 у нас закодировано состояние пациента, чем больше значение, тем хуже себя чувствует пациент. \r\n",
        "В PRE14 закодирован размер опухоли, с линейной зависимостью от имени категории. "
      ]
    },
    {
      "cell_type": "code",
      "metadata": {
        "id": "CqKgNbpd-ZSn"
      },
      "source": [
        "#Закодируем вручную, оставим последнюю цифру записей\r\n",
        "df['PRE6'] = df['PRE6'].str[-1:].astype(int)\r\n",
        "df['PRE14'] = df['PRE14'].str[-1:].astype(int)"
      ],
      "execution_count": 26,
      "outputs": []
    },
    {
      "cell_type": "code",
      "metadata": {
        "trusted": true,
        "id": "kPolVFKNfKW5"
      },
      "source": [
        "#one-hot-encoding\n",
        "#df_encoded = pd.get_dummies(df,columns = ['PRE6', 'PRE14'])"
      ],
      "execution_count": 27,
      "outputs": []
    },
    {
      "cell_type": "code",
      "metadata": {
        "trusted": true,
        "id": "8xI6BjDGfKW5"
      },
      "source": [
        "#закодируем целевую переменную, удалив DGN из строк\n",
        "df['DGN'] = df['DGN'].str[-1:].astype(int)"
      ],
      "execution_count": 28,
      "outputs": []
    },
    {
      "cell_type": "code",
      "metadata": {
        "trusted": true,
        "id": "xCA7Mwd-fKW5",
        "colab": {
          "base_uri": "https://localhost:8080/"
        },
        "outputId": "54c7af42-e376-473c-a21e-5dcbe1f7f1a7"
      },
      "source": [
        "#признаки\n",
        "df.columns"
      ],
      "execution_count": 29,
      "outputs": [
        {
          "output_type": "execute_result",
          "data": {
            "text/plain": [
              "Index(['DGN', 'PRE4', 'PRE5', 'PRE6', 'PRE7', 'PRE8', 'PRE9', 'PRE10', 'PRE11',\n",
              "       'PRE14', 'PRE17', 'PRE19', 'PRE25', 'PRE30', 'PRE32', 'AGE', 'Risk1Yr',\n",
              "       'TIFF'],\n",
              "      dtype='object')"
            ]
          },
          "metadata": {
            "tags": []
          },
          "execution_count": 29
        }
      ]
    },
    {
      "cell_type": "code",
      "metadata": {
        "trusted": true,
        "id": "cLq3wIcIfKW6",
        "colab": {
          "base_uri": "https://localhost:8080/",
          "height": 579
        },
        "outputId": "c22337c0-6727-4fb3-fd14-0344bcab4ef2"
      },
      "source": [
        "#построим таблицу корреляции\n",
        "plt.subplots(figsize=(10,10))\n",
        "sns.heatmap(df.corr(), square=True)\n",
        "plt.show()"
      ],
      "execution_count": 31,
      "outputs": [
        {
          "output_type": "display_data",
          "data": {
            "image/png": "[encoded data removed]",
            "text/plain": [
              "<Figure size 720x720 with 2 Axes>"
            ]
          },
          "metadata": {
            "tags": [],
            "needs_background": "light"
          }
        }
      ]
    },
    {
      "cell_type": "code",
      "metadata": {
        "trusted": true,
        "id": "PJPt5fXdfKW6"
      },
      "source": [
        "X = df.drop('DGN',axis=1)\n",
        "y = df['DGN']"
      ],
      "execution_count": 32,
      "outputs": []
    },
    {
      "cell_type": "code",
      "metadata": {
        "trusted": true,
        "id": "VsiY0SYCfKW6"
      },
      "source": [
        "#Нормализуем наши данные\n",
        "from sklearn.preprocessing import scale\n",
        "X_scaled = scale(np.array(X, dtype='float'), with_std=True, with_mean=True)"
      ],
      "execution_count": 33,
      "outputs": []
    },
    {
      "cell_type": "markdown",
      "metadata": {
        "id": "Zoi3FBY8fKW6"
      },
      "source": [
        "### 3. PCA"
      ]
    },
    {
      "cell_type": "code",
      "metadata": {
        "trusted": true,
        "id": "3YUV_Dr7fKW7"
      },
      "source": [
        "pca_2 = PCA(n_components=2)\n",
        "principalComponents = pca_2.fit_transform(X)\n",
        "principal_Df = pd.DataFrame(data = principalComponents\n",
        "             , columns = ['principal component 1', 'principal component 2'])"
      ],
      "execution_count": 34,
      "outputs": []
    },
    {
      "cell_type": "code",
      "metadata": {
        "trusted": true,
        "id": "6MnLYxzsfKW7",
        "colab": {
          "base_uri": "https://localhost:8080/",
          "height": 623
        },
        "outputId": "9008f41e-6cc8-4340-aed0-a85d24c8a01a"
      },
      "source": [
        "plt.figure(figsize=(16,10))\n",
        "sns.scatterplot(\n",
        "    x=\"principal component 1\", y=\"principal component 2\",\n",
        "    hue=y,\n",
        "    palette=sns.color_palette(\"Set2\", 4),\n",
        "    data=principal_Df,\n",
        "    legend=\"full\",\n",
        "    alpha=1\n",
        ")"
      ],
      "execution_count": 35,
      "outputs": [
        {
          "output_type": "execute_result",
          "data": {
            "text/plain": [
              "<matplotlib.axes._subplots.AxesSubplot at 0x7f1fc5212358>"
            ]
          },
          "metadata": {
            "tags": []
          },
          "execution_count": 35
        },
        {
          "output_type": "display_data",
          "data": {
            "image/png": "[encoded data removed]",
            "text/plain": [
              "<Figure size 1152x720 with 1 Axes>"
            ]
          },
          "metadata": {
            "tags": [],
            "needs_background": "light"
          }
        }
      ]
    },
    {
      "cell_type": "markdown",
      "metadata": {
        "id": "PKSF8bxcfKW7"
      },
      "source": [
        "### 4. Data augmentation : SMOTE,ADASYN, Tomen links"
      ]
    },
    {
      "cell_type": "code",
      "metadata": {
        "trusted": true,
        "id": "RaLa45b7fKW7",
        "colab": {
          "base_uri": "https://localhost:8080/"
        },
        "outputId": "6544b432-4866-4461-8a08-86e859042f0b"
      },
      "source": [
        "from imblearn.over_sampling import SMOTE,ADASYN\n",
        "from sklearn.model_selection import train_test_split\n",
        "from imblearn.under_sampling import TomekLinks"
      ],
      "execution_count": 36,
      "outputs": [
        {
          "output_type": "stream",
          "text": [
            "/usr/local/lib/python3.6/dist-packages/sklearn/externals/six.py:31: FutureWarning: The module is deprecated in version 0.21 and will be removed in version 0.23 since we've dropped support for Python 2.7. Please rely on the official version of six (https://pypi.org/project/six/).\n",
            "  \"(https://pypi.org/project/six/).\", FutureWarning)\n",
            "/usr/local/lib/python3.6/dist-packages/sklearn/utils/deprecation.py:144: FutureWarning: The sklearn.neighbors.base module is  deprecated in version 0.22 and will be removed in version 0.24. The corresponding classes / functions should instead be imported from sklearn.neighbors. Anything that cannot be imported from sklearn.neighbors is now part of the private API.\n",
            "  warnings.warn(message, FutureWarning)\n"
          ],
          "name": "stderr"
        }
      ]
    },
    {
      "cell_type": "code",
      "metadata": {
        "trusted": true,
        "id": "FbEgZplYfKW8",
        "colab": {
          "base_uri": "https://localhost:8080/"
        },
        "outputId": "012638db-3491-4e27-aba1-d65046d758db"
      },
      "source": [
        "#Разделим выборку\n",
        "X_train, X_test, y_train, y_test = train_test_split(X_scaled, y, test_size=0.2, random_state=42, stratify=y )\n",
        "print(\"X_train dataset: \", X_train.shape)\n",
        "print(\"y_train dataset: \", y_train.shape)\n",
        "print(\"X_test dataset: \", X_test.shape)\n",
        "print(\"y_test dataset: \", y_test.shape)"
      ],
      "execution_count": 37,
      "outputs": [
        {
          "output_type": "stream",
          "text": [
            "X_train dataset:  (352, 17)\n",
            "y_train dataset:  (352,)\n",
            "X_test dataset:  (89, 17)\n",
            "y_test dataset:  (89,)\n"
          ],
          "name": "stdout"
        }
      ]
    },
    {
      "cell_type": "code",
      "metadata": {
        "trusted": true,
        "id": "GuKX03x3fKW8",
        "colab": {
          "base_uri": "https://localhost:8080/",
          "height": 35
        },
        "outputId": "9febd74c-5081-46f1-f6e6-d04c841d4305"
      },
      "source": [
        "# remove Tomek links\n",
        "\n",
        "#удаление данных ухудшило результат, датасет и так очень маленький\n",
        "'''\n",
        "tl = TomekLinks(sampling_strategy = 'majority') #поскольку у нас один из классов представлен лучше остальных, будем убирать примеры из него\n",
        "X_train_tl, y_train_tl = tl.fit_sample(X_train, y_train)\n",
        "'''"
      ],
      "execution_count": 38,
      "outputs": [
        {
          "output_type": "execute_result",
          "data": {
            "application/vnd.google.colaboratory.intrinsic+json": {
              "type": "string"
            },
            "text/plain": [
              "\"\\ntl = TomekLinks(sampling_strategy = 'majority') #поскольку у нас один из классов представлен лучше остальных, будем убирать примеры из него\\nX_train_tl, y_train_tl = tl.fit_sample(X_train, y_train)\\n\""
            ]
          },
          "metadata": {
            "tags": []
          },
          "execution_count": 38
        }
      ]
    },
    {
      "cell_type": "code",
      "metadata": {
        "trusted": true,
        "id": "7KA8KzSnfKW8",
        "colab": {
          "base_uri": "https://localhost:8080/"
        },
        "outputId": "5b559a7a-ebf3-4d26-dfc2-d2617ba89036"
      },
      "source": [
        "y_train.value_counts()"
      ],
      "execution_count": 39,
      "outputs": [
        {
          "output_type": "execute_result",
          "data": {
            "text/plain": [
              "3    268\n",
              "2     38\n",
              "4     35\n",
              "5     11\n",
              "Name: DGN, dtype: int64"
            ]
          },
          "metadata": {
            "tags": []
          },
          "execution_count": 39
        }
      ]
    },
    {
      "cell_type": "code",
      "metadata": {
        "trusted": true,
        "id": "3Kb2sO-hfKW9",
        "colab": {
          "base_uri": "https://localhost:8080/"
        },
        "outputId": "fc6e99a6-e100-4356-8952-0618b0036f5d"
      },
      "source": [
        "print(\"Before OverSampling, y_train values:\\n\",(y_train.value_counts()))\n",
        "\n",
        "sm = SMOTE(random_state=42) #,sampling_strategy='minority')\n",
        "X_train_sm, y_train_sm = sm.fit_resample(X_train, y_train)\n",
        "\n",
        "augm = ADASYN(random_state=42)\n",
        "X_train_as, y_train_as = augm.fit_resample(X_train, y_train)\n",
        "\n",
        "print('\\nAfter smote OverSampling, the shape of train_X: {}'.format(X_train_sm.shape))\n",
        "print('After smote OverSampling, the shape of train_y: {} \\n'.format(y_train_sm.shape))\n",
        "\n",
        "print(\"After SMOTE OverSampling, y_train values:\\n\",(pd.Series(data=y_train_sm).value_counts()))\n",
        "\n",
        "#print('After adasyn OverSampling, the shape of train_X: {}'.format(X_train_as.shape))\n",
        "#print('After adasyn OverSampling, the shape of train_y: {} \\n'.format(y_train_as.shape))\n",
        "\n",
        "#print(\"After ADASYN OverSampling, y_train values:\\n\",(pd.Series(data=y_train_as).value_counts())"
      ],
      "execution_count": 40,
      "outputs": [
        {
          "output_type": "stream",
          "text": [
            "Before OverSampling, y_train values:\n",
            " 3    268\n",
            "2     38\n",
            "4     35\n",
            "5     11\n",
            "Name: DGN, dtype: int64\n",
            "\n",
            "After smote OverSampling, the shape of train_X: (1072, 17)\n",
            "After smote OverSampling, the shape of train_y: (1072,) \n",
            "\n",
            "After SMOTE OverSampling, y_train values:\n",
            " 5    268\n",
            "4    268\n",
            "3    268\n",
            "2    268\n",
            "dtype: int64\n"
          ],
          "name": "stdout"
        },
        {
          "output_type": "stream",
          "text": [
            "/usr/local/lib/python3.6/dist-packages/sklearn/utils/deprecation.py:87: FutureWarning: Function safe_indexing is deprecated; safe_indexing is deprecated in version 0.22 and will be removed in version 0.24.\n",
            "  warnings.warn(msg, category=FutureWarning)\n",
            "/usr/local/lib/python3.6/dist-packages/sklearn/utils/deprecation.py:87: FutureWarning: Function safe_indexing is deprecated; safe_indexing is deprecated in version 0.22 and will be removed in version 0.24.\n",
            "  warnings.warn(msg, category=FutureWarning)\n",
            "/usr/local/lib/python3.6/dist-packages/sklearn/utils/deprecation.py:87: FutureWarning: Function safe_indexing is deprecated; safe_indexing is deprecated in version 0.22 and will be removed in version 0.24.\n",
            "  warnings.warn(msg, category=FutureWarning)\n",
            "/usr/local/lib/python3.6/dist-packages/sklearn/utils/deprecation.py:87: FutureWarning: Function safe_indexing is deprecated; safe_indexing is deprecated in version 0.22 and will be removed in version 0.24.\n",
            "  warnings.warn(msg, category=FutureWarning)\n",
            "/usr/local/lib/python3.6/dist-packages/sklearn/utils/deprecation.py:87: FutureWarning: Function safe_indexing is deprecated; safe_indexing is deprecated in version 0.22 and will be removed in version 0.24.\n",
            "  warnings.warn(msg, category=FutureWarning)\n",
            "/usr/local/lib/python3.6/dist-packages/sklearn/utils/deprecation.py:87: FutureWarning: Function safe_indexing is deprecated; safe_indexing is deprecated in version 0.22 and will be removed in version 0.24.\n",
            "  warnings.warn(msg, category=FutureWarning)\n"
          ],
          "name": "stderr"
        }
      ]
    },
    {
      "cell_type": "markdown",
      "metadata": {
        "id": "Ko90OG8LfKW-"
      },
      "source": [
        "### 5. Models"
      ]
    },
    {
      "cell_type": "markdown",
      "metadata": {
        "id": "S27LJVbZfKW-"
      },
      "source": [
        "##### 5.1 KNN"
      ]
    },
    {
      "cell_type": "code",
      "metadata": {
        "trusted": true,
        "id": "cJ9mHD6PfKW-",
        "colab": {
          "base_uri": "https://localhost:8080/"
        },
        "outputId": "48e608c1-da0b-4e21-e500-a91e3b195188"
      },
      "source": [
        "knn = KNeighborsClassifier()\n",
        "# Зададим сетку - среди каких значений выбирать наилучший параметр.\n",
        "random_grid = {'n_neighbors': np.array(np.linspace(1, 20, 1), dtype='int'),\n",
        "           'weights': ['uniform', 'distance'] } #,\n",
        "            # 'metric': ['EuclideanDistance', 'ManhattanDistance']} # перебираем по параметру <<n_neighbors>>, по сетке заданной np.linspace(2, 100, 10)\n",
        "rs = RandomizedSearchCV(knn, random_grid, cv=5)\n",
        "rs.fit(X_train_sm, y_train_sm)"
      ],
      "execution_count": 41,
      "outputs": [
        {
          "output_type": "stream",
          "text": [
            "/usr/local/lib/python3.6/dist-packages/sklearn/model_selection/_search.py:281: UserWarning: The total space of parameters 2 is smaller than n_iter=10. Running 2 iterations. For exhaustive searches, use GridSearchCV.\n",
            "  % (grid_size, self.n_iter, grid_size), UserWarning)\n"
          ],
          "name": "stderr"
        },
        {
          "output_type": "execute_result",
          "data": {
            "text/plain": [
              "RandomizedSearchCV(cv=5, error_score=nan,\n",
              "                   estimator=KNeighborsClassifier(algorithm='auto',\n",
              "                                                  leaf_size=30,\n",
              "                                                  metric='minkowski',\n",
              "                                                  metric_params=None,\n",
              "                                                  n_jobs=None, n_neighbors=5,\n",
              "                                                  p=2, weights='uniform'),\n",
              "                   iid='deprecated', n_iter=10, n_jobs=None,\n",
              "                   param_distributions={'n_neighbors': array([1]),\n",
              "                                        'weights': ['uniform', 'distance']},\n",
              "                   pre_dispatch='2*n_jobs', random_state=None, refit=True,\n",
              "                   return_train_score=False, scoring=None, verbose=0)"
            ]
          },
          "metadata": {
            "tags": []
          },
          "execution_count": 41
        }
      ]
    },
    {
      "cell_type": "code",
      "metadata": {
        "trusted": true,
        "id": "un7GkUe9fKW-",
        "colab": {
          "base_uri": "https://localhost:8080/"
        },
        "outputId": "47c1dbe1-bb5e-4215-fb61-89c0fe41d87b"
      },
      "source": [
        "print(rs.best_params_, rs.best_score_)"
      ],
      "execution_count": 42,
      "outputs": [
        {
          "output_type": "stream",
          "text": [
            "{'weights': 'uniform', 'n_neighbors': 1} 0.8712931971310585\n"
          ],
          "name": "stdout"
        }
      ]
    },
    {
      "cell_type": "code",
      "metadata": {
        "trusted": true,
        "id": "_EaSrAj9fKW_"
      },
      "source": [
        "clf_knn = KNeighborsClassifier(**rs.best_params_)\n",
        "clf_knn.fit(X_train_sm, y_train_sm)\n",
        "knn_pred = clf_knn.predict(X_test)"
      ],
      "execution_count": 43,
      "outputs": []
    },
    {
      "cell_type": "code",
      "metadata": {
        "trusted": true,
        "id": "OBMDwFIgfKW_",
        "colab": {
          "base_uri": "https://localhost:8080/"
        },
        "outputId": "db0b6f1f-ad35-419d-ef21-09f97249ba20"
      },
      "source": [
        "print(classification_report(knn_pred,y_test))"
      ],
      "execution_count": 44,
      "outputs": [
        {
          "output_type": "stream",
          "text": [
            "              precision    recall  f1-score   support\n",
            "\n",
            "           2       0.20      0.13      0.16        15\n",
            "           3       0.66      0.79      0.72        57\n",
            "           4       0.33      0.30      0.32        10\n",
            "           5       0.00      0.00      0.00         7\n",
            "\n",
            "    accuracy                           0.56        89\n",
            "   macro avg       0.30      0.31      0.30        89\n",
            "weighted avg       0.49      0.56      0.52        89\n",
            "\n"
          ],
          "name": "stdout"
        }
      ]
    },
    {
      "cell_type": "markdown",
      "metadata": {
        "id": "RfDcNQVZfKW_"
      },
      "source": [
        "##### 5.2 Logistic Regression"
      ]
    },
    {
      "cell_type": "code",
      "metadata": {
        "trusted": true,
        "id": "HnR5jsfUfKXA",
        "colab": {
          "base_uri": "https://localhost:8080/"
        },
        "outputId": "5bbdc25b-f76e-4f86-eeab-8f305ff0e768"
      },
      "source": [
        "# Зададим сетку - среди каких значений выбирать наилучший параметр.\n",
        "lr_param_grid = {\n",
        "    \"C\":list(np.linspace(0.01,1,40)), \n",
        "    \"penalty\":[\"l1\",\"l2\"], \n",
        "    \"solver\" : ['lbfgs', 'liblinear']\n",
        "}\n",
        "rs = RandomizedSearchCV(LogisticRegression(), lr_param_grid, cv=5)\n",
        "rs.fit(X_train_sm, y_train_sm)"
      ],
      "execution_count": 45,
      "outputs": [
        {
          "output_type": "stream",
          "text": [
            "/usr/local/lib/python3.6/dist-packages/sklearn/model_selection/_validation.py:536: FitFailedWarning: Estimator fit failed. The score on this train-test partition for these parameters will be set to nan. Details: \n",
            "ValueError: Solver lbfgs supports only 'l2' or 'none' penalties, got l1 penalty.\n",
            "\n",
            "  FitFailedWarning)\n",
            "/usr/local/lib/python3.6/dist-packages/sklearn/model_selection/_validation.py:536: FitFailedWarning: Estimator fit failed. The score on this train-test partition for these parameters will be set to nan. Details: \n",
            "ValueError: Solver lbfgs supports only 'l2' or 'none' penalties, got l1 penalty.\n",
            "\n",
            "  FitFailedWarning)\n"
          ],
          "name": "stderr"
        },
        {
          "output_type": "execute_result",
          "data": {
            "text/plain": [
              "RandomizedSearchCV(cv=5, error_score=nan,\n",
              "                   estimator=LogisticRegression(C=1.0, class_weight=None,\n",
              "                                                dual=False, fit_intercept=True,\n",
              "                                                intercept_scaling=1,\n",
              "                                                l1_ratio=None, max_iter=100,\n",
              "                                                multi_class='auto', n_jobs=None,\n",
              "                                                penalty='l2', random_state=None,\n",
              "                                                solver='lbfgs', tol=0.0001,\n",
              "                                                verbose=0, warm_start=False),\n",
              "                   iid='deprecated', n_iter=10, n_jobs=None,\n",
              "                   param_distributions={'C':...\n",
              "                                              0.4923076923076923,\n",
              "                                              0.5176923076923077,\n",
              "                                              0.5430769230769231,\n",
              "                                              0.5684615384615385,\n",
              "                                              0.5938461538461538,\n",
              "                                              0.6192307692307693,\n",
              "                                              0.6446153846153846, 0.67,\n",
              "                                              0.6953846153846154,\n",
              "                                              0.7207692307692307,\n",
              "                                              0.7461538461538462, ...],\n",
              "                                        'penalty': ['l1', 'l2'],\n",
              "                                        'solver': ['lbfgs', 'liblinear']},\n",
              "                   pre_dispatch='2*n_jobs', random_state=None, refit=True,\n",
              "                   return_train_score=False, scoring=None, verbose=0)"
            ]
          },
          "metadata": {
            "tags": []
          },
          "execution_count": 45
        }
      ]
    },
    {
      "cell_type": "code",
      "metadata": {
        "trusted": true,
        "id": "N1F7oEvOfKXA",
        "colab": {
          "base_uri": "https://localhost:8080/"
        },
        "outputId": "f049a515-0001-4e1e-c2c4-119cdbb8e95a"
      },
      "source": [
        "rs.best_params_"
      ],
      "execution_count": 46,
      "outputs": [
        {
          "output_type": "execute_result",
          "data": {
            "text/plain": [
              "{'C': 0.9492307692307692, 'penalty': 'l2', 'solver': 'liblinear'}"
            ]
          },
          "metadata": {
            "tags": []
          },
          "execution_count": 46
        }
      ]
    },
    {
      "cell_type": "code",
      "metadata": {
        "trusted": true,
        "id": "vRdWsvwffKXA"
      },
      "source": [
        "lr = LogisticRegression(**rs.best_params_)\n",
        "lr.fit(X_train_sm,y_train_sm)\n",
        "lr_pred = lr.predict(X_test)"
      ],
      "execution_count": 47,
      "outputs": []
    },
    {
      "cell_type": "code",
      "metadata": {
        "trusted": true,
        "id": "uzHyzSBWfKXA",
        "colab": {
          "base_uri": "https://localhost:8080/"
        },
        "outputId": "55c14f87-5709-48c5-904e-b29d39772d66"
      },
      "source": [
        "print(classification_report(lr_pred,y_test))"
      ],
      "execution_count": 48,
      "outputs": [
        {
          "output_type": "stream",
          "text": [
            "              precision    recall  f1-score   support\n",
            "\n",
            "           2       0.20      0.11      0.14        18\n",
            "           3       0.35      0.77      0.48        31\n",
            "           4       0.33      0.14      0.19        22\n",
            "           5       0.00      0.00      0.00        18\n",
            "\n",
            "    accuracy                           0.33        89\n",
            "   macro avg       0.22      0.26      0.21        89\n",
            "weighted avg       0.25      0.33      0.25        89\n",
            "\n"
          ],
          "name": "stdout"
        }
      ]
    },
    {
      "cell_type": "markdown",
      "metadata": {
        "id": "pFkHdI7-fKXB"
      },
      "source": [
        "##### 5.3 SVM"
      ]
    },
    {
      "cell_type": "code",
      "metadata": {
        "trusted": true,
        "id": "Grn0y8zwfKXB",
        "colab": {
          "base_uri": "https://localhost:8080/"
        },
        "outputId": "fbd48f90-a272-4aed-ce31-97bcfacacc31"
      },
      "source": [
        "# Зададим сетку - среди каких значений выбирать наилучший параметр.\n",
        "svm_param_grid = {'C': np.array(np.linspace(1, 100, 5), dtype='int') ,\n",
        "            'kernel': ['poly','rbf','sigmoid'],\n",
        "            'decision_function_shape' : ['ovo','ovr']}\n",
        "            #'metric': ['EuclideanDistance', 'ManhattanDistance']} # перебираем по параметру <<n_neighbors>>, по сетке заданной np.linspace(2, 100, 10)\n",
        "rs = RandomizedSearchCV(SVC(), svm_param_grid, cv=5)\n",
        "rs.fit(X_train_sm, y_train_sm)"
      ],
      "execution_count": 49,
      "outputs": [
        {
          "output_type": "execute_result",
          "data": {
            "text/plain": [
              "RandomizedSearchCV(cv=5, error_score=nan,\n",
              "                   estimator=SVC(C=1.0, break_ties=False, cache_size=200,\n",
              "                                 class_weight=None, coef0=0.0,\n",
              "                                 decision_function_shape='ovr', degree=3,\n",
              "                                 gamma='scale', kernel='rbf', max_iter=-1,\n",
              "                                 probability=False, random_state=None,\n",
              "                                 shrinking=True, tol=0.001, verbose=False),\n",
              "                   iid='deprecated', n_iter=10, n_jobs=None,\n",
              "                   param_distributions={'C': array([  1,  25,  50,  75, 100]),\n",
              "                                        'decision_function_shape': ['ovo',\n",
              "                                                                    'ovr'],\n",
              "                                        'kernel': ['poly', 'rbf', 'sigmoid']},\n",
              "                   pre_dispatch='2*n_jobs', random_state=None, refit=True,\n",
              "                   return_train_score=False, scoring=None, verbose=0)"
            ]
          },
          "metadata": {
            "tags": []
          },
          "execution_count": 49
        }
      ]
    },
    {
      "cell_type": "code",
      "metadata": {
        "trusted": true,
        "id": "4rJ-KnaBfKXB",
        "colab": {
          "base_uri": "https://localhost:8080/"
        },
        "outputId": "331140e5-5322-418e-9306-037e80e05997"
      },
      "source": [
        "print(rs.best_params_, rs.best_score_)"
      ],
      "execution_count": 50,
      "outputs": [
        {
          "output_type": "stream",
          "text": [
            "{'kernel': 'rbf', 'decision_function_shape': 'ovo', 'C': 50} 0.9002086502934145\n"
          ],
          "name": "stdout"
        }
      ]
    },
    {
      "cell_type": "code",
      "metadata": {
        "trusted": true,
        "id": "20hTUCs7fKXC"
      },
      "source": [
        "svm_clf = SVC(**rs.best_params_)\n",
        "svm_clf.fit(X_train_sm, y_train_sm)\n",
        "svm_pred = svm_clf.predict(X_test)"
      ],
      "execution_count": 51,
      "outputs": []
    },
    {
      "cell_type": "code",
      "metadata": {
        "trusted": true,
        "id": "mYbYHg5EfKXC",
        "colab": {
          "base_uri": "https://localhost:8080/"
        },
        "outputId": "046492c7-e478-4b9c-9abe-e1ae3cf4ddae"
      },
      "source": [
        "print(classification_report(svm_pred,y_test))"
      ],
      "execution_count": 52,
      "outputs": [
        {
          "output_type": "stream",
          "text": [
            "              precision    recall  f1-score   support\n",
            "\n",
            "           2       0.20      0.11      0.14        18\n",
            "           3       0.74      0.81      0.77        62\n",
            "           4       0.22      0.40      0.29         5\n",
            "           5       0.00      0.00      0.00         4\n",
            "\n",
            "    accuracy                           0.61        89\n",
            "   macro avg       0.29      0.33      0.30        89\n",
            "weighted avg       0.57      0.61      0.58        89\n",
            "\n"
          ],
          "name": "stdout"
        }
      ]
    },
    {
      "cell_type": "markdown",
      "metadata": {
        "id": "OEcwQuf-fKXC"
      },
      "source": [
        "Из отчетов классификации видно, что ни один из классификаторов не смог настроится на распознание самого малочисленного класса. Возможно стоило его так же удалить и классифицировать оставшиеся 3 класса"
      ]
    },
    {
      "cell_type": "markdown",
      "metadata": {
        "id": "wc5bGvOOfKXG"
      },
      "source": [
        "##### 5.4 Random Forest"
      ]
    },
    {
      "cell_type": "code",
      "metadata": {
        "trusted": true,
        "id": "4dVzF4f1fKXG",
        "colab": {
          "base_uri": "https://localhost:8080/"
        },
        "outputId": "ed3f1986-0c13-4522-86b6-58ea0fa06a5c"
      },
      "source": [
        "param_grid = {\n",
        "    'max_depth': [i for i in range(3, 10)],\n",
        "    'min_samples_split': [i for i in range(2, 10)],\n",
        "    'max_features': [i for i in range(2,5)],\n",
        "    'criterion' : ['gini', 'entropy'],\n",
        "    'bootstrap':[True, False],\n",
        "    'min_samples_leaf': [i for i in range(1,5)]\n",
        "}\n",
        "\n",
        "# инициализируем случайный лес с перебором по кросс-вал на выбранных выше праметрах\n",
        "rs = RandomizedSearchCV(RandomForestClassifier(), param_grid, verbose=2, n_jobs=-1)\n",
        "rs.fit(X_train_sm, y_train_sm)\n",
        "\n",
        "print(rs.best_params_, rs.best_score_)"
      ],
      "execution_count": 53,
      "outputs": [
        {
          "output_type": "stream",
          "text": [
            "Fitting 5 folds for each of 10 candidates, totalling 50 fits\n"
          ],
          "name": "stdout"
        },
        {
          "output_type": "stream",
          "text": [
            "[Parallel(n_jobs=-1)]: Using backend LokyBackend with 2 concurrent workers.\n",
            "[Parallel(n_jobs=-1)]: Done  37 tasks      | elapsed:    7.3s\n",
            "[Parallel(n_jobs=-1)]: Done  50 out of  50 | elapsed:    9.4s finished\n"
          ],
          "name": "stderr"
        },
        {
          "output_type": "stream",
          "text": [
            "{'min_samples_split': 3, 'min_samples_leaf': 1, 'max_features': 3, 'max_depth': 9, 'criterion': 'entropy', 'bootstrap': True} 0.8601260595522712\n"
          ],
          "name": "stdout"
        }
      ]
    },
    {
      "cell_type": "code",
      "metadata": {
        "trusted": true,
        "id": "Gqj2JJ-LfKXG",
        "colab": {
          "base_uri": "https://localhost:8080/"
        },
        "outputId": "9c7e499e-678c-4c9d-e1c8-f161ab6b2514"
      },
      "source": [
        "rf_reg = RandomForestClassifier(**rs.best_params_)\n",
        "rf_reg.fit(X_train_sm, y_train_sm)\n",
        "pred_rf = rf_reg.predict(X_test)\n",
        "print(classification_report(pred_rf,y_test))"
      ],
      "execution_count": 54,
      "outputs": [
        {
          "output_type": "stream",
          "text": [
            "              precision    recall  f1-score   support\n",
            "\n",
            "           2       0.00      0.00      0.00        10\n",
            "           3       0.72      0.78      0.75        63\n",
            "           4       0.22      0.18      0.20        11\n",
            "           5       0.00      0.00      0.00         5\n",
            "\n",
            "    accuracy                           0.57        89\n",
            "   macro avg       0.24      0.24      0.24        89\n",
            "weighted avg       0.54      0.57      0.55        89\n",
            "\n"
          ],
          "name": "stdout"
        }
      ]
    },
    {
      "cell_type": "markdown",
      "metadata": {
        "id": "FnabIH3xfKXC"
      },
      "source": [
        "##### 5.5 Polynoms"
      ]
    },
    {
      "cell_type": "code",
      "metadata": {
        "trusted": true,
        "id": "bBhIB6RdfKXD"
      },
      "source": [
        "PolynomialFeatures\n",
        "trans = PolynomialFeatures(degree=2)\n",
        "X_pol = trans.fit_transform(X_scaled)"
      ],
      "execution_count": 55,
      "outputs": []
    },
    {
      "cell_type": "code",
      "metadata": {
        "trusted": true,
        "id": "DFRBJ8uqfKXD",
        "colab": {
          "base_uri": "https://localhost:8080/"
        },
        "outputId": "964f6db1-8502-4283-dd95-5b5e1b38c605"
      },
      "source": [
        "X_pol.shape"
      ],
      "execution_count": 56,
      "outputs": [
        {
          "output_type": "execute_result",
          "data": {
            "text/plain": [
              "(441, 171)"
            ]
          },
          "metadata": {
            "tags": []
          },
          "execution_count": 56
        }
      ]
    },
    {
      "cell_type": "code",
      "metadata": {
        "trusted": true,
        "id": "mDQGnVbafKXD"
      },
      "source": [
        "X_train, X_test, y_train, y_test = train_test_split(X_pol, y, test_size=0.2, random_state=42, stratify=y )"
      ],
      "execution_count": 57,
      "outputs": []
    },
    {
      "cell_type": "code",
      "metadata": {
        "trusted": true,
        "id": "v67aJCBPfKXD",
        "colab": {
          "base_uri": "https://localhost:8080/"
        },
        "outputId": "2ab4fe0e-d5b4-4c3c-ae34-34d785e62248"
      },
      "source": [
        "# Зададим сетку - среди каких значений выбирать наилучший параметр.\n",
        "svm_param_grid = {'C': np.array(np.linspace(1, 100, 5), dtype='int') ,\n",
        "            'kernel': ['poly','rbf','sigmoid'],\n",
        "            'decision_function_shape' : ['ovo','ovr']}\n",
        "            #'metric': ['EuclideanDistance', 'ManhattanDistance']} # перебираем по параметру <<n_neighbors>>, по сетке заданной np.linspace(2, 100, 10)\n",
        "rs = RandomizedSearchCV(SVC(), svm_param_grid, cv=5)\n",
        "rs.fit(X_train, y_train)"
      ],
      "execution_count": 58,
      "outputs": [
        {
          "output_type": "execute_result",
          "data": {
            "text/plain": [
              "RandomizedSearchCV(cv=5, error_score=nan,\n",
              "                   estimator=SVC(C=1.0, break_ties=False, cache_size=200,\n",
              "                                 class_weight=None, coef0=0.0,\n",
              "                                 decision_function_shape='ovr', degree=3,\n",
              "                                 gamma='scale', kernel='rbf', max_iter=-1,\n",
              "                                 probability=False, random_state=None,\n",
              "                                 shrinking=True, tol=0.001, verbose=False),\n",
              "                   iid='deprecated', n_iter=10, n_jobs=None,\n",
              "                   param_distributions={'C': array([  1,  25,  50,  75, 100]),\n",
              "                                        'decision_function_shape': ['ovo',\n",
              "                                                                    'ovr'],\n",
              "                                        'kernel': ['poly', 'rbf', 'sigmoid']},\n",
              "                   pre_dispatch='2*n_jobs', random_state=None, refit=True,\n",
              "                   return_train_score=False, scoring=None, verbose=0)"
            ]
          },
          "metadata": {
            "tags": []
          },
          "execution_count": 58
        }
      ]
    },
    {
      "cell_type": "code",
      "metadata": {
        "trusted": true,
        "id": "jKkbaWuAfKXE"
      },
      "source": [
        "svm_clf = SVC(**rs.best_params_)\n",
        "svm_clf.fit(X_train, y_train)\n",
        "svm_pred = svm_clf.predict(X_test)"
      ],
      "execution_count": 59,
      "outputs": []
    },
    {
      "cell_type": "code",
      "metadata": {
        "trusted": true,
        "id": "MkqTgRnSfKXE",
        "colab": {
          "base_uri": "https://localhost:8080/"
        },
        "outputId": "ed3212d0-e019-441a-e1a5-ee29343830ad"
      },
      "source": [
        "print(classification_report(svm_pred,y_test))"
      ],
      "execution_count": 60,
      "outputs": [
        {
          "output_type": "stream",
          "text": [
            "              precision    recall  f1-score   support\n",
            "\n",
            "           2       0.00      0.00      0.00         0\n",
            "           3       1.00      0.76      0.87        89\n",
            "           4       0.00      0.00      0.00         0\n",
            "           5       0.00      0.00      0.00         0\n",
            "\n",
            "    accuracy                           0.76        89\n",
            "   macro avg       0.25      0.19      0.22        89\n",
            "weighted avg       1.00      0.76      0.87        89\n",
            "\n"
          ],
          "name": "stdout"
        },
        {
          "output_type": "stream",
          "text": [
            "/usr/local/lib/python3.6/dist-packages/sklearn/metrics/_classification.py:1272: UndefinedMetricWarning: Recall and F-score are ill-defined and being set to 0.0 in labels with no true samples. Use `zero_division` parameter to control this behavior.\n",
            "  _warn_prf(average, modifier, msg_start, len(result))\n"
          ],
          "name": "stderr"
        }
      ]
    },
    {
      "cell_type": "markdown",
      "metadata": {
        "id": "2yVy3IUSfKXE"
      },
      "source": [
        "Без семплирования алгорим классификации показывает лучший результат, просто всегда предсказывая самый популярный класс."
      ]
    },
    {
      "cell_type": "markdown",
      "metadata": {
        "id": "3-56ucylfKXE"
      },
      "source": [
        "Попробуем SVM с полиномиальными признами на данных после oversampling"
      ]
    },
    {
      "cell_type": "code",
      "metadata": {
        "trusted": true,
        "id": "IkUDCLNqfKXF",
        "colab": {
          "base_uri": "https://localhost:8080/"
        },
        "outputId": "b09b5fce-e0bd-48b7-8a2c-3022a52460a3"
      },
      "source": [
        "X_train_pol_sm, y_train_pol_sm = sm.fit_resample(X_train, y_train)"
      ],
      "execution_count": 61,
      "outputs": [
        {
          "output_type": "stream",
          "text": [
            "/usr/local/lib/python3.6/dist-packages/sklearn/utils/deprecation.py:87: FutureWarning: Function safe_indexing is deprecated; safe_indexing is deprecated in version 0.22 and will be removed in version 0.24.\n",
            "  warnings.warn(msg, category=FutureWarning)\n",
            "/usr/local/lib/python3.6/dist-packages/sklearn/utils/deprecation.py:87: FutureWarning: Function safe_indexing is deprecated; safe_indexing is deprecated in version 0.22 and will be removed in version 0.24.\n",
            "  warnings.warn(msg, category=FutureWarning)\n",
            "/usr/local/lib/python3.6/dist-packages/sklearn/utils/deprecation.py:87: FutureWarning: Function safe_indexing is deprecated; safe_indexing is deprecated in version 0.22 and will be removed in version 0.24.\n",
            "  warnings.warn(msg, category=FutureWarning)\n"
          ],
          "name": "stderr"
        }
      ]
    },
    {
      "cell_type": "code",
      "metadata": {
        "trusted": true,
        "id": "UAW9IbT-fKXF",
        "colab": {
          "base_uri": "https://localhost:8080/"
        },
        "outputId": "e614752a-f826-4ace-a96a-2308fbc37fed"
      },
      "source": [
        " pd.Series(data=y_train_pol_sm).value_counts()"
      ],
      "execution_count": 62,
      "outputs": [
        {
          "output_type": "execute_result",
          "data": {
            "text/plain": [
              "5    268\n",
              "4    268\n",
              "3    268\n",
              "2    268\n",
              "dtype: int64"
            ]
          },
          "metadata": {
            "tags": []
          },
          "execution_count": 62
        }
      ]
    },
    {
      "cell_type": "code",
      "metadata": {
        "trusted": true,
        "id": "5MKcAuD3fKXF",
        "colab": {
          "base_uri": "https://localhost:8080/"
        },
        "outputId": "b1953648-f397-4a6f-8ab8-eaf0f130a151"
      },
      "source": [
        "# Зададим сетку - среди каких значений выбирать наилучший параметр.\n",
        "svm_param_grid = {'C': np.array(np.linspace(1, 100, 5), dtype='int') ,\n",
        "            'kernel': ['poly','rbf','sigmoid'],\n",
        "            'decision_function_shape' : ['ovo','ovr']}\n",
        "            #'metric': ['EuclideanDistance', 'ManhattanDistance']} # перебираем по параметру <<n_neighbors>>, по сетке заданной np.linspace(2, 100, 10)\n",
        "rs = RandomizedSearchCV(SVC(), svm_param_grid, cv=5)\n",
        "rs.fit(X_train_pol_sm, y_train_pol_sm)"
      ],
      "execution_count": 63,
      "outputs": [
        {
          "output_type": "execute_result",
          "data": {
            "text/plain": [
              "RandomizedSearchCV(cv=5, error_score=nan,\n",
              "                   estimator=SVC(C=1.0, break_ties=False, cache_size=200,\n",
              "                                 class_weight=None, coef0=0.0,\n",
              "                                 decision_function_shape='ovr', degree=3,\n",
              "                                 gamma='scale', kernel='rbf', max_iter=-1,\n",
              "                                 probability=False, random_state=None,\n",
              "                                 shrinking=True, tol=0.001, verbose=False),\n",
              "                   iid='deprecated', n_iter=10, n_jobs=None,\n",
              "                   param_distributions={'C': array([  1,  25,  50,  75, 100]),\n",
              "                                        'decision_function_shape': ['ovo',\n",
              "                                                                    'ovr'],\n",
              "                                        'kernel': ['poly', 'rbf', 'sigmoid']},\n",
              "                   pre_dispatch='2*n_jobs', random_state=None, refit=True,\n",
              "                   return_train_score=False, scoring=None, verbose=0)"
            ]
          },
          "metadata": {
            "tags": []
          },
          "execution_count": 63
        }
      ]
    },
    {
      "cell_type": "code",
      "metadata": {
        "trusted": true,
        "id": "8Fa13CvifKXF",
        "colab": {
          "base_uri": "https://localhost:8080/"
        },
        "outputId": "a8ee6441-bf1e-44f3-ddf8-563465ad0832"
      },
      "source": [
        "svm_clf = SVC(**rs.best_params_)\n",
        "svm_clf.fit(X_train_pol_sm, y_train_pol_sm)\n",
        "svm_pred = svm_clf.predict(X_test)\n",
        "print(classification_report(svm_pred,y_test))"
      ],
      "execution_count": 64,
      "outputs": [
        {
          "output_type": "stream",
          "text": [
            "              precision    recall  f1-score   support\n",
            "\n",
            "           2       0.30      0.14      0.19        21\n",
            "           3       0.72      0.82      0.77        60\n",
            "           4       0.22      0.40      0.29         5\n",
            "           5       0.00      0.00      0.00         3\n",
            "\n",
            "    accuracy                           0.61        89\n",
            "   macro avg       0.31      0.34      0.31        89\n",
            "weighted avg       0.57      0.61      0.58        89\n",
            "\n"
          ],
          "name": "stdout"
        }
      ]
    }
  ]
}